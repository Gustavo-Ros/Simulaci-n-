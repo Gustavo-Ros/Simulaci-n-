{
  "nbformat": 4,
  "nbformat_minor": 0,
  "metadata": {
    "colab": {
      "provenance": [],
      "authorship_tag": "ABX9TyNES8zC3BQqCacr8yifPXgX",
      "include_colab_link": true
    },
    "kernelspec": {
      "name": "python3",
      "display_name": "Python 3"
    },
    "language_info": {
      "name": "python"
    }
  },
  "cells": [
    {
      "cell_type": "markdown",
      "metadata": {
        "id": "view-in-github",
        "colab_type": "text"
      },
      "source": [
        "<a href=\"https://colab.research.google.com/github/Gustavo-Ros/Simulacion-1/blob/main/M%C3%A9todo_congruencial.ipynb\" target=\"_parent\"><img src=\"https://colab.research.google.com/assets/colab-badge.svg\" alt=\"Open In Colab\"/></a>"
      ]
    },
    {
      "cell_type": "markdown",
      "source": [
        "# MÉTODO CONGRUENCIAL\n",
        "(Lehmer, 1949)\n",
        "\n",
        "---\n",
        "\n",
        "1. Seleccionar semilla $\\hspace{2mm}X_n$\n",
        "2. Seleccionar constantes $\\hspace{2mm}a,c$ y $m$\n",
        "3. Aplicar el algoritmo $\\hspace{2mm}X_{n+1}=(aX_n+c)\\;\\;mod\\;\\;m$\n",
        "4. Tomar $X_n=X_{n+1}$ y regresar al paso 3\n",
        "\n",
        "**VENTAJAS**\n",
        "\n",
        "> Algoritmo sencillo de programar y ejecutar\n",
        "\n",
        "> Bajo costo computacional\n",
        "\n",
        "> Puede generar lista de números aleatorios con ciclos de vida grandes.\n",
        "\n",
        "**DESVENTAJAS**\n",
        "> La calidad de la lista y el ciclo de vida dependen de las constantes elegidas\n",
        "\n",
        "\n"
      ],
      "metadata": {
        "id": "ueQ081EV680x"
      }
    },
    {
      "cell_type": "markdown",
      "source": [
        "\n",
        "\n",
        "\n",
        "**OBSERVACIONES**: m define el ciclo de vida de los números aleatorios generados, ya que se está trabajando con la operación modulo (entre mas grande sea m, mayor será la cantidad de residuos posibles, funciona mejor para m muy grande o para m siendo un número primo)."
      ],
      "metadata": {
        "id": "6i78hLKbgVal"
      }
    },
    {
      "cell_type": "code",
      "execution_count": null,
      "metadata": {
        "colab": {
          "base_uri": "https://localhost:8080/"
        },
        "id": "cTW3Hqyo61NM",
        "outputId": "8e92455e-aad5-40ba-8a63-ce852cb23b88"
      },
      "outputs": [
        {
          "output_type": "stream",
          "name": "stdout",
          "text": [
            "Número de iteraciones:  25\n",
            "Semilla  Xn:  171\n",
            "Parámetro a:  59\n",
            "Párametro c:  13\n",
            "Módulo  m:  79\n",
            "\n",
            "Números generados:\n",
            "\n",
            "╒═════╤══════╤═════════╤════════════════╤═══════════╕\n",
            "│   n │   Xn │   aXn+c │   (aXn+c)mod m │     Xn/16 │\n",
            "╞═════╪══════╪═════════╪════════════════╪═══════════╡\n",
            "│   0 │  171 │   10102 │             69 │ 0.873418  │\n",
            "├─────┼──────┼─────────┼────────────────┼───────────┤\n",
            "│   1 │   69 │    4084 │             55 │ 0.696203  │\n",
            "├─────┼──────┼─────────┼────────────────┼───────────┤\n",
            "│   2 │   55 │    3258 │             19 │ 0.240506  │\n",
            "├─────┼──────┼─────────┼────────────────┼───────────┤\n",
            "│   3 │   19 │    1134 │             28 │ 0.35443   │\n",
            "├─────┼──────┼─────────┼────────────────┼───────────┤\n",
            "│   4 │   28 │    1665 │              6 │ 0.0759494 │\n",
            "├─────┼──────┼─────────┼────────────────┼───────────┤\n",
            "│   5 │    6 │     367 │             51 │ 0.64557   │\n",
            "├─────┼──────┼─────────┼────────────────┼───────────┤\n",
            "│   6 │   51 │    3022 │             20 │ 0.253165  │\n",
            "├─────┼──────┼─────────┼────────────────┼───────────┤\n",
            "│   7 │   20 │    1193 │              8 │ 0.101266  │\n",
            "├─────┼──────┼─────────┼────────────────┼───────────┤\n",
            "│   8 │    8 │     485 │             11 │ 0.139241  │\n",
            "├─────┼──────┼─────────┼────────────────┼───────────┤\n",
            "│   9 │   11 │     662 │             30 │ 0.379747  │\n",
            "├─────┼──────┼─────────┼────────────────┼───────────┤\n",
            "│  10 │   30 │    1783 │             45 │ 0.56962   │\n",
            "├─────┼──────┼─────────┼────────────────┼───────────┤\n",
            "│  11 │   45 │    2668 │             61 │ 0.772152  │\n",
            "├─────┼──────┼─────────┼────────────────┼───────────┤\n",
            "│  12 │   61 │    3612 │             57 │ 0.721519  │\n",
            "├─────┼──────┼─────────┼────────────────┼───────────┤\n",
            "│  13 │   57 │    3376 │             58 │ 0.734177  │\n",
            "├─────┼──────┼─────────┼────────────────┼───────────┤\n",
            "│  14 │   58 │    3435 │             38 │ 0.481013  │\n",
            "├─────┼──────┼─────────┼────────────────┼───────────┤\n",
            "│  15 │   38 │    2255 │             43 │ 0.544304  │\n",
            "├─────┼──────┼─────────┼────────────────┼───────────┤\n",
            "│  16 │   43 │    2550 │             22 │ 0.278481  │\n",
            "├─────┼──────┼─────────┼────────────────┼───────────┤\n",
            "│  17 │   22 │    1311 │             47 │ 0.594937  │\n",
            "├─────┼──────┼─────────┼────────────────┼───────────┤\n",
            "│  18 │   47 │    2786 │             21 │ 0.265823  │\n",
            "├─────┼──────┼─────────┼────────────────┼───────────┤\n",
            "│  19 │   21 │    1252 │             67 │ 0.848101  │\n",
            "├─────┼──────┼─────────┼────────────────┼───────────┤\n",
            "│  20 │   67 │    3966 │             16 │ 0.202532  │\n",
            "├─────┼──────┼─────────┼────────────────┼───────────┤\n",
            "│  21 │   16 │     957 │              9 │ 0.113924  │\n",
            "├─────┼──────┼─────────┼────────────────┼───────────┤\n",
            "│  22 │    9 │     544 │             70 │ 0.886076  │\n",
            "├─────┼──────┼─────────┼────────────────┼───────────┤\n",
            "│  23 │   70 │    4143 │             35 │ 0.443038  │\n",
            "├─────┼──────┼─────────┼────────────────┼───────────┤\n",
            "│  24 │   35 │    2078 │             24 │ 0.303797  │\n",
            "╘═════╧══════╧═════════╧════════════════╧═══════════╛\n"
          ]
        }
      ],
      "source": [
        "import pandas as pd\n",
        "import numpy as np\n",
        "from tabulate import tabulate\n",
        "#INGRESA SEMILLA Y CONSTANTES\n",
        "#iter=int(input(\"Cantidad de números aleatorios: \"))\n",
        "iter=int(input('Número de iteraciones:  '))\n",
        "xn=int(input('Semilla  Xn:  '))\n",
        "a=int(input('Parámetro a:  '))\n",
        "c=int(input('Párametro c:  '))\n",
        "m=int(input('Módulo  m:  '))\n",
        "\n",
        "#DATOS PARA TABLA\n",
        "data = []\n",
        "\n",
        "for i in range(0,iter):\n",
        "  prod=a*xn+c\n",
        "  mod=prod%m\n",
        "  xn1=mod/m\n",
        "  #IMPRIME TABLA\n",
        "  data.append([f\"{i}\", f\"{xn}\", f\"{prod}\", f\"{mod}\", f\"{xn1}\"])  #AGREGA DATOS EN DATAFRAME\n",
        "  xn=mod\n",
        "print('\\nNúmeros generados:\\n')\n",
        "headers = ['n', 'Xn', 'aXn+c', '(aXn+c)mod m', 'Xn/16']  #ENCABEZADOS\n",
        "data = pd.DataFrame(data, columns=headers)  #AGREGA ENCABEZADOS\n",
        "print(tabulate(data, headers=headers, tablefmt=\"fancy_grid\",showindex=False))\n"
      ]
    }
  ]
}