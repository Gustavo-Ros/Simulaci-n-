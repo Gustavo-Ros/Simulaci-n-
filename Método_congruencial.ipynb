{
  "nbformat": 4,
  "nbformat_minor": 0,
  "metadata": {
    "colab": {
      "provenance": [],
      "authorship_tag": "ABX9TyN2xGWUEHNF+hq7SofJM20a",
      "include_colab_link": true
    },
    "kernelspec": {
      "name": "python3",
      "display_name": "Python 3"
    },
    "language_info": {
      "name": "python"
    }
  },
  "cells": [
    {
      "cell_type": "markdown",
      "metadata": {
        "id": "view-in-github",
        "colab_type": "text"
      },
      "source": [
        "<a href=\"https://colab.research.google.com/github/Gustavo-Ros/Simulacion-1/blob/main/M%C3%A9todo_congruencial.ipynb\" target=\"_parent\"><img src=\"https://colab.research.google.com/assets/colab-badge.svg\" alt=\"Open In Colab\"/></a>"
      ]
    },
    {
      "cell_type": "markdown",
      "source": [
        "# MÉTODO CONGRUENCIAL\n",
        "(Lehmer, 1949)\n",
        "\n",
        "---\n",
        "\n",
        "1. Seleccionar semilla $\\hspace{2mm}X_0$\n",
        "2. Seleccionar constantes $\\hspace{2mm}a,c$ y $m$\n",
        "3. Aplicar el algoritmo $\\hspace{2mm}X_{n+1}=(aX_n+c)\\;\\;mod\\;\\;m$\n",
        "4. Tomar $X_n=X_{n+1}$ y regresar al paso 3\n",
        "\n",
        "**VENTAJAS**\n",
        "\n",
        "> Algoritmo sencillo de programar y ejecutar\n",
        "\n",
        "> Bajo costo computacional\n",
        "\n",
        "> Puede generar lista de números aleatorios con ciclos de vida grandes.\n",
        "\n",
        "**DESVENTAJAS**\n",
        "> La calidad de la lista y el ciclo de vida dependen de las constantes elegidas\n",
        "\n",
        "\n"
      ],
      "metadata": {
        "id": "ueQ081EV680x"
      }
    },
    {
      "cell_type": "markdown",
      "source": [
        "\n",
        "\n",
        "\n",
        "**OBSERVACIONES**: m define el ciclo de vida de los números aleatorios generados, ya que se está trabajando con la operación modulo (entre mas grande sea m, mayor será la cantidad de residuos posibles, funciona mejor para m muy grande o para m siendo un número primo)."
      ],
      "metadata": {
        "id": "6i78hLKbgVal"
      }
    },
    {
      "cell_type": "code",
      "execution_count": null,
      "metadata": {
        "colab": {
          "base_uri": "https://localhost:8080/"
        },
        "id": "cTW3Hqyo61NM",
        "outputId": "1c980bd5-be19-4d2f-db8e-91f08e1f15ca"
      },
      "outputs": [
        {
          "output_type": "stream",
          "name": "stdout",
          "text": [
            "Número de iteraciones:  20\n",
            "Semilla  Xn:  17\n",
            "Parámetro a:  121\n",
            "Párametro b:  1\n",
            "Módulo  m:  31\n",
            "\n",
            "Números generados:\n",
            "\n",
            "╒═════╤══════╤═════════╤════════════════╤═══════════╕\n",
            "│   n │   Xn │   aXn+c │   (aXn+c)mod m │     Xn/16 │\n",
            "╞═════╪══════╪═════════╪════════════════╪═══════════╡\n",
            "│   0 │   17 │    2058 │             12 │ 0.387097  │\n",
            "├─────┼──────┼─────────┼────────────────┼───────────┤\n",
            "│   1 │   12 │    1453 │             27 │ 0.870968  │\n",
            "├─────┼──────┼─────────┼────────────────┼───────────┤\n",
            "│   2 │   27 │    3268 │             13 │ 0.419355  │\n",
            "├─────┼──────┼─────────┼────────────────┼───────────┤\n",
            "│   3 │   13 │    1574 │             24 │ 0.774194  │\n",
            "├─────┼──────┼─────────┼────────────────┼───────────┤\n",
            "│   4 │   24 │    2905 │             22 │ 0.709677  │\n",
            "├─────┼──────┼─────────┼────────────────┼───────────┤\n",
            "│   5 │   22 │    2663 │             28 │ 0.903226  │\n",
            "├─────┼──────┼─────────┼────────────────┼───────────┤\n",
            "│   6 │   28 │    3389 │             10 │ 0.322581  │\n",
            "├─────┼──────┼─────────┼────────────────┼───────────┤\n",
            "│   7 │   10 │    1211 │              2 │ 0.0645161 │\n",
            "├─────┼──────┼─────────┼────────────────┼───────────┤\n",
            "│   8 │    2 │     243 │             26 │ 0.83871   │\n",
            "├─────┼──────┼─────────┼────────────────┼───────────┤\n",
            "│   9 │   26 │    3147 │             16 │ 0.516129  │\n",
            "├─────┼──────┼─────────┼────────────────┼───────────┤\n",
            "│  10 │   16 │    1937 │             15 │ 0.483871  │\n",
            "├─────┼──────┼─────────┼────────────────┼───────────┤\n",
            "│  11 │   15 │    1816 │             18 │ 0.580645  │\n",
            "├─────┼──────┼─────────┼────────────────┼───────────┤\n",
            "│  12 │   18 │    2179 │              9 │ 0.290323  │\n",
            "├─────┼──────┼─────────┼────────────────┼───────────┤\n",
            "│  13 │    9 │    1090 │              5 │ 0.16129   │\n",
            "├─────┼──────┼─────────┼────────────────┼───────────┤\n",
            "│  14 │    5 │     606 │             17 │ 0.548387  │\n",
            "├─────┼──────┼─────────┼────────────────┼───────────┤\n",
            "│  15 │   17 │    2058 │             12 │ 0.387097  │\n",
            "├─────┼──────┼─────────┼────────────────┼───────────┤\n",
            "│  16 │   12 │    1453 │             27 │ 0.870968  │\n",
            "├─────┼──────┼─────────┼────────────────┼───────────┤\n",
            "│  17 │   27 │    3268 │             13 │ 0.419355  │\n",
            "├─────┼──────┼─────────┼────────────────┼───────────┤\n",
            "│  18 │   13 │    1574 │             24 │ 0.774194  │\n",
            "├─────┼──────┼─────────┼────────────────┼───────────┤\n",
            "│  19 │   24 │    2905 │             22 │ 0.709677  │\n",
            "╘═════╧══════╧═════════╧════════════════╧═══════════╛\n"
          ]
        }
      ],
      "source": [
        "import pandas as pd\n",
        "import numpy as np\n",
        "from tabulate import tabulate\n",
        "#INGRESA SEMILLA Y CONSTANTES\n",
        "#iter=int(input(\"Cantidad de números aleatorios: \"))\n",
        "iter=int(input('Número de iteraciones:  '))\n",
        "xn=int(input('Semilla  Xn:  '))\n",
        "a=int(input('Parámetro a:  '))\n",
        "c=int(input('Párametro b:  '))\n",
        "m=int(input('Módulo  m:  '))\n",
        "\n",
        "#DATOS PARA TABLA\n",
        "data = []\n",
        "\n",
        "for i in range(0,iter):\n",
        "  prod=a*xn+c\n",
        "  mod=prod%m\n",
        "  xn1=mod/m\n",
        "  #IMPRIME TABLA\n",
        "  data.append([f\"{i}\", f\"{xn}\", f\"{prod}\", f\"{mod}\", f\"{xn1}\"])  #AGREGA DATOS EN DATAFRAME\n",
        "  xn=mod\n",
        "print('\\nNúmeros generados:\\n')\n",
        "headers = ['n', 'Xn', 'aXn+c', '(aXn+c)mod m', 'Xn/16']  #ENCABEZADOS\n",
        "data = pd.DataFrame(data, columns=headers)  #AGREGA ENCABEZADOS\n",
        "print(tabulate(data, headers=headers, tablefmt=\"fancy_grid\",showindex=False))\n"
      ]
    }
  ]
}