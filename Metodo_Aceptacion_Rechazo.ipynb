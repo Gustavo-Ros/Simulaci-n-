{
  "nbformat": 4,
  "nbformat_minor": 0,
  "metadata": {
    "colab": {
      "provenance": [],
      "authorship_tag": "ABX9TyNKysyrFdAzteP2IZbMXafq",
      "include_colab_link": true
    },
    "kernelspec": {
      "name": "python3",
      "display_name": "Python 3"
    },
    "language_info": {
      "name": "python"
    }
  },
  "cells": [
    {
      "cell_type": "markdown",
      "metadata": {
        "id": "view-in-github",
        "colab_type": "text"
      },
      "source": [
        "<a href=\"https://colab.research.google.com/github/Gustavo-Ros/Simulacion-1/blob/main/Metodo_Aceptacion_Rechazo.ipynb\" target=\"_parent\"><img src=\"https://colab.research.google.com/assets/colab-badge.svg\" alt=\"Open In Colab\"/></a>"
      ]
    },
    {
      "cell_type": "markdown",
      "source": [
        "# MÉTODO DE ACEPTACIÓN Y RECHAZO\n",
        "\n",
        "Se tiene la función $\\dfrac{e^x}{e-1}$ con $0 \\leq x \\leq 1$ , primero debe mostrarse que es una fdp:\n",
        "\n",
        "*   $e^x\\geq 0$ para todo $x\\in \\mathbb{R}$ y $e-1$ es una constante $>0$\n",
        "*   $\\int_0^1 \\frac{e^x}{e-1}=1$\n",
        "\n",
        "Ahora, al ser $f(x)$ una función monotona creciente, sabemos que está acotada por $g(x)=\\dfrac{e}{e-1}$ , en este método se busca encontrar una función $g(x)$ y una constante $c$ tal que se satisfaga la relación:\n",
        "$$\\dfrac{f(x)}{g(x)} \\leq c$$\n",
        "por lo tanto , tomando $g(x)=\\frac{e}{e-1}$ , se tiene que\n",
        "\n",
        "$$ \\dfrac{f(x)}{g(x)} \\leq c \\hspace{3mm} \\Rightarrow \\hspace{3mm} \\dfrac{\\frac{e}{e-1}}{\\frac{e}{e-1}} \\leq c  \\hspace{3mm} \\Rightarrow  \\hspace{3mm} c=1$$\n",
        "\n",
        "Sin embargo, $g(x)=\\frac{e}{e-1}$ **NO ES una fdp** pues no cumple las condiciones, por lo tanto, el valor calculado de $c$ en realidad corresponde a $g(x)$, es decir $g(x)=1$.\n",
        "\n",
        "Para calcular entonces a $c$. se retoma la desigualdad anterior:\n",
        "\n",
        "$$\\dfrac{f(x)}{g(x)} \\leq c \\hspace{3mm} \\Rightarrow \\hspace{3mm} \\dfrac{\\frac{e}{e-1}}{1} \\leq c \\hspace{3mm} \\Rightarrow \\hspace{3mm} c=\\frac{e}{e-1} $$\n",
        "\n",
        "\n",
        "\n"
      ],
      "metadata": {
        "id": "RJW7VbkMgmXJ"
      }
    },
    {
      "cell_type": "markdown",
      "source": [
        "Finalmente, se genear dos variables aleatorias con distribución $u_1,u_2\\sim U(0,1)$ y las se guardaran las variables $u_2$ siempre que se cumpla la condición:\n",
        "$$u_2 \\leq  \\dfrac{f(u_1)}{cg(u_1)}$$"
      ],
      "metadata": {
        "id": "JNGOz8AllVmC"
      }
    },
    {
      "cell_type": "markdown",
      "source": [
        "# SIMULACIÓN"
      ],
      "metadata": {
        "id": "HcaCOVmdl5kF"
      }
    },
    {
      "cell_type": "code",
      "execution_count": 1,
      "metadata": {
        "id": "eN2kDjcYeEcb"
      },
      "outputs": [],
      "source": [
        "#Se cargan las librerías\n",
        "import random as rnd\n",
        "import numpy as np\n",
        "import matplotlib.pyplot as plt"
      ]
    },
    {
      "cell_type": "code",
      "source": [
        "def fun1(N):\n",
        "  f=np.exp(N)/(np.exp(1)-1)\n",
        "  return f"
      ],
      "metadata": {
        "id": "URKwAAKPmJCS"
      },
      "execution_count": 18,
      "outputs": []
    },
    {
      "cell_type": "code",
      "source": [
        "def Acep_Rech(n):          #Esta función devuelve una lista con las variables aleatorias\n",
        "  lista=[]                    #   que siguen la distribución f(x)\n",
        "  c=np.exp(1)/(np.exp(1)-1)\n",
        "  for i in range(n):\n",
        "    u1=rnd.random()            # Primer variable aleatoria u ~ U(0,1)\n",
        "    u2=rnd.random()     # Segunda variable aleatoria u ~ U(0,0.5)\n",
        "    if u1 <=fun1(u2)/c:              # El condicional determina que F^-1(u2) se calcula\n",
        "      x=u2\n",
        "    lista.append(x)           #Se guardan los valores de X ~ f(x)\n",
        "  return lista"
      ],
      "metadata": {
        "id": "QtwOHB4BmAXQ"
      },
      "execution_count": 23,
      "outputs": []
    },
    {
      "cell_type": "code",
      "source": [
        "e=Acep_Rech(100000)           #Se calculan n varibles con distribución f(x)\n",
        "plt.hist(e, bins=100)          #Imprime histograma"
      ],
      "metadata": {
        "colab": {
          "base_uri": "https://localhost:8080/",
          "height": 1000
        },
        "id": "rmDNQ89rmzLa",
        "outputId": "43010f85-7ac2-4935-d50e-575bb90be2f9"
      },
      "execution_count": 27,
      "outputs": [
        {
          "output_type": "execute_result",
          "data": {
            "text/plain": [
              "(array([ 639.,  530.,  634.,  617.,  558.,  600.,  582.,  607.,  686.,\n",
              "         628.,  680.,  641.,  664.,  643.,  670.,  665.,  626.,  643.,\n",
              "         738.,  705.,  754.,  732.,  733.,  738.,  695.,  809.,  813.,\n",
              "         706.,  834.,  838.,  816.,  830.,  817.,  848.,  741.,  852.,\n",
              "         833.,  848.,  864.,  869.,  806.,  933.,  869.,  886.,  921.,\n",
              "         950.,  995.,  956.,  917.,  914.,  907.,  906., 1007.,  984.,\n",
              "        1010., 1091., 1022., 1014.,  992., 1040., 1030., 1096., 1062.,\n",
              "        1095., 1070., 1119., 1131., 1170., 1138., 1179., 1205., 1149.,\n",
              "        1194., 1234., 1252., 1255., 1244., 1269., 1308., 1299., 1323.,\n",
              "        1302., 1346., 1415., 1281., 1391., 1352., 1409., 1417., 1467.,\n",
              "        1341., 1466., 1412., 1494., 1529., 1502., 1572., 1550., 1579.,\n",
              "        1507.]),\n",
              " array([5.17847398e-05, 1.00508245e-02, 2.00498643e-02, 3.00489040e-02,\n",
              "        4.00479438e-02, 5.00469835e-02, 6.00460233e-02, 7.00450630e-02,\n",
              "        8.00441028e-02, 9.00431425e-02, 1.00042182e-01, 1.10041222e-01,\n",
              "        1.20040262e-01, 1.30039302e-01, 1.40038341e-01, 1.50037381e-01,\n",
              "        1.60036421e-01, 1.70035461e-01, 1.80034500e-01, 1.90033540e-01,\n",
              "        2.00032580e-01, 2.10031620e-01, 2.20030659e-01, 2.30029699e-01,\n",
              "        2.40028739e-01, 2.50027779e-01, 2.60026818e-01, 2.70025858e-01,\n",
              "        2.80024898e-01, 2.90023938e-01, 3.00022977e-01, 3.10022017e-01,\n",
              "        3.20021057e-01, 3.30020097e-01, 3.40019136e-01, 3.50018176e-01,\n",
              "        3.60017216e-01, 3.70016256e-01, 3.80015295e-01, 3.90014335e-01,\n",
              "        4.00013375e-01, 4.10012415e-01, 4.20011455e-01, 4.30010494e-01,\n",
              "        4.40009534e-01, 4.50008574e-01, 4.60007614e-01, 4.70006653e-01,\n",
              "        4.80005693e-01, 4.90004733e-01, 5.00003773e-01, 5.10002812e-01,\n",
              "        5.20001852e-01, 5.30000892e-01, 5.39999932e-01, 5.49998971e-01,\n",
              "        5.59998011e-01, 5.69997051e-01, 5.79996091e-01, 5.89995130e-01,\n",
              "        5.99994170e-01, 6.09993210e-01, 6.19992250e-01, 6.29991289e-01,\n",
              "        6.39990329e-01, 6.49989369e-01, 6.59988409e-01, 6.69987448e-01,\n",
              "        6.79986488e-01, 6.89985528e-01, 6.99984568e-01, 7.09983607e-01,\n",
              "        7.19982647e-01, 7.29981687e-01, 7.39980727e-01, 7.49979766e-01,\n",
              "        7.59978806e-01, 7.69977846e-01, 7.79976886e-01, 7.89975925e-01,\n",
              "        7.99974965e-01, 8.09974005e-01, 8.19973045e-01, 8.29972085e-01,\n",
              "        8.39971124e-01, 8.49970164e-01, 8.59969204e-01, 8.69968244e-01,\n",
              "        8.79967283e-01, 8.89966323e-01, 8.99965363e-01, 9.09964403e-01,\n",
              "        9.19963442e-01, 9.29962482e-01, 9.39961522e-01, 9.49960562e-01,\n",
              "        9.59959601e-01, 9.69958641e-01, 9.79957681e-01, 9.89956721e-01,\n",
              "        9.99955760e-01]),\n",
              " <BarContainer object of 100 artists>)"
            ]
          },
          "metadata": {},
          "execution_count": 27
        },
        {
          "output_type": "display_data",
          "data": {
            "text/plain": [
              "<Figure size 640x480 with 1 Axes>"
            ],
            "image/png": "[encoded data removed]"
          },
          "metadata": {}
        }
      ]
    },
    {
      "cell_type": "code",
      "source": [
        "def acumulativa (muestra):        #Esta función devuelve las coordenadas para graficar F^-1 (x)\n",
        "  n=len(muestra)\n",
        "  x=np.sort(muestra)\n",
        "  y=np.arange(0,n)/n\n",
        "  return x,y"
      ],
      "metadata": {
        "id": "dLnJgScWoDUd"
      },
      "execution_count": 30,
      "outputs": []
    },
    {
      "cell_type": "code",
      "source": [
        "X,Y=acumulativa(e)                #Se imprime F^-1{x}\n",
        "plt.step(X,Y)\n",
        "plt.title('F^-1 (x)')\n",
        "plt.xlabel(\"x\")\n",
        "plt.ylabel(\"F(x)\")"
      ],
      "metadata": {
        "colab": {
          "base_uri": "https://localhost:8080/",
          "height": 489
        },
        "id": "-vvynP0poFCF",
        "outputId": "07f40a53-f3ce-4c33-fac1-ade78ff494e0"
      },
      "execution_count": 31,
      "outputs": [
        {
          "output_type": "execute_result",
          "data": {
            "text/plain": [
              "Text(0, 0.5, 'F(x)')"
            ]
          },
          "metadata": {},
          "execution_count": 31
        },
        {
          "output_type": "display_data",
          "data": {
            "text/plain": [
              "<Figure size 640x480 with 1 Axes>"
            ],
            "image/png": "[encoded data removed]"
          },
          "metadata": {}
        }
      ]
    }
  ]
}