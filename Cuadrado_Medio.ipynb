{
  "nbformat": 4,
  "nbformat_minor": 0,
  "metadata": {
    "colab": {
      "provenance": [],
      "authorship_tag": "ABX9TyN6sZQQ+VaS1aoSNFvl67rd",
      "include_colab_link": true
    },
    "kernelspec": {
      "name": "python3",
      "display_name": "Python 3"
    },
    "language_info": {
      "name": "python"
    }
  },
  "cells": [
    {
      "cell_type": "markdown",
      "metadata": {
        "id": "view-in-github",
        "colab_type": "text"
      },
      "source": [
        "<a href=\"https://colab.research.google.com/github/Gustavo-Ros/Simulacion-1/blob/main/Cuadrado_Medio.ipynb\" target=\"_parent\"><img src=\"https://colab.research.google.com/assets/colab-badge.svg\" alt=\"Open In Colab\"/></a>"
      ]
    },
    {
      "cell_type": "code",
      "execution_count": 42,
      "metadata": {
        "colab": {
          "base_uri": "https://localhost:8080/"
        },
        "id": "qjpqJNJyu7hG",
        "outputId": "c17a33df-be25-4efe-87dd-38425b86e4a7"
      },
      "outputs": [
        {
          "output_type": "stream",
          "name": "stdout",
          "text": [
            "Ingrese una semilla de 4 dígitos: 25845\n",
            "Ingrese una semilla de 4 dígitos: 125\n",
            "Ingrese una semilla de 4 dígitos: 1659\n",
            "\n",
            "x0= 1659  x0^2= 2752281\n",
            "x1= 7522  x1^2= 56580484\n",
            "x2= 5804  x2^2= 33686416\n",
            "x3= 6864  x3^2= 47114496\n",
            "x4= 1144  x4^2= 1308736\n",
            "x5= 3087  x5^2= 9529569\n",
            "x6= 5295  x6^2= 28037025\n",
            "x7= 0370  x7^2= 136900\n",
            "x8= 3690  x8^2= 13616100\n",
            "x9= 6161  x9^2= 37957921\n",
            "x10= 9579  x10^2= 91757241\n",
            "x11= 7572  x11^2= 57335184\n",
            "x12= 3351  x12^2= 11229201\n",
            "x13= 2292  x13^2= 5253264\n",
            "x14= 2532  x14^2= 6411024\n",
            "x15= 4110  x15^2= 16892100\n",
            "x16= 8921  x16^2= 79584241\n",
            "x17= 5842  x17^2= 34128964\n",
            "x18= 1289  x18^2= 1661521\n",
            "x19= 6615  x19^2= 43758225\n",
            "x20= 7582  x20^2= 57486724\n"
          ]
        }
      ],
      "source": [
        "semilla= int(input(\"Ingrese una semilla de 4 dígitos: \"))\n",
        "\n",
        "while semilla  < 1000 or semilla >9999:\n",
        "  semilla= int(input(\"Ingrese una semilla de 4 dígitos: \"))\n",
        "  x0=semilla\n",
        "\n",
        "xi=x0\n",
        "pi=xi**2\n",
        "print(f\"\\nx0= {xi}  x0^2= {pi}\")\n",
        "\n",
        "i=1\n",
        "for i in range(1,21):\n",
        "  pi=xi**2\n",
        "  st1=str(pi)\n",
        "  dig=len(st1)\n",
        "  if dig==8:\n",
        "    xii=st1[2:6]\n",
        "    pi=int(xii)**2\n",
        "  else:\n",
        "    xii=st1[1:5]\n",
        "    pi=int(xii)**2\n",
        "\n",
        "  print(f\"x{i}= {xii}  x{i}^2= {pi}\")\n",
        "  xi=int(xii)\n",
        "\n",
        "\n",
        "\n"
      ]
    }
  ]
}