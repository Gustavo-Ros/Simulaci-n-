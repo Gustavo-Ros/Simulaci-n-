{
  "nbformat": 4,
  "nbformat_minor": 0,
  "metadata": {
    "colab": {
      "provenance": [],
      "authorship_tag": "ABX9TyO9WfLNiJ+CwVOQ7laHhJr6",
      "include_colab_link": true
    },
    "kernelspec": {
      "name": "python3",
      "display_name": "Python 3"
    },
    "language_info": {
      "name": "python"
    }
  },
  "cells": [
    {
      "cell_type": "markdown",
      "metadata": {
        "id": "view-in-github",
        "colab_type": "text"
      },
      "source": [
        "<a href=\"https://colab.research.google.com/github/Gustavo-Ros/Simulacion-1/blob/main/Cuadrado_Medio.ipynb\" target=\"_parent\"><img src=\"https://colab.research.google.com/assets/colab-badge.svg\" alt=\"Open In Colab\"/></a>"
      ]
    },
    {
      "cell_type": "markdown",
      "source": [
        "# CUADRADO MEDIO\n",
        "(*Von Neuman y Metropolis 1946*)\n",
        "\n",
        "---\n",
        "\n",
        "Algoritmo:\n",
        "1. Elegir número de 4 dígitos: $\\hspace{2mm}X_n$\n",
        "2. Elevar número al cuadrado:    $\\hspace{2mm}X_n^2$\n",
        "3. Elegir   $\\hspace{2mm}X_{n+1}\\hspace{2mm}$ como el cuadrado medio\n",
        "4. Tomar $\\hspace{2mm}X_n=X_{n+1}\\hspace{2mm}$ y regresar al paso 1\n",
        "\n"
      ],
      "metadata": {
        "id": "pP8RXIysiZUE"
      }
    },
    {
      "cell_type": "markdown",
      "source": [
        "**VENTAJAS**\n",
        ">   Algoritmo sencillo de programar y ejecutar\n",
        "\n",
        ">   Usar números primos como semilla puedo alargar el ciclo de vida\n",
        "\n",
        "**DESVENTAJAS**\n",
        ">   Ciclo de vida corto\n",
        "\n",
        ">   Converge rapidamente a 0\n",
        "\n",
        ">   Algunas semillas pueden generar números no uniformemente distribuidos\n"
      ],
      "metadata": {
        "id": "wFTcDX832ytZ"
      }
    },
    {
      "cell_type": "markdown",
      "source": [
        "##CÓDIGO\n"
      ],
      "metadata": {
        "id": "PdeZTKbcRNCL"
      }
    },
    {
      "cell_type": "code",
      "source": [
        "import pandas as pd\n",
        "import numpy as np\n",
        "from tabulate import tabulate\n",
        "\n",
        "# INGRESA SEMILLA\n",
        "semilla = int(input(\"Ingrese una semilla de 4 dígitos: \"))\n",
        "\n",
        "# CORRIGE NUMERO SI NO ES DE 4 CIFRAS\n",
        "while semilla < 1000 or semilla > 9999:\n",
        "    semilla = int(input(\"Ingrese una semilla de 4 dígitos: \"))\n",
        "\n",
        "# DATOS PARA TABLA\n",
        "data = []\n",
        "\n",
        "xi = semilla\n",
        "\n",
        "for i in range(0, 50):\n",
        "    pi = xi ** 2\n",
        "    st1 = str(pi)\n",
        "    dig = len(st1)\n",
        "    data.append([f\"{i}\", f\"{xi}\", f\"{pi}\"])  #AGREGA DATOS EN DATAFRAME\n",
        "    if dig == 8:  # NO. DE CIFRA DEL PRODUCTO ES 8\n",
        "        xii = st1[2:6]\n",
        "        pi = int(xii) ** 2\n",
        "    else:  # NO. DE CIFRA DEL PRODUCTO NO ES 8\n",
        "        xii = st1[1:5]\n",
        "        pi = int(xii) ** 2\n",
        "    xi = int(xii)\n",
        "\n",
        "headers = ['n', 'xn', 'xn^2']  #ENCABEZADOS\n",
        "data = pd.DataFrame(data, columns=headers)  #AGREGA ENCABEZADOS\n",
        "print(tabulate(data, headers=headers, tablefmt=\"fancy_grid\",showindex=False))"
      ],
      "metadata": {
        "colab": {
          "base_uri": "https://localhost:8080/"
        },
        "id": "uOzHda15gdov",
        "outputId": "093237c7-35ec-4077-93e0-9459e085b3eb"
      },
      "execution_count": null,
      "outputs": [
        {
          "output_type": "stream",
          "name": "stdout",
          "text": [
            "Ingrese una semilla de 4 dígitos: 5697\n",
            "╒═════╤══════╤══════════╕\n",
            "│   n │   xn │     xn^2 │\n",
            "╞═════╪══════╪══════════╡\n",
            "│   0 │ 5697 │ 32455809 │\n",
            "├─────┼──────┼──────────┤\n",
            "│   1 │ 4558 │ 20775364 │\n",
            "├─────┼──────┼──────────┤\n",
            "│   2 │ 7753 │ 60109009 │\n",
            "├─────┼──────┼──────────┤\n",
            "│   3 │ 1090 │  1188100 │\n",
            "├─────┼──────┼──────────┤\n",
            "│   4 │ 1881 │  3538161 │\n",
            "├─────┼──────┼──────────┤\n",
            "│   5 │ 5381 │ 28955161 │\n",
            "├─────┼──────┼──────────┤\n",
            "│   6 │ 9551 │ 91221601 │\n",
            "├─────┼──────┼──────────┤\n",
            "│   7 │ 2216 │  4910656 │\n",
            "├─────┼──────┼──────────┤\n",
            "│   8 │ 9106 │ 82919236 │\n",
            "├─────┼──────┼──────────┤\n",
            "│   9 │ 9192 │ 84492864 │\n",
            "├─────┼──────┼──────────┤\n",
            "│  10 │ 4928 │ 24285184 │\n",
            "├─────┼──────┼──────────┤\n",
            "│  11 │ 2851 │  8128201 │\n",
            "├─────┼──────┼──────────┤\n",
            "│  12 │ 1282 │  1643524 │\n",
            "├─────┼──────┼──────────┤\n",
            "│  13 │ 6435 │ 41409225 │\n",
            "├─────┼──────┼──────────┤\n",
            "│  14 │ 4092 │ 16744464 │\n",
            "├─────┼──────┼──────────┤\n",
            "│  15 │ 7444 │ 55413136 │\n",
            "├─────┼──────┼──────────┤\n",
            "│  16 │ 4131 │ 17065161 │\n",
            "├─────┼──────┼──────────┤\n",
            "│  17 │  651 │   423801 │\n",
            "├─────┼──────┼──────────┤\n",
            "│  18 │ 2380 │  5664400 │\n",
            "├─────┼──────┼──────────┤\n",
            "│  19 │ 6644 │ 44142736 │\n",
            "├─────┼──────┼──────────┤\n",
            "│  20 │ 1427 │  2036329 │\n",
            "├─────┼──────┼──────────┤\n",
            "│  21 │  363 │   131769 │\n",
            "├─────┼──────┼──────────┤\n",
            "│  22 │ 3176 │ 10086976 │\n",
            "├─────┼──────┼──────────┤\n",
            "│  23 │  869 │   755161 │\n",
            "├─────┼──────┼──────────┤\n",
            "│  24 │ 5516 │ 30426256 │\n",
            "├─────┼──────┼──────────┤\n",
            "│  25 │ 4262 │ 18164644 │\n",
            "├─────┼──────┼──────────┤\n",
            "│  26 │ 1646 │  2709316 │\n",
            "├─────┼──────┼──────────┤\n",
            "│  27 │ 7093 │ 50310649 │\n",
            "├─────┼──────┼──────────┤\n",
            "│  28 │ 3106 │  9647236 │\n",
            "├─────┼──────┼──────────┤\n",
            "│  29 │ 6472 │ 41886784 │\n",
            "├─────┼──────┼──────────┤\n",
            "│  30 │ 8867 │ 78623689 │\n",
            "├─────┼──────┼──────────┤\n",
            "│  31 │ 6236 │ 38887696 │\n",
            "├─────┼──────┼──────────┤\n",
            "│  32 │ 8876 │ 78783376 │\n",
            "├─────┼──────┼──────────┤\n",
            "│  33 │ 7833 │ 61355889 │\n",
            "├─────┼──────┼──────────┤\n",
            "│  34 │ 3558 │ 12659364 │\n",
            "├─────┼──────┼──────────┤\n",
            "│  35 │ 6593 │ 43467649 │\n",
            "├─────┼──────┼──────────┤\n",
            "│  36 │ 4676 │ 21864976 │\n",
            "├─────┼──────┼──────────┤\n",
            "│  37 │ 8649 │ 74805201 │\n",
            "├─────┼──────┼──────────┤\n",
            "│  38 │ 8052 │ 64834704 │\n",
            "├─────┼──────┼──────────┤\n",
            "│  39 │ 8347 │ 69672409 │\n",
            "├─────┼──────┼──────────┤\n",
            "│  40 │ 6724 │ 45212176 │\n",
            "├─────┼──────┼──────────┤\n",
            "│  41 │ 2121 │  4498641 │\n",
            "├─────┼──────┼──────────┤\n",
            "│  42 │ 4986 │ 24860196 │\n",
            "├─────┼──────┼──────────┤\n",
            "│  43 │ 8601 │ 73977201 │\n",
            "├─────┼──────┼──────────┤\n",
            "│  44 │ 9772 │ 95491984 │\n",
            "├─────┼──────┼──────────┤\n",
            "│  45 │ 4919 │ 24196561 │\n",
            "├─────┼──────┼──────────┤\n",
            "│  46 │ 1965 │  3861225 │\n",
            "├─────┼──────┼──────────┤\n",
            "│  47 │ 8612 │ 74166544 │\n",
            "├─────┼──────┼──────────┤\n",
            "│  48 │ 1665 │  2772225 │\n",
            "├─────┼──────┼──────────┤\n",
            "│  49 │ 7722 │ 59629284 │\n",
            "╘═════╧══════╧══════════╛\n"
          ]
        }
      ]
    }
  ]
}