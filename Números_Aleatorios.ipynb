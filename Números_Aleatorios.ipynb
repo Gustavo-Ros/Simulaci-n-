{
  "nbformat": 4,
  "nbformat_minor": 0,
  "metadata": {
    "colab": {
      "provenance": [],
      "authorship_tag": "ABX9TyPXEdEVYpY7vzoDAH9ChofA",
      "include_colab_link": true
    },
    "kernelspec": {
      "name": "python3",
      "display_name": "Python 3"
    },
    "language_info": {
      "name": "python"
    }
  },
  "cells": [
    {
      "cell_type": "markdown",
      "metadata": {
        "id": "view-in-github",
        "colab_type": "text"
      },
      "source": [
        "<a href=\"https://colab.research.google.com/github/Gustavo-Ros/Simulacion-1/blob/main/N%C3%BAmeros_Aleatorios.ipynb\" target=\"_parent\"><img src=\"https://colab.research.google.com/assets/colab-badge.svg\" alt=\"Open In Colab\"/></a>"
      ]
    },
    {
      "cell_type": "markdown",
      "source": [
        "# **MEDIOS CUADRADOS**\n"
      ],
      "metadata": {
        "id": "ZTvPwjpQC9Ja"
      }
    },
    {
      "cell_type": "code",
      "source": [
        "#INGRESA SEMILLA\n",
        "semilla = int(input(\"Ingrese una semilla de 4 dígitos: \"))\n",
        "\n",
        "#CORRIGE NUMERO SI NO ES DE 4 CIFRAS\n",
        "while semilla < 1000 or semilla > 9999:\n",
        "    semilla = int(input(\"Ingrese una semilla de 4 dígitos: \"))\n",
        "\n",
        "xi = semilla\n",
        "pi = xi ** 2\n",
        "print(\"\\nn        xn           xn^2     \\n\")    #TABLA\n",
        "print(f\"0        {xi}         {pi}\")\n",
        "\n",
        "for i in range(1, 21):\n",
        "    pi = xi ** 2\n",
        "    st1 = str(pi)\n",
        "    dig = len(st1)\n",
        "    if dig == 8:                   #NO. DE CIFRA DEL PRODUCTO ES 8\n",
        "        xii = st1[2:6]\n",
        "        pi = int(xii) ** 2\n",
        "    else:                          #NO. DE CIFRA DEL PRODUCTO NO ES 8\n",
        "        xii = st1[1:5]\n",
        "        pi = int(xii) ** 2\n",
        "\n",
        "    if len(xii) < 4:\n",
        "        xii = '0' + xii            #RELLENA CON 0\n",
        "\n",
        "    if len(str(pi)) % 2 != 0:\n",
        "        pi = '0' + str(pi)         #RELLENA CON 0\n",
        "\n",
        "#IMPRIME NUMEROS\n",
        "    if i < 10:\n",
        "        print(f\"{i}        {xii}         {pi}\")\n",
        "    else:\n",
        "        print(f\"{i}       {xii}         {pi}\")\n",
        "\n",
        "    xi = int(xii)\n"
      ],
      "metadata": {
        "colab": {
          "base_uri": "https://localhost:8080/"
        },
        "id": "5SLgg3V4J9_r",
        "outputId": "3a908b7a-34e8-4a5c-cdc3-951a1b78e331"
      },
      "execution_count": null,
      "outputs": [
        {
          "output_type": "stream",
          "name": "stdout",
          "text": [
            "Ingrese una semilla de 4 dígitos: 9162\n",
            "\n",
            "n        xn           xn^2     \n",
            "\n",
            "0        9162         83942244\n",
            "1        9422         88774084\n",
            "2        7740         59907600\n",
            "3        9076         82373776\n",
            "4        3737         13965169\n",
            "5        9651         93141801\n",
            "6        1418         02010724\n",
            "7        0107         011449\n",
            "8        1449         02099601\n",
            "9        0996         992016\n",
            "10       9201         84658401\n",
            "11       6584         43349056\n",
            "12       3490         12180100\n",
            "13       1801         03243601\n",
            "14       2436         05934096\n",
            "15       9340         87235600\n",
            "16       2356         05550736\n",
            "17       5507         30327049\n",
            "18       3270         10692900\n",
            "19       6929         48011041\n",
            "20       0110         012100\n"
          ]
        }
      ]
    },
    {
      "cell_type": "markdown",
      "source": [
        "# **PRODUCTO MEDIO**"
      ],
      "metadata": {
        "id": "K85s2K10LB5B"
      }
    },
    {
      "cell_type": "code",
      "source": [
        "#NUMERO GENERADOS Y NUMERO DE CIFRAS\n",
        "num=int(input('No. de números aleatorios: '))\n",
        "d=int(input(\"Ingrese la longitud del número: \"))\n",
        "\n",
        "xn_1=int(input(\"Xn_1= \"))\n",
        "xn=int(input(\"Xn= \"))\n",
        "\n",
        "#CORRIGE NUMEROS\n",
        "while len(str(xn))!=d:\n",
        "  xn=int(input(\"\\nXn= \"))\n",
        "\n",
        "while len(str(xn_1))!=d:\n",
        "  xn_1=int(input(\"Xn_1= \"))\n",
        "\n",
        "#TABLA\n",
        "print(\"\\nn          xn_1           xn           (xn)(xn_1)\\n\")\n",
        "\n",
        "for i in range(0,num):\n",
        "  prod=xn*xn_1\n",
        "  prod=str(prod)\n",
        "  lprod=len(str(prod))\n",
        "\n",
        "  if (lprod-d)%2!=0:\n",
        "    lprod=len('0'+prod)\n",
        "    prod='0'+prod          #Agrega 0 para tomar cifra de enmedio\n",
        "  inter=int((lprod-d)/2)\n",
        "  x=prod[inter:inter+d]    #Elimina extremos\n",
        "\n",
        "  sxn=str(xn)\n",
        "  sxn_1=str(xn_1)\n",
        "\n",
        "#CORRIGE TABLA\n",
        "  while len(sxn)<d:\n",
        "    sxn='0'+sxn             #Rellena con 0\n",
        "\n",
        "  while len(sxn_1)<d:\n",
        "    sxn_1='0'+sxn_1         #Rellena con 0\n",
        "\n",
        "#IMPRIME NÚMEROS\n",
        "  if i>9:\n",
        "    print(f\"{i}         {sxn_1}          {sxn}           {prod}\")\n",
        "  else:\n",
        "    print(f\"{i}          {sxn_1}          {sxn}           {prod}\")\n",
        "\n",
        "  xn_1=xn\n",
        "  xn=int(x)\n"
      ],
      "metadata": {
        "colab": {
          "base_uri": "https://localhost:8080/"
        },
        "id": "S2669wwcLRLV",
        "outputId": "7e3494f2-6076-4f0c-9e41-bea6509c6a22"
      },
      "execution_count": null,
      "outputs": [
        {
          "output_type": "stream",
          "name": "stdout",
          "text": [
            "No. de números aleatorios: 20\n",
            "Ingrese la longitud del número: 5\n",
            "Xn_1= 12343\n",
            "Xn= 12678\n",
            "\n",
            "n          xn_1           xn           (xn)(xn_1)\n",
            "\n",
            "0          12343          12678           156484554\n",
            "1          12678          64845           822104910\n",
            "2          64845          21049           01364922405\n",
            "3          21049          64922           01366543178\n",
            "4          64922          66543           04320104646\n",
            "5          66543          20104           01337780472\n",
            "6          20104          37780           759529120\n",
            "7          37780          95291           03600093980\n",
            "8          95291          00093           8862063\n",
            "9          00093          86206           8017158\n",
            "10         86206          01715           147843290\n",
            "11         01715          78432           134510880\n",
            "12         78432          45108           03537910656\n",
            "13         45108          37910           01710044280\n",
            "14         37910          10044           380768040\n",
            "15         10044          07680           077137920\n",
            "16         07680          71379           548190720\n",
            "17         71379          81907           05846439753\n",
            "18         81907          46439           03803679173\n",
            "19         46439          03679           170849081\n"
          ]
        }
      ]
    },
    {
      "cell_type": "markdown",
      "source": [],
      "metadata": {
        "id": "j0YaxhCsLho-"
      }
    },
    {
      "cell_type": "markdown",
      "source": [
        "# **MÉTODO DE CONGRUENCIA**"
      ],
      "metadata": {
        "id": "155yKHnhLj-u"
      }
    },
    {
      "cell_type": "code",
      "source": [
        "#INGRESA SEMILLA Y CONSTANTES\n",
        "#iter=int(input(\"Cantidad de números aleatorios: \"))\n",
        "iter=50\n",
        "xn=17\n",
        "a=121\n",
        "c=1\n",
        "m=31\n",
        "print(\"\\nN     Xn           aXn+c      aXn+c mod m      Xn/16\\n\")\n",
        "for i in range(0,iter):\n",
        "  prod=a*xn+c\n",
        "  mod=prod%m\n",
        "  xn1=mod/m\n",
        "  #IMPRIME TABLA\n",
        "  print(f\"{i: <3}   {xn: <10}    {prod: <10}    {mod: <10}   {xn1: <10}\")\n",
        "  xn=mod"
      ],
      "metadata": {
        "id": "lLAfW4VRLr8A",
        "outputId": "3260eefa-72b2-42fb-af77-be33ecf55499",
        "colab": {
          "base_uri": "https://localhost:8080/"
        }
      },
      "execution_count": 5,
      "outputs": [
        {
          "output_type": "stream",
          "name": "stdout",
          "text": [
            "\n",
            "N     Xn           aXn+c      aXn+c mod m      Xn/16\n",
            "\n",
            "0     21            1086          62           0.96875   \n",
            "1     43            1833          41           0.640625  \n",
            "2     62            1917          61           0.953125  \n",
            "3     41            1776          48           0.75      \n",
            "4     61            2001          17           0.265625  \n",
            "5     48            1263          47           0.734375  \n",
            "6     17            1062          38           0.59375   \n",
            "7     47            1557          21           0.328125  \n",
            "8     38            1113          25           0.390625  \n",
            "9     21            816           48           0.75      \n",
            "10    25            1245          29           0.453125  \n",
            "11    48            1443          35           0.546875  \n",
            "12    29            1134          46           0.71875   \n",
            "13    35            1425          17           0.265625  \n",
            "14    46            1221          5            0.078125  \n",
            "15    17            432           48           0.75      \n",
            "16    5             825           57           0.890625  \n",
            "17    48            1863          7            0.109375  \n",
            "18    57            1302          22           0.34375   \n",
            "19    7             477           29           0.453125  \n",
            "20    22            897           1            0.015625  \n",
            "21    29            624           48           0.75      \n",
            "22    1             741           37           0.578125  \n",
            "23    48            1563          27           0.421875  \n",
            "24    37            1182          30           0.46875   \n",
            "25    27            1017          57           0.890625  \n",
            "26    30            1485          13           0.203125  \n",
            "27    57            1392          48           0.75      \n",
            "28    13            993           33           0.515625  \n",
            "29    48            1503          31           0.484375  \n",
            "30    33            1158          6            0.09375   \n",
            "31    31            741           37           0.578125  \n",
            "32    6             681           41           0.640625  \n",
            "33    37            1392          48           0.75      \n",
            "34    41            1581          45           0.703125  \n",
            "35    48            1683          19           0.296875  \n",
            "36    45            1230          14           0.21875   \n",
            "37    19            609           33           0.515625  \n",
            "38    14            789           21           0.328125  \n",
            "39    33            1008          48           0.75      \n",
            "40    21            1161          9            0.140625  \n",
            "41    48            1143          55           0.859375  \n",
            "42    9             1014          54           0.84375   \n",
            "43    55            1965          45           0.703125  \n",
            "44    54            1809          17           0.265625  \n",
            "45    45            1200          48           0.75      \n",
            "46    17            1077          53           0.828125  \n",
            "47    48            1803          11           0.171875  \n",
            "48    53            1278          62           0.96875   \n",
            "49    11            1161          9            0.140625  \n"
          ]
        }
      ]
    },
    {
      "cell_type": "markdown",
      "source": [
        "*m define el ciclo de vida de los números aleatorios generados, ya que se está trabajando con la operación modulo (entre mas grande sea m, mayor será la cantidad de residuos posibles, funciona mejor para m muy grande o para m siendo un número primo)*\n"
      ],
      "metadata": {
        "id": "lor5u1YUY9q4"
      }
    },
    {
      "cell_type": "markdown",
      "source": [
        "CICLOS DE VIDA DE ALGORITMOS\n",
        "1. 30\n",
        "2. 128\n",
        "3. 30\n",
        "4. 256\n",
        "5. 9"
      ],
      "metadata": {
        "id": "z6-Sz5zoYKhk"
      }
    },
    {
      "cell_type": "code",
      "source": [
        "#INGRESA SEMILLA Y CONSTANTES\n",
        "#iter=int(input(\"Cantidad de números aleatorios: \"))\n",
        "iter=50\n",
        "xn=21\n",
        "xn_1=43\n",
        "a=21\n",
        "c=15\n",
        "m=64\n",
        "print(\"\\nN     Xn           aXn+c      aXn+c mod m      Xn/16\\n\")\n",
        "for i in range(0,iter):\n",
        "  prod=a*xn+c*xn_1\n",
        "  mod=prod%m\n",
        "  xn1=mod/m\n",
        "  #IMPRIME TABLA\n",
        "  print(f\"{i: <3}   {xn: <10}    {prod: <10}    {mod: <10}   {xn1: <10}\")\n",
        "  xn=xn_1\n",
        "  xn_1=mod"
      ],
      "metadata": {
        "id": "9i0anbyBJgNp"
      },
      "execution_count": null,
      "outputs": []
    }
  ]
}