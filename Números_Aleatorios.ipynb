{
  "nbformat": 4,
  "nbformat_minor": 0,
  "metadata": {
    "colab": {
      "provenance": [],
      "authorship_tag": "ABX9TyNjN+FRGxoH4sxcJSGyR4DC",
      "include_colab_link": true
    },
    "kernelspec": {
      "name": "python3",
      "display_name": "Python 3"
    },
    "language_info": {
      "name": "python"
    }
  },
  "cells": [
    {
      "cell_type": "markdown",
      "metadata": {
        "id": "view-in-github",
        "colab_type": "text"
      },
      "source": [
        "<a href=\"https://colab.research.google.com/github/Gustavo-Ros/Simulacion-1/blob/main/N%C3%BAmeros_Aleatorios.ipynb\" target=\"_parent\"><img src=\"https://colab.research.google.com/assets/colab-badge.svg\" alt=\"Open In Colab\"/></a>"
      ]
    },
    {
      "cell_type": "markdown",
      "source": [
        "# **MEDIOS CUADRADOS**\n"
      ],
      "metadata": {
        "id": "ZTvPwjpQC9Ja"
      }
    },
    {
      "cell_type": "code",
      "source": [
        "semilla = int(input(\"Ingrese una semilla de 4 dígitos: \"))\n",
        "\n",
        "while semilla < 1000 or semilla > 9999:\n",
        "    semilla = int(input(\"Ingrese una semilla de 4 dígitos: \"))\n",
        "\n",
        "xi = semilla\n",
        "pi = xi ** 2\n",
        "print(\"\\nn        xn           xn^2     \\n\")\n",
        "print(f\"0        {xi}         {pi}\")\n",
        "\n",
        "for i in range(1, 21):\n",
        "    pi = xi ** 2\n",
        "    st1 = str(pi)\n",
        "    dig = len(st1)\n",
        "    if dig == 8:\n",
        "        xii = st1[2:6]\n",
        "        pi = int(xii) ** 2\n",
        "    else:\n",
        "        xii = st1[1:5]\n",
        "        pi = int(xii) ** 2\n",
        "\n",
        "    if len(xii) < 4:\n",
        "        xii = '0' + xii\n",
        "\n",
        "    if len(str(pi)) % 2 != 0:\n",
        "        pi = '0' + str(pi)\n",
        "\n",
        "    if i < 10:\n",
        "        print(f\"{i}        {xii}         {pi}\")\n",
        "    else:\n",
        "        print(f\"{i}       {xii}         {pi}\")\n",
        "\n",
        "    xi = int(xii)\n"
      ],
      "metadata": {
        "colab": {
          "base_uri": "https://localhost:8080/"
        },
        "id": "5SLgg3V4J9_r",
        "outputId": "3a908b7a-34e8-4a5c-cdc3-951a1b78e331"
      },
      "execution_count": 32,
      "outputs": [
        {
          "output_type": "stream",
          "name": "stdout",
          "text": [
            "Ingrese una semilla de 4 dígitos: 9162\n",
            "\n",
            "n        xn           xn^2     \n",
            "\n",
            "0        9162         83942244\n",
            "1        9422         88774084\n",
            "2        7740         59907600\n",
            "3        9076         82373776\n",
            "4        3737         13965169\n",
            "5        9651         93141801\n",
            "6        1418         02010724\n",
            "7        0107         011449\n",
            "8        1449         02099601\n",
            "9        0996         992016\n",
            "10       9201         84658401\n",
            "11       6584         43349056\n",
            "12       3490         12180100\n",
            "13       1801         03243601\n",
            "14       2436         05934096\n",
            "15       9340         87235600\n",
            "16       2356         05550736\n",
            "17       5507         30327049\n",
            "18       3270         10692900\n",
            "19       6929         48011041\n",
            "20       0110         012100\n"
          ]
        }
      ]
    },
    {
      "cell_type": "markdown",
      "source": [
        "# **PRODUCTO MEDIO**"
      ],
      "metadata": {
        "id": "K85s2K10LB5B"
      }
    },
    {
      "cell_type": "code",
      "source": [
        "#NUMERO GENERADOS Y NUMERO DE CIFRAS\n",
        "num=int(input('No. de números aleatorios: '))\n",
        "d=int(input(\"Ingrese la longitud del número: \"))\n",
        "\n",
        "xn_1=int(input(\"Xn_1= \"))\n",
        "xn=int(input(\"Xn= \"))\n",
        "\n",
        "#CORRIGE NUMEROS\n",
        "while len(str(xn))!=d:\n",
        "  xn=int(input(\"\\nXn= \"))\n",
        "\n",
        "while len(str(xn_1))!=d:\n",
        "  xn_1=int(input(\"Xn_1= \"))\n",
        "\n",
        "#TABLA\n",
        "print(\"\\nn          xn_1           xn           (xn)(xn_1)\\n\")\n",
        "\n",
        "for i in range(0,num):\n",
        "  prod=xn*xn_1\n",
        "  prod=str(prod)\n",
        "  lprod=len(str(prod))\n",
        "\n",
        "  if (lprod-d)%2!=0:\n",
        "    lprod=len('0'+prod)\n",
        "    prod='0'+prod          #Agrega 0 para tomar cifra de enmedio\n",
        "  inter=int((lprod-d)/2)\n",
        "  x=prod[inter:inter+d]    #Elimina extremos\n",
        "\n",
        "  sxn=str(xn)\n",
        "  sxn_1=str(xn_1)\n",
        "\n",
        "#CORRIGE TABLA\n",
        "  while len(sxn)<d:\n",
        "    sxn='0'+sxn             #Rellena con 0\n",
        "\n",
        "  while len(sxn_1)<d:\n",
        "    sxn_1='0'+sxn_1         #Rellena con 0\n",
        "\n",
        "#IMPRIME NÚMEROS\n",
        "  if i>9:\n",
        "    print(f\"{i}         {sxn_1}          {sxn}           {prod}\")\n",
        "  else:\n",
        "    print(f\"{i}          {sxn_1}          {sxn}           {prod}\")\n",
        "\n",
        "  xn_1=xn\n",
        "  xn=int(x)\n"
      ],
      "metadata": {
        "colab": {
          "base_uri": "https://localhost:8080/"
        },
        "id": "S2669wwcLRLV",
        "outputId": "7e3494f2-6076-4f0c-9e41-bea6509c6a22"
      },
      "execution_count": 75,
      "outputs": [
        {
          "output_type": "stream",
          "name": "stdout",
          "text": [
            "No. de números aleatorios: 20\n",
            "Ingrese la longitud del número: 5\n",
            "Xn_1= 12343\n",
            "Xn= 12678\n",
            "\n",
            "n          xn_1           xn           (xn)(xn_1)\n",
            "\n",
            "0          12343          12678           156484554\n",
            "1          12678          64845           822104910\n",
            "2          64845          21049           01364922405\n",
            "3          21049          64922           01366543178\n",
            "4          64922          66543           04320104646\n",
            "5          66543          20104           01337780472\n",
            "6          20104          37780           759529120\n",
            "7          37780          95291           03600093980\n",
            "8          95291          00093           8862063\n",
            "9          00093          86206           8017158\n",
            "10         86206          01715           147843290\n",
            "11         01715          78432           134510880\n",
            "12         78432          45108           03537910656\n",
            "13         45108          37910           01710044280\n",
            "14         37910          10044           380768040\n",
            "15         10044          07680           077137920\n",
            "16         07680          71379           548190720\n",
            "17         71379          81907           05846439753\n",
            "18         81907          46439           03803679173\n",
            "19         46439          03679           170849081\n"
          ]
        }
      ]
    }
  ]
}