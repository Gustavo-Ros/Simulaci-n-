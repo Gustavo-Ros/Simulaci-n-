{
  "nbformat": 4,
  "nbformat_minor": 0,
  "metadata": {
    "colab": {
      "provenance": [],
      "mount_file_id": "https://github.com/Gustavo-Ros/Simulacion-1/blob/main/Tarea1.ipynb",
      "authorship_tag": "ABX9TyPpM71JSQ2k+W+BDz1Z9bU3",
      "include_colab_link": true
    },
    "kernelspec": {
      "name": "python3",
      "display_name": "Python 3"
    },
    "language_info": {
      "name": "python"
    }
  },
  "cells": [
    {
      "cell_type": "markdown",
      "metadata": {
        "id": "view-in-github",
        "colab_type": "text"
      },
      "source": [
        "<a href=\"https://colab.research.google.com/github/Gustavo-Ros/Simulacion-1/blob/main/Tarea1.ipynb\" target=\"_parent\"><img src=\"https://colab.research.google.com/assets/colab-badge.svg\" alt=\"Open In Colab\"/></a>"
      ]
    },
    {
      "cell_type": "code",
      "source": [
        "from google.colab import drive\n",
        "drive.mount('/content/drive')"
      ],
      "metadata": {
        "colab": {
          "base_uri": "https://localhost:8080/"
        },
        "id": "8dcwnBsoxMeJ",
        "outputId": "eb3129d3-dc78-4f4c-c5e5-1ec765d0b33b"
      },
      "execution_count": null,
      "outputs": [
        {
          "output_type": "stream",
          "name": "stdout",
          "text": [
            "Drive already mounted at /content/drive; to attempt to forcibly remount, call drive.mount(\"/content/drive\", force_remount=True).\n"
          ]
        }
      ]
    },
    {
      "cell_type": "code",
      "execution_count": 27,
      "metadata": {
        "colab": {
          "base_uri": "https://localhost:8080/"
        },
        "id": "AsmULGsbvg1O",
        "outputId": "0aadc8fa-b56f-4578-e7a9-a154c74a7c8a"
      },
      "outputs": [
        {
          "output_type": "execute_result",
          "data": {
            "text/plain": [
              "(10, 10)"
            ]
          },
          "metadata": {},
          "execution_count": 27
        }
      ],
      "source": [
        "import pandas as pd\n",
        "df=pd.read_excel(\"/content/drive/MyDrive/PDFs/T1_100datos.xlsx\")\n",
        "df.shape"
      ]
    },
    {
      "cell_type": "code",
      "source": [
        "import numpy as np\n",
        "import pandas as pd\n",
        "from tabulate import tabulate  # FORMATO DE TABLA\n",
        "df = pd.read_excel(\"/content/drive/MyDrive/PDFs/T1_100datos.xlsx\")\n",
        "df.shape\n",
        "\n",
        "datos = df.to_string(index=False, header=False)\n",
        "#print(df.iloc[3,2]-df.iloc[3,1])\n",
        "\n",
        "cadena = df.stack().tolist() #CONVIERTE SERIE EN LISTA\n",
        "\n",
        "intervalos = np.linspace(0,1,6) #DIVIDE [0,1] EN 5 INTERVALOS\n",
        "\n",
        "conteo = np.histogram(cadena, bins=intervalos)[0]  #REALIZA CONTEO EN INTERVALOS\n",
        "\n",
        "n = len(cadena)\n",
        "fe = 20\n",
        "dif = []\n",
        "chi = []\n",
        "df = []\n",
        "dif = np.concatenate([conteo - fe]) #f0-fe\n",
        "chi = np.concatenate([(conteo-fe)**2/fe]) #(f0-fe)**2/fe\n",
        "suma_chi=sum(chi)\n",
        "suma_frec=sum(conteo)\n",
        "data = pd.DataFrame({'Intervalos': [\"(0.1-0.20]\",\"(0.21-.40]\",\"(0.41-0.60]\",\"(0.61-0.80]\",\"(0.81-1.0]\"],'f0':conteo ,'fe':fe, 'f0-fe':dif, '(f0-fe)^2/fe':chi})\n",
        "data.loc['Suma total']=['Suma  total',suma_frec,'','',suma_chi]\n",
        "\n",
        "print(tabulate(data, headers='keys', tablefmt='fancy_grid', floatfmt=\".2f\", showindex=False))\n",
        "\n",
        "#AJUSTE DE BONDAD\n",
        "from scipy.stats import chi2\n",
        "\n",
        "# NIVEL DE SIGNIFICANCIA\n",
        "alpha = 0.01\n",
        "\n",
        "# GRADOS DE LIBERTAD\n",
        "grados_libertad = 4\n",
        "\n",
        "# VALOR CRÍTICO\n",
        "valor_critico = chi2.ppf(1 - alpha, grados_libertad)\n",
        "\n",
        "\n",
        "print(f\"Valor crítico de chi-cuadrado: {valor_critico}\")\n",
        "print(f\"Estadístico de chi-cuadrado calculado: {chi_cuadrado}\")\n",
        "\n",
        "# PRUEBA DE HIPOTESIS\n",
        "if chi_cuadrado > valor_critico:\n",
        "    print(\"Se rechaza la hipótesis nula\")\n",
        "else:\n",
        "    print(\"No se rechaza la hipótesis nula\")\n",
        "\n",
        "\n"
      ],
      "metadata": {
        "colab": {
          "base_uri": "https://localhost:8080/"
        },
        "id": "h3l0qRi0xuua",
        "outputId": "b70b9fa9-f62d-4c43-c89a-a7bbe083b2e6"
      },
      "execution_count": 51,
      "outputs": [
        {
          "output_type": "stream",
          "name": "stdout",
          "text": [
            "╒══════════════╤══════╤══════╤═════════╤════════════════╕\n",
            "│ Intervalos   │   f0 │ fe   │ f0-fe   │   (f0-fe)^2/fe │\n",
            "╞══════════════╪══════╪══════╪═════════╪════════════════╡\n",
            "│ (0.1-0.20]   │   20 │ 20   │ 0       │           0.00 │\n",
            "├──────────────┼──────┼──────┼─────────┼────────────────┤\n",
            "│ (0.21-.40]   │   18 │ 20   │ -2      │           0.20 │\n",
            "├──────────────┼──────┼──────┼─────────┼────────────────┤\n",
            "│ (0.41-0.60]  │   22 │ 20   │ 2       │           0.20 │\n",
            "├──────────────┼──────┼──────┼─────────┼────────────────┤\n",
            "│ (0.61-0.80]  │   20 │ 20   │ 0       │           0.00 │\n",
            "├──────────────┼──────┼──────┼─────────┼────────────────┤\n",
            "│ (0.81-1.0]   │   20 │ 20   │ 0       │           0.00 │\n",
            "├──────────────┼──────┼──────┼─────────┼────────────────┤\n",
            "│ Suma  total  │  100 │      │         │           0.40 │\n",
            "╘══════════════╧══════╧══════╧═════════╧════════════════╛\n",
            "Valor crítico de chi-cuadrado: 13.276704135987622\n",
            "Estadístico de chi-cuadrado calculado: 0.4\n",
            "No se rechaza la hipótesis nula\n"
          ]
        }
      ]
    },
    {
      "cell_type": "code",
      "source": [
        "#AJUSTE DE BONDAD\n",
        "from scipy.stats import chi2\n",
        "\n",
        "# NIVEL DE SIGNIFICANCIA\n",
        "alpha = 0.01\n",
        "\n",
        "# GRADOS DE LIBERTAD\n",
        "grados_libertad = 4\n",
        "\n",
        "# VALOR CRÍTICO\n",
        "valor_critico = chi2.ppf(1 - alpha, grados_libertad)\n",
        "\n",
        "\n",
        "print(f\"Valor crítico de chi-cuadrado: {valor_critico}\")\n",
        "print(f\"Estadístico de chi-cuadrado calculado: {chi_cuadrado}\")\n",
        "\n",
        "# PRUEBA DE HIPOTESIS\n",
        "if chi_cuadrado > valor_critico:\n",
        "    print(\"Se rechaza la hipótesis nula\")\n",
        "else:\n",
        "    print(\"No se rechaza la hipótesis nula\")\n",
        "\n"
      ],
      "metadata": {
        "colab": {
          "base_uri": "https://localhost:8080/"
        },
        "id": "pQC4Dj8JFqCQ",
        "outputId": "552d8d15-6957-4391-faa2-a392b69a4854"
      },
      "execution_count": 50,
      "outputs": [
        {
          "output_type": "stream",
          "name": "stdout",
          "text": [
            "Valor crítico de chi-cuadrado: 13.276704135987622\n",
            "Estadístico de chi-cuadrado calculado: 0.4\n",
            "No se rechaza la hipótesis nula\n"
          ]
        }
      ]
    }
  ]
}