{
  "nbformat": 4,
  "nbformat_minor": 0,
  "metadata": {
    "colab": {
      "provenance": [],
      "authorship_tag": "ABX9TyPWtOxlW407dH8SXVNoQsYP",
      "include_colab_link": true
    },
    "kernelspec": {
      "name": "python3",
      "display_name": "Python 3"
    },
    "language_info": {
      "name": "python"
    }
  },
  "cells": [
    {
      "cell_type": "markdown",
      "metadata": {
        "id": "view-in-github",
        "colab_type": "text"
      },
      "source": [
        "<a href=\"https://colab.research.google.com/github/Gustavo-Ros/Simulacion-1/blob/main/Prueba_Kolmogorov.ipynb\" target=\"_parent\"><img src=\"https://colab.research.google.com/assets/colab-badge.svg\" alt=\"Open In Colab\"/></a>"
      ]
    },
    {
      "cell_type": "markdown",
      "source": [
        "# PRUEBA DE KOLMOGOROV-SMIRNOV\n",
        "*\"La prueba de Kolmogorov-Smirnov,..., se trata de un método no parámetrico sencillo para probar si existe una diferencia significativa entre una distribución de frecuencia observada y una distribución de frecuencia teórica\"*\n",
        "\n",
        "En este ejercicio, la frecuencia teórica es acorde a la distribución uniforme en [0,1].\n",
        "\n",
        "**EJERCICIO:** Realice una prueba de bondad de ajuste con un nivel de aceptación del 95 %"
      ],
      "metadata": {
        "id": "nhwz9a849WiT"
      }
    },
    {
      "cell_type": "markdown",
      "source": [
        "***OBSERVACIÓN:*** En internet se encuentran otras tablas de valores críticos de la prueba de Kolmogorov-Smirnov para una muestra son diferentes a la tabla que aparece en el classrom; incluso la fórmula ocupada en el ejemplo del PDF: $\\frac{1.63}{\\sqrt{n}}$ corresponde a la fórmula indicada en las tablas de internt:\n",
        "\n"
      ],
      "metadata": {
        "id": "2al147qy-n-J"
      }
    },
    {
      "cell_type": "markdown",
      "source": [
        "\n"
      ],
      "metadata": {
        "id": "6qs5tqQJAZZA"
      }
    },
    {
      "cell_type": "code",
      "execution_count": 43,
      "metadata": {
        "colab": {
          "base_uri": "https://localhost:8080/"
        },
        "id": "ukUBa99ZvFuy",
        "outputId": "ac82fa20-7676-4e0c-f31c-4ad89fa12991"
      },
      "outputs": [
        {
          "output_type": "stream",
          "name": "stdout",
          "text": [
            "╒══════════════╤═════════════════╤════════════════╤═══════════════╕\n",
            "│ Intervalos   │   Fr. observada │ Fr. esperada   │   Fr. teórica │\n",
            "╞══════════════╪═════════════════╪════════════════╪═══════════════╡\n",
            "│ (0.1-0.20]   │               6 │ 20             │          0.12 │\n",
            "├──────────────┼─────────────────┼────────────────┼───────────────┤\n",
            "│ (0.21-.40]   │              12 │ 20             │          0.24 │\n",
            "├──────────────┼─────────────────┼────────────────┼───────────────┤\n",
            "│ (0.41-0.60]  │              13 │ 20             │          0.26 │\n",
            "├──────────────┼─────────────────┼────────────────┼───────────────┤\n",
            "│ (0.61-0.80]  │               7 │ 20             │          0.14 │\n",
            "├──────────────┼─────────────────┼────────────────┼───────────────┤\n",
            "│ (0.81-1.0]   │              12 │ 20             │          0.24 │\n",
            "├──────────────┼─────────────────┼────────────────┼───────────────┤\n",
            "│ Suma  total  │              50 │                │          1.00 │\n",
            "╘══════════════╧═════════════════╧════════════════╧═══════════════╛\n",
            "\n",
            "max D+: 0.0788\n",
            "max D-: 0.0988\n",
            "\n",
            "Estadístico = max(maxD+, maxD+) = 0.0988\n",
            "\n",
            "Valor crítico: 0.18840676151343094\n",
            "\n",
            "Estadpistico calculado: 0.09879999999999997\n",
            "\n",
            "Se ACEPTA la hipótesis nula: Los números tienen una distribución uniforme a un nivel de significancia del 0.05\n"
          ]
        }
      ],
      "source": [
        "import numpy as np\n",
        "import pandas as pd\n",
        "from tabulate import tabulate\n",
        "from scipy.stats import ksone\n",
        "\n",
        "cadena=[0.8797, 0.3884, 0.6289, 0.8750, 0.5999, 0.8589, 0.9996, 0.2415, 0.3808, 0.9606, 0.9848, 0.3469, 0.7977, 0.5844, 0.8147, 0.6431, 0.7387, 0.5613, 0.0318, 0.7401, 0.4557, 0.1592, 0.8536, 0.8846, 0.3410, 0.1492, 0.8681, 0.5291, 0.3188, 0.5992, 0.9170, 0.2204, 0.5991, 0.5461, 0.5739, 0.3254, 0.0856, 0.2258, 0.4603, 0.5027, 0.8376, 0.6235, 0.3681, 0.2088, 0.1525, 0.2006, 0.4720, 0.4272, 0.6360, 0.0954]\n",
        "orden=sorted(cadena) #ORDENA DE FORMA ASCENDENTE\n",
        "n=len(orden)\n",
        "intervalos = np.linspace(0,1,6) #DIVIDE [0,1] EN 5 INTERVALOS\n",
        "conteo=np.histogram(cadena, bins=intervalos)[0] #REALIZA CONTEO EN INTERVALOS\n",
        "fe=20\n",
        "#LLENA DATA FRAME CON CALCULOS\n",
        "data = pd.DataFrame({'Intervalos': [\"(0.1-0.20]\",\"(0.21-.40]\",\"(0.41-0.60]\",\"(0.61-0.80]\",\"(0.81-1.0]\"],'Fr. observada':conteo ,'Fr. esperada':fe, 'Fr. teórica':conteo/50})\n",
        "data.loc['Suma total']=['Suma  total',sum(conteo),'',sum(conteo/50)]\n",
        "print(tabulate(data, headers='keys', tablefmt='fancy_grid', floatfmt=\".2f\", showindex=False)) #IMPRIME TABLA\n",
        "\n",
        "\n",
        "#CALCULA max D+\n",
        "DP=[]\n",
        "for i in range (0,49):\n",
        "  DP.append((abs((i+1)/n-orden[i])))\n",
        "DPmax=max(DP)\n",
        "print(f\"\\nmax D+: {DPmax:.4f}\")\n",
        "\n",
        "#CALCULA max D-\n",
        "DM=[]\n",
        "for i in range(0, 49):\n",
        "    DM.append((abs(i / n - orden[i])))\n",
        "DMmax=max(DM)\n",
        "print(f\"max D-: {DMmax:.4f}\")\n",
        "\n",
        "#ESTADÍSTICO DE PRUEBA\n",
        "D=max([DMmax,DPmax])\n",
        "print(f\"\\nEstadístico = max(maxD+, maxD+) = {D:.4f}\")\n",
        "\n",
        "#AJUTE DE BONDAD\n",
        "alfa=0.05\n",
        "P_critico = ksone.ppf(1-alfa/2,n)\n",
        "\n",
        "print(f\"\\nValor crítico: {P_critico}\")\n",
        "print(f\"\\nEstadpistico calculado: {D}\")\n",
        "\n",
        "# PRUEBA DE HIPOTESIS\n",
        "if D > P_critico:\n",
        "    print(\"\\nSe RECHAZA la hipótesis nula\")\n",
        "else:\n",
        "    print(f\"\\nSe ACEPTA la hipótesis nula: Los números tienen una distribución uniforme a un nivel de significancia del {alfa}\")\n",
        "\n",
        "\n"
      ]
    }
  ]
}