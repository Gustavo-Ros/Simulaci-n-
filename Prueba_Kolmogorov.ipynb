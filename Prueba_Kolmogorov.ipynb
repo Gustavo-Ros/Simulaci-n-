{
  "nbformat": 4,
  "nbformat_minor": 0,
  "metadata": {
    "colab": {
      "provenance": [],
      "authorship_tag": "ABX9TyPfw/G32YZZdDNoD0mjtMoP",
      "include_colab_link": true
    },
    "kernelspec": {
      "name": "python3",
      "display_name": "Python 3"
    },
    "language_info": {
      "name": "python"
    }
  },
  "cells": [
    {
      "cell_type": "markdown",
      "metadata": {
        "id": "view-in-github",
        "colab_type": "text"
      },
      "source": [
        "<a href=\"https://colab.research.google.com/github/Gustavo-Ros/Simulacion-1/blob/main/Prueba_Kolmogorov.ipynb\" target=\"_parent\"><img src=\"https://colab.research.google.com/assets/colab-badge.svg\" alt=\"Open In Colab\"/></a>"
      ]
    },
    {
      "cell_type": "code",
      "source": [
        "from google.colab import drive\n",
        "drive.mount('/content/drive')"
      ],
      "metadata": {
        "colab": {
          "base_uri": "https://localhost:8080/"
        },
        "id": "arHoJLaHYmv3",
        "outputId": "d2f37778-8e85-46af-c529-46d34348feaa"
      },
      "execution_count": 4,
      "outputs": [
        {
          "output_type": "stream",
          "name": "stdout",
          "text": [
            "Mounted at /content/drive\n"
          ]
        }
      ]
    },
    {
      "cell_type": "code",
      "execution_count": 60,
      "metadata": {
        "colab": {
          "base_uri": "https://localhost:8080/"
        },
        "id": "BWaRTLm6X3d6",
        "outputId": "32090adb-7320-40ee-96c0-ee31f3b4dbeb"
      },
      "outputs": [
        {
          "output_type": "stream",
          "name": "stdout",
          "text": [
            "0.0788\n",
            "0.0988\n",
            "0.0988\n",
            "Valor crítico de Kolmogorov: 0.18840676151343094\n",
            "Estadístico calculado: 0.0988\n",
            "No se rechaza la hipótesis nula\n"
          ]
        }
      ],
      "source": [
        "import numpy as np\n",
        "import pandas as pd\n",
        "from tabulate import tabulate\n",
        "from scipy.stats import ksone\n",
        "# FORMATO DE TABLA\n",
        "df = pd.read_excel(\"/content/drive/MyDrive/PDFs/T1_50datos.xlsx\")\n",
        "df.shape\n",
        "\n",
        "datos = df.to_string(index=False, header=False)\n",
        "cadena = df.stack().tolist() #CONVIERTE SERIE EN LISTA\n",
        "\n",
        "orden=sorted(cadena)\n",
        "DP=[]\n",
        "n=len(orden)\n",
        "\n",
        "for i in range(0, 49):\n",
        "    DP.extend([abs(round((i + 1) / n - orden[i], 4))])\n",
        "DPmax=max(DP)\n",
        "print(DPmax)\n",
        "\n",
        "DM=[]\n",
        "for i in range(0, 49):\n",
        "    DM.extend([abs(round(i / n - orden[i], 4))])\n",
        "DMmax=max(DM)\n",
        "print(DMmax)\n",
        "\n",
        "D=max([DMmax,DPmax])\n",
        "print(D)\n",
        "\n",
        "\n",
        "alfa=0.05\n",
        "valor_critico = ksone.ppf(1-alfa/2, n)\n",
        "\n",
        "print(f\"Valor crítico de Kolmogorov: {valor_critico}\")\n",
        "print(f\"Estadístico calculado: {D}\")\n",
        "\n",
        "# PRUEBA DE HIPOTESIS\n",
        "if D > valor_critico:\n",
        "    print(\"Se rechaza la hipótesis nula\")\n",
        "else:\n",
        "    print(\"No se rechaza la hipótesis nula\")"
      ]
    }
  ]
}