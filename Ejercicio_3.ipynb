{
  "nbformat": 4,
  "nbformat_minor": 0,
  "metadata": {
    "colab": {
      "provenance": [],
      "authorship_tag": "ABX9TyM5RD5Vko2ya2QvbaVNVGyr",
      "include_colab_link": true
    },
    "kernelspec": {
      "name": "python3",
      "display_name": "Python 3"
    },
    "language_info": {
      "name": "python"
    }
  },
  "cells": [
    {
      "cell_type": "markdown",
      "metadata": {
        "id": "view-in-github",
        "colab_type": "text"
      },
      "source": [
        "<a href=\"https://colab.research.google.com/github/Gustavo-Ros/Simulacion-1/blob/main/Ejercicio_3.ipynb\" target=\"_parent\"><img src=\"https://colab.research.google.com/assets/colab-badge.svg\" alt=\"Open In Colab\"/></a>"
      ]
    },
    {
      "cell_type": "code",
      "execution_count": null,
      "metadata": {
        "id": "LV6eZ7xIWSNE"
      },
      "outputs": [],
      "source": [
        "import random as rnd\n",
        "import numpy as np\n",
        "import matplotlib.pyplot as plt"
      ]
    },
    {
      "cell_type": "code",
      "source": [
        "def ejer3(n):\n",
        "  lista=[]\n",
        "  u=rnd.random()\n",
        "  for i in range(n):\n",
        "    u=rnd.random()\n",
        "    if 0<=u<0.15:\n",
        "      x=1\n",
        "    elif 0.15<=u<0.2:\n",
        "      x=2\n",
        "    elif 0.2<=u<0.55:\n",
        "      x=3\n",
        "    elif 0.55<=u<1:\n",
        "       x=4\n",
        "    lista.append(x)\n",
        "  return lista\n"
      ],
      "metadata": {
        "id": "cI2HVdL4XP9A"
      },
      "execution_count": null,
      "outputs": []
    },
    {
      "cell_type": "code",
      "source": [
        "C=ejer3(1000)\n"
      ],
      "metadata": {
        "id": "oTQVRYqcY8M0"
      },
      "execution_count": null,
      "outputs": []
    },
    {
      "cell_type": "code",
      "source": [
        "def cdf(muestra):\n",
        "  n=len(muestra)\n",
        "  x=np.sort(muestra)\n",
        "  y=np.arange(0,n)/n\n",
        "  return x,y"
      ],
      "metadata": {
        "id": "AjJG4MZNY8IG"
      },
      "execution_count": null,
      "outputs": []
    },
    {
      "cell_type": "code",
      "source": [
        "X,Y=cdf(C)\n",
        "plt.step(X,Y)"
      ],
      "metadata": {
        "colab": {
          "base_uri": "https://localhost:8080/",
          "height": 447
        },
        "id": "urMZaT0cbRY7",
        "outputId": "13c66730-bb29-44a8-c357-a15a89eb5dbb"
      },
      "execution_count": null,
      "outputs": [
        {
          "output_type": "execute_result",
          "data": {
            "text/plain": [
              "[<matplotlib.lines.Line2D at 0x78fbe0d31840>]"
            ]
          },
          "metadata": {},
          "execution_count": 24
        },
        {
          "output_type": "display_data",
          "data": {
            "text/plain": [
              "<Figure size 640x480 with 1 Axes>"
            ],
            "image/png": "[encoded data removed]"
          },
          "metadata": {}
        }
      ]
    }
  ]
}