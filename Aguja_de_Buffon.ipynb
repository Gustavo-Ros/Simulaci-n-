{
  "nbformat": 4,
  "nbformat_minor": 0,
  "metadata": {
    "colab": {
      "provenance": [],
      "authorship_tag": "ABX9TyOXrWfe/ZSdE597M5RE2AXa",
      "include_colab_link": true
    },
    "kernelspec": {
      "name": "python3",
      "display_name": "Python 3"
    },
    "language_info": {
      "name": "python"
    }
  },
  "cells": [
    {
      "cell_type": "markdown",
      "metadata": {
        "id": "view-in-github",
        "colab_type": "text"
      },
      "source": [
        "<a href=\"https://colab.research.google.com/github/Gustavo-Ros/Simulacion-1/blob/main/Aguja_de_Buffon.ipynb\" target=\"_parent\"><img src=\"https://colab.research.google.com/assets/colab-badge.svg\" alt=\"Open In Colab\"/></a>"
      ]
    },
    {
      "cell_type": "markdown",
      "source": [
        "# EXPERIMENTO"
      ],
      "metadata": {
        "id": "raDONa5HDjE_"
      }
    },
    {
      "cell_type": "markdown",
      "source": [
        "El experimento consta de lanzar agujas sobre rectas dibujadas en un área (comunmente rectangular), dichas rectas deben estar uniformemente distanciadas una de otra.\n",
        "\n",
        "El experimento es usado par demostrar que la porbabilidad de que las agujas cruce alguna recta es de $\\frac{2}{\\pi}$.\n",
        "\n",
        "Es decir, se tiene el estimador $\\hspace{3mm}\\hat{\\pi}=\\frac{2N}{A}$ con $N$ el número de intentos y $A$ el número de veces que la aguja ha cruzado alguna línea."
      ],
      "metadata": {
        "id": "r9Et8kN5Dm8X"
      }
    },
    {
      "cell_type": "markdown",
      "source": [
        "# SOLUCIÓN ANALÍTICA"
      ],
      "metadata": {
        "id": "sI2EvMuMFx8C"
      }
    },
    {
      "cell_type": "markdown",
      "source": [
        "Sea $\\;x\\;$ la distancia del centro de la aguja y la linea trazada más cercana, $\\;h\\;$ la distancia entre cada línea y $\\;\\theta\\;$ el ángulo entre la aguja y la línea.\n",
        "\n",
        "Se tiene además que $\\hspace{3mm} x \\sim U(0, \\frac{t}{2})\\hspace{3mm}$ y $\\hspace{3mm}\\theta \\sim U(0, \\frac{\\pi}{2})$, por lo tanto\n",
        "\n",
        "$$f_{ag}(x)=\\dfrac{2}{t}dx$$\n",
        "\n",
        "$$f_\\theta(\\theta)=\\frac{2}{\\pi}d\\theta$$\n",
        "\n",
        "Ahora se calcula la probabilidad conjunta; al ser variables aleatorias independientes\n",
        "\n",
        "$$f_{ag, \\theta}(x,\\theta)=\\frac{2}{t} (\\frac{2}{\\pi})=\\frac{4}{\\pi t}dxd\\theta$$\n",
        "\n",
        "La condición de que una aguja cruce alguna de las lineas trazadas esta dada por $x \\leq \\frac{l}{2}sin(\\theta)$  donde $l$ es la longitud de la aguja."
      ],
      "metadata": {
        "id": "aaNGMtP8GV_a"
      }
    },
    {
      "cell_type": "markdown",
      "source": [
        "Luego, se calcula la función de probabilidad.\n",
        "\n",
        "$$\\int_{\\theta=0}^{\\pi/2} \\int_{x=0}^{\\frac{l}{2} sin \\theta} \\frac{4}{\\pi t}dxd\\theta=\\frac{2l}{\\pi t}$$"
      ],
      "metadata": {
        "id": "Ast-Y82TKcfy"
      }
    },
    {
      "cell_type": "markdown",
      "source": [
        "Si se lanzan $n$ agujas y $h$ cruzan alguna línea, entonces $\\hspace{3mm} \\frac{h}{n} ≈ \\frac{2l}{t \\pi}$ , finalmente\n",
        "$$\\pi ≈ \\frac{2nl}{ht}$$"
      ],
      "metadata": {
        "id": "vZUF0NTVLCDf"
      }
    },
    {
      "cell_type": "markdown",
      "source": [
        "# SIMULACIÓN"
      ],
      "metadata": {
        "id": "T0Le98TmLRiE"
      }
    },
    {
      "cell_type": "code",
      "execution_count": 7,
      "metadata": {
        "id": "pP8OVMF4Dgo8"
      },
      "outputs": [],
      "source": [
        "import numpy as np                        #Se cargan las librerías\n",
        "import random as rnd\n",
        "import math\n",
        "import matplotlib.pyplot as plt"
      ]
    },
    {
      "cell_type": "code",
      "source": [
        "def muestra(l,t):                 #Esta función devuelve 1 si la coordenada cruzó  una línea y 0 si no.\n",
        "  exitos=0\n",
        "  dist=np.random.uniform(0, t/2)              #distancia entre el centro de la ahuja y la recta hasta hace poco\n",
        "  theta=np.random.uniform(0, np.pi /2)        #Angulo entre aguja y linea\n",
        "  if dist <= l/2*np.sin(theta):\n",
        "    exitos+=1\n",
        "  return exitos"
      ],
      "metadata": {
        "id": "MtB2cp4NL-9M"
      },
      "execution_count": 22,
      "outputs": []
    },
    {
      "cell_type": "code",
      "source": [
        "def prob_iter(N):\n",
        "  prob=[]\n",
        "  l=1\n",
        "  t=1.5\n",
        "  iter=0\n",
        "  for i in range(N):\n",
        "    iter+=muestra(l,t)\n",
        "    prob.append(iter/(i+1))     #Guarda en una lista la probabilidad\n",
        "  print((2*N*l)/(t*iter*np.pi))               #MRegresa estimdor\n",
        "  return prob"
      ],
      "metadata": {
        "id": "u12dP0kfOHXz"
      },
      "execution_count": 23,
      "outputs": []
    },
    {
      "cell_type": "code",
      "source": [
        "C=prob_iter(1000000)"
      ],
      "metadata": {
        "colab": {
          "base_uri": "https://localhost:8080/"
        },
        "id": "0kVZ9YyVPOw_",
        "outputId": "675ed239-f870-484e-d6b4-c56d61c27f5c"
      },
      "execution_count": 24,
      "outputs": [
        {
          "output_type": "stream",
          "name": "stdout",
          "text": [
            "0.9996824424526498\n"
          ]
        }
      ]
    }
  ]
}