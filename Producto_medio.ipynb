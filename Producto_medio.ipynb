{
  "nbformat": 4,
  "nbformat_minor": 0,
  "metadata": {
    "colab": {
      "provenance": [],
      "authorship_tag": "ABX9TyPT6jap0afVo/7Y1bV1wdIx",
      "include_colab_link": true
    },
    "kernelspec": {
      "name": "python3",
      "display_name": "Python 3"
    },
    "language_info": {
      "name": "python"
    }
  },
  "cells": [
    {
      "cell_type": "markdown",
      "metadata": {
        "id": "view-in-github",
        "colab_type": "text"
      },
      "source": [
        "<a href=\"https://colab.research.google.com/github/Gustavo-Ros/Simulacion-1/blob/main/Producto_medio.ipynb\" target=\"_parent\"><img src=\"https://colab.research.google.com/assets/colab-badge.svg\" alt=\"Open In Colab\"/></a>"
      ]
    },
    {
      "cell_type": "markdown",
      "source": [
        "# PRODUCTO MEDIO\n",
        "\n",
        "\n",
        "---\n",
        "\n",
        "1. Seleccionar dos semillas $\\hspace{2mm}X_{n-1}\\hspace{2mm}$ y $\\hspace{2mm}X_n\\hspace{2mm}$ , ambos de longitud $\\hspace{2mm}p$\n",
        "2. Multiplicar ambas semilas:  $\\hspace{2mm}(X_{n-1})(X_n)$\n",
        "3. Tomar $\\hspace{2mm}C: p$ dígitos centrales de$\\hspace{2mm}(X_{n-1})(X_n)$.\n",
        "4. Hacer $\\hspace{2mm}X_{n-1}=X_{n}\\hspace{2mm}$ y $\\hspace{2mm}X_{n}=C\\hspace{2mm}$\n",
        "5. Regresar a paso 2\n"
      ],
      "metadata": {
        "id": "sZJ2vij25Gc9"
      }
    },
    {
      "cell_type": "markdown",
      "source": [
        "VENTAJAS\n",
        "> Algoritmo sencillo de programar y ejecutar\n",
        "\n",
        ">Bajo costo computacional\n",
        "\n",
        "DESVENTAJAS\n",
        ">  Con frecuencia, tiene ciclos de vida cortos\n",
        "\n",
        "> Las semillas determinan la calidad de los números generados\n",
        "\n",
        "\n",
        "\n"
      ],
      "metadata": {
        "id": "YGjQz1nG6WAq"
      }
    },
    {
      "cell_type": "markdown",
      "source": [
        "# CÓDIGO"
      ],
      "metadata": {
        "id": "InSIzoVChJb_"
      }
    },
    {
      "cell_type": "code",
      "execution_count": null,
      "metadata": {
        "colab": {
          "base_uri": "https://localhost:8080/"
        },
        "id": "-MYvqDBz5FHc",
        "outputId": "04ce4c1f-3cfc-43d9-eff9-4a4c32ab87e7"
      },
      "outputs": [
        {
          "output_type": "stream",
          "name": "stdout",
          "text": [
            "No. de números aleatorios: 35\n",
            "Ingrese la longitud del número: 5\n",
            "Xn_1= 78954\n",
            "Xn= 36985\n",
            "╒═════╤════════╤═══════╤══════════════╕\n",
            "│   n │   xn_1 │    xn │   (xn)(xn_1) │\n",
            "╞═════╪════════╪═══════╪══════════════╡\n",
            "│   0 │  78954 │ 36985 │  02920113690 │\n",
            "├─────┼────────┼───────┼──────────────┤\n",
            "│   1 │  36985 │ 20113 │    743879305 │\n",
            "├─────┼────────┼───────┼──────────────┤\n",
            "│   2 │  20113 │ 38793 │    780243609 │\n",
            "├─────┼────────┼───────┼──────────────┤\n",
            "│   3 │  38793 │  2436 │    094499748 │\n",
            "├─────┼────────┼───────┼──────────────┤\n",
            "│   4 │   2436 │ 44997 │    109612692 │\n",
            "├─────┼────────┼───────┼──────────────┤\n",
            "│   5 │  44997 │ 96126 │  04325381622 │\n",
            "├─────┼────────┼───────┼──────────────┤\n",
            "│   6 │  96126 │ 25381 │  02439774006 │\n",
            "├─────┼────────┼───────┼──────────────┤\n",
            "│   7 │  25381 │ 39774 │  01009503894 │\n",
            "├─────┼────────┼───────┼──────────────┤\n",
            "│   8 │  39774 │  9503 │    377972322 │\n",
            "├─────┼────────┼───────┼──────────────┤\n",
            "│   9 │   9503 │ 79723 │    757607669 │\n",
            "├─────┼────────┼───────┼──────────────┤\n",
            "│  10 │  79723 │ 76076 │  06065006948 │\n",
            "├─────┼────────┼───────┼──────────────┤\n",
            "│  11 │  76076 │ 65006 │  04945396456 │\n",
            "├─────┼────────┼───────┼──────────────┤\n",
            "│  12 │  65006 │ 45396 │  02951012376 │\n",
            "├─────┼────────┼───────┼──────────────┤\n",
            "│  13 │  45396 │ 51012 │  02315740752 │\n",
            "├─────┼────────┼───────┼──────────────┤\n",
            "│  14 │  51012 │ 15740 │    802928880 │\n",
            "├─────┼────────┼───────┼──────────────┤\n",
            "│  15 │  15740 │ 29288 │    460993120 │\n",
            "├─────┼────────┼───────┼──────────────┤\n",
            "│  16 │  29288 │  9931 │    290859128 │\n",
            "├─────┼────────┼───────┼──────────────┤\n",
            "│  17 │   9931 │  8591 │    085317221 │\n",
            "├─────┼────────┼───────┼──────────────┤\n",
            "│  18 │   8591 │ 53172 │    456800652 │\n",
            "├─────┼────────┼───────┼──────────────┤\n",
            "│  19 │  53172 │ 68006 │  03616015032 │\n",
            "├─────┼────────┼───────┼──────────────┤\n",
            "│  20 │  68006 │ 16015 │  01089116090 │\n",
            "├─────┼────────┼───────┼──────────────┤\n",
            "│  21 │  16015 │ 89116 │  01427192740 │\n",
            "├─────┼────────┼───────┼──────────────┤\n",
            "│  22 │  89116 │ 27192 │  02423242272 │\n",
            "├─────┼────────┼───────┼──────────────┤\n",
            "│  23 │  27192 │ 23242 │    631996464 │\n",
            "├─────┼────────┼───────┼──────────────┤\n",
            "│  24 │  23242 │ 19964 │    464003288 │\n",
            "├─────┼────────┼───────┼──────────────┤\n",
            "│  25 │  19964 │ 40032 │    799198848 │\n",
            "├─────┼────────┼───────┼──────────────┤\n",
            "│  26 │  40032 │ 91988 │  03682463616 │\n",
            "├─────┼────────┼───────┼──────────────┤\n",
            "│  27 │  91988 │ 82463 │  07585606444 │\n",
            "├─────┼────────┼───────┼──────────────┤\n",
            "│  28 │  82463 │ 85606 │  07059327578 │\n",
            "├─────┼────────┼───────┼──────────────┤\n",
            "│  29 │  85606 │ 59327 │  05078747162 │\n",
            "├─────┼────────┼───────┼──────────────┤\n",
            "│  30 │  59327 │ 78747 │  04671823269 │\n",
            "├─────┼────────┼───────┼──────────────┤\n",
            "│  31 │  78747 │ 71823 │  05655845781 │\n",
            "├─────┼────────┼───────┼──────────────┤\n",
            "│  32 │  71823 │ 55845 │  04010955435 │\n",
            "├─────┼────────┼───────┼──────────────┤\n",
            "│  33 │  55845 │ 10955 │    611781975 │\n",
            "├─────┼────────┼───────┼──────────────┤\n",
            "│  34 │  10955 │ 17819 │    195207145 │\n",
            "╘═════╧════════╧═══════╧══════════════╛\n"
          ]
        }
      ],
      "source": [
        "import pandas as pd\n",
        "import numpy as np\n",
        "from tabulate import tabulate\n",
        "\n",
        "#NUMERO GENERADOS Y NUMERO DE CIFRAS\n",
        "num=int(input('No. de números aleatorios: '))\n",
        "d=int(input(\"Ingrese la longitud del número: \"))\n",
        "\n",
        "xn_1=int(input(\"Xn_1= \"))\n",
        "xn=int(input(\"Xn= \"))\n",
        "\n",
        "#CORRIGE NUMEROS\n",
        "while len(str(xn))!=d:\n",
        "  xn=int(input(\"\\nXn= \"))\n",
        "\n",
        "while len(str(xn_1))!=d:\n",
        "  xn_1=int(input(\"Xn_1= \"))\n",
        "\n",
        "# DATOS PARA TABLA\n",
        "data = []\n",
        "\n",
        "for i in range(0,num):\n",
        "  prod=xn*xn_1\n",
        "  prod=str(prod)\n",
        "  lprod=len(str(prod))\n",
        "\n",
        "  if (lprod-d)%2!=0:\n",
        "    lprod=len('0'+prod)\n",
        "    prod='0'+prod          #Agrega 0 para tomar cifra de enmedio\n",
        "\n",
        "  inter=int((lprod-d)/2)\n",
        "  x=prod[inter:inter+d]    #Elimina extremos\n",
        "  sxn=str(xn)\n",
        "  sxn_1=str(xn_1)\n",
        "  data.append([f\"{i}\", f\"{sxn_1}\", f\"{sxn}\",f\"{prod}\"])\n",
        "  xn_1=xn\n",
        "  xn=int(x)\n",
        "\n",
        "headers = ['n', 'xn_1', 'xn', '(xn)(xn_1)']  #ENCABEZADOS\n",
        "data = pd.DataFrame(data, columns=headers)  #AGREGA ENCABEZADOS\n",
        "print(tabulate(data, headers=headers, tablefmt=\"fancy_grid\",showindex=False))"
      ]
    }
  ]
}