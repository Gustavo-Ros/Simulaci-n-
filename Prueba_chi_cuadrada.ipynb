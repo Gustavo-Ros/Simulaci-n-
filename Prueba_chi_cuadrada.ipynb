{
  "nbformat": 4,
  "nbformat_minor": 0,
  "metadata": {
    "colab": {
      "provenance": [],
      "authorship_tag": "ABX9TyP+qW6lo7/RkgDox1Wd0oYN",
      "include_colab_link": true
    },
    "kernelspec": {
      "name": "python3",
      "display_name": "Python 3"
    },
    "language_info": {
      "name": "python"
    }
  },
  "cells": [
    {
      "cell_type": "markdown",
      "metadata": {
        "id": "view-in-github",
        "colab_type": "text"
      },
      "source": [
        "<a href=\"https://colab.research.google.com/github/Gustavo-Ros/Simulacion-1/blob/main/Prueba_chi_cuadrada.ipynb\" target=\"_parent\"><img src=\"https://colab.research.google.com/assets/colab-badge.svg\" alt=\"Open In Colab\"/></a>"
      ]
    },
    {
      "cell_type": "markdown",
      "source": [
        "# PRUEBA DE BONDAD CHI-CUADRADA"
      ],
      "metadata": {
        "id": "F465oB02dEn3"
      }
    },
    {
      "cell_type": "markdown",
      "source": [
        "Con esta prueba se quiere verificar que no hay diferencia detectable entre la distribución muestral y l ateórica. Por lo tanto, se plantea la hipóstesis nula:\n",
        "\n",
        "> $H_0:$ Los números de la muestra proviene de una distribución uniforme en el\n",
        " intervalo $(a,b)$, a un nivel de significancia $\\alpha=0.05$\n",
        "\n",
        " En este caso, distribución uniforme:\n",
        " * Funciona solo para 5 o más clases\n",
        "\n",
        " * Para cantidades grandes de datos $\\chi^2 ≈N(\\mu, \\sigma)$"
      ],
      "metadata": {
        "id": "IQtJW3yba6Xx"
      }
    },
    {
      "cell_type": "markdown",
      "source": [
        "**EJERCICIO:**\n",
        "Determine si la siguiente lista de 100 números de 2 dígitos tiene una distribución uniforme con un nivel de aceptación de 90 %."
      ],
      "metadata": {
        "id": "O7I4WXlOdJ4P"
      }
    },
    {
      "cell_type": "markdown",
      "source": [
        "#CÓDIGO"
      ],
      "metadata": {
        "id": "Xp_WDAiedWnP"
      }
    },
    {
      "cell_type": "code",
      "execution_count": 10,
      "metadata": {
        "colab": {
          "base_uri": "https://localhost:8080/"
        },
        "id": "x68sqUl8Wzxc",
        "outputId": "aee82d65-1a52-4f33-8077-36f4d6d67e07"
      },
      "outputs": [
        {
          "output_type": "stream",
          "name": "stdout",
          "text": [
            "╒══════════════╤══════╤══════╤═════════╤════════════════╕\n",
            "│ Intervalos   │   f0 │ fe   │ f0-fe   │   (f0-fe)^2/fe │\n",
            "╞══════════════╪══════╪══════╪═════════╪════════════════╡\n",
            "│ (0.1-0.20]   │   20 │ 20   │ 0       │           0.00 │\n",
            "├──────────────┼──────┼──────┼─────────┼────────────────┤\n",
            "│ (0.21-.40]   │   18 │ 20   │ -2      │           0.20 │\n",
            "├──────────────┼──────┼──────┼─────────┼────────────────┤\n",
            "│ (0.41-0.60]  │   22 │ 20   │ 2       │           0.20 │\n",
            "├──────────────┼──────┼──────┼─────────┼────────────────┤\n",
            "│ (0.61-0.80]  │   20 │ 20   │ 0       │           0.00 │\n",
            "├──────────────┼──────┼──────┼─────────┼────────────────┤\n",
            "│ (0.81-1.0]   │   20 │ 20   │ 0       │           0.00 │\n",
            "├──────────────┼──────┼──────┼─────────┼────────────────┤\n",
            "│ Suma  total  │  100 │      │         │           0.40 │\n",
            "╘══════════════╧══════╧══════╧═════════╧════════════════╛\n",
            "Valor crítico: 7.779440339734858\n",
            "Estadístico calculado: 0.4\n",
            "Se ACEPTA la hipótesis nula\n"
          ]
        }
      ],
      "source": [
        "import numpy as np\n",
        "import pandas as pd\n",
        "from tabulate import tabulate\n",
        "\n",
        "lista=[0.78, 0.98, 0.24, 0.73, 0.43, 0.16, 0.78, 0.47, 0.18, 0.55, 0.04, 0.29, 0.68, 0.77, 0.16, 0.03, 0.79, 0.22, 0.37, 0.80, 0.96, 0.26, 0.91, 0.55, 0.75, 0.55, 0.64, 0.39, 0.53, 0.45, 0.61, 0.14, 0.38, 0.12, 0.40, 0.74, 0.78, 0.98, 0.27, 0.60, 0.43, 0.67, 0.62, 0.32, 0.53, 0.54, 0.24, 0.29, 0.18, 0.08, 0.82, 0.94, 0.19, 0.98, 0.41, 1.00, 0.74, 0.92, 0.14, 0.43, 0.83, 0.88, 0.18, 0.21, 0.50, 0.13, 0.43, 0.69, 0.08, 0.12, 0.22, 0.50, 0.16, 0.11, 0.18, 0.89, 0.80, 0.42, 0.29, 0.87, 0.83, 0.79, 0.65, 0.28, 0.78, 0.49, 0.36, 0.86, 0.87, 0.64, 0.51, 0.07, 0.18, 0.94, 0.50, 0.22, 0.66, 0.91, 0.48, 0.24]\n",
        "intervalos = np.linspace(0,1,6) #DIVIDE [0,1] EN 5 INTERVALOS\n",
        "\n",
        "conteo=np.histogram(lista, bins=intervalos)[0] #REALIZA CONTEO EN INTERVALOS\n",
        "\n",
        "#DATOSD DE DATA FRAME\n",
        "fe = 20\n",
        "dif = []\n",
        "chi = []\n",
        "df = []\n",
        "\n",
        "#CALCULOS\n",
        "dif = np.concatenate([conteo - fe]) #f0-fe\n",
        "chi = np.concatenate([(conteo-fe)**2/fe]) #(f0-fe)**2/fe\n",
        "suma_chi=sum(chi) #ESTADISTICO CALCULADO\n",
        "suma_frec=sum(conteo) #FRECUENCIA TOTAL\n",
        "\n",
        "#LLENA DATA FRAME CON CALCULOS\n",
        "data = pd.DataFrame({'Intervalos': [\"(0.1-0.20]\",\"(0.21-.40]\",\"(0.41-0.60]\",\"(0.61-0.80]\",\"(0.81-1.0]\"],'f0':conteo ,'fe':fe, 'f0-fe':dif, '(f0-fe)^2/fe':chi})\n",
        "data.loc['Suma total']=['Suma  total',suma_frec,'','',suma_chi]\n",
        "print(tabulate(data, headers='keys', tablefmt='fancy_grid', floatfmt=\".2f\", showindex=False)) #IMPRIME TABLA\n",
        "\n",
        "#AJUSTE DE BONDAD\n",
        "from scipy.stats import chi2\n",
        "alpha = 0.1\n",
        "gl = 4\n",
        "valor_critico = chi2.ppf(1 - alpha, gl)\n",
        "print(f\"Valor crítico: {valor_critico}\")\n",
        "print(f\"Estadístico calculado: {suma_chi}\")\n",
        "\n",
        "# PRUEBA DE HIPOTESIS\n",
        "if suma_chi > valor_critico:\n",
        "    print(\"Se RECHAZA la hipótesis nula\")\n",
        "else:\n",
        "    print(\"Se ACEPTA la hipótesis nula\")\n",
        "\n"
      ]
    }
  ]
}