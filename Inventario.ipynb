{
  "nbformat": 4,
  "nbformat_minor": 0,
  "metadata": {
    "colab": {
      "provenance": [],
      "authorship_tag": "ABX9TyPKTPzPQA0mwxNPVLFwgoPN",
      "include_colab_link": true
    },
    "kernelspec": {
      "name": "python3",
      "display_name": "Python 3"
    },
    "language_info": {
      "name": "python"
    }
  },
  "cells": [
    {
      "cell_type": "markdown",
      "metadata": {
        "id": "view-in-github",
        "colab_type": "text"
      },
      "source": [
        "<a href=\"https://colab.research.google.com/github/Gustavo-Ros/Simulacion-1/blob/main/Inventario.ipynb\" target=\"_parent\"><img src=\"https://colab.research.google.com/assets/colab-badge.svg\" alt=\"Open In Colab\"/></a>"
      ]
    },
    {
      "cell_type": "code",
      "execution_count": 1,
      "metadata": {
        "id": "RQQxrCT2qSfi"
      },
      "outputs": [],
      "source": [
        "import random as rnd\n",
        "import numpy as np\n",
        "from tabulate import tabulate\n",
        "import matplotlib.pyplot as plt"
      ]
    },
    {
      "cell_type": "code",
      "source": [
        "def demanda():                            #Esta función calcula y devuelve la demanda\n",
        "  prob=[0,0.01,0.025,0.045,0.065, 0.087,0.11,0.135,0.162,0.19,0.219,0.254,0.299,0.359,0.424,0.494,0.574,0.649,0.719,0.784,0.844, 0.894,0.934,0.964,0.980,0.995,1]\n",
        "  u=rnd.random()\n",
        "  for i in range(len(prob)):\n",
        "      if prob[i-1] <= u <= prob[i]:       #Ubica el valor de u en inervalos\n",
        "          x=i+34                          #Asigna valor de demanda\n",
        "          break\n",
        "  return x,u"
      ],
      "metadata": {
        "id": "FfxcaNZ2qWKh"
      },
      "execution_count": 2,
      "outputs": []
    },
    {
      "cell_type": "code",
      "source": [
        "def demanda_ajustada(x,mes):              #Esta fución calcula y devuelve la demanda ajustada\n",
        "  factor_mes=[1.2, 1, 0.9, 0.8, 0.8 ,0.7, 0.8, 0.9, 1, 1.2, 1.3, 1.4]\n",
        "  for j in range(len(factor_mes)):\n",
        "    if mes==j:                            #Ubica el mes\n",
        "      x=round(x*factor_mes[j-1])          #multiplica por el factor\n",
        "  return x"
      ],
      "metadata": {
        "id": "JZD3JqRrqeZ_"
      },
      "execution_count": 3,
      "outputs": []
    },
    {
      "cell_type": "code",
      "source": [
        "def entrega(carga_pend,cont_ent):                  #Esta función calcula y devuelve el tiempo de entrega (y estatus de entrega pendiente)\n",
        "  carga_pend=True                         #Indica que hay entrega pendiente\n",
        "\n",
        "  v=rnd.random()\n",
        "  if 0<= v < 0.3:                         #Asigna valor a el tiempo de entrega\n",
        "    entrega=1\n",
        "  elif 0.3 <= v < 0.7:\n",
        "    entrega=2\n",
        "  elif 0.7 <= v < 1:\n",
        "    entrega=3\n",
        "  cont_ent+=1\n",
        "  return  entrega,carga_pend,cont_ent\n"
      ],
      "metadata": {
        "id": "TOx1SHxhrpwF"
      },
      "execution_count": 4,
      "outputs": []
    },
    {
      "cell_type": "code",
      "source": [
        "#Asigna valores iniciales\n",
        "\n",
        "inv_inicial=150\n",
        "inventario_i=[150]                          #Guarda inventario inicial en una lista\n",
        "inv_falt=0\n",
        "carga_pend=False                            #Indica que no hay carga pendiente\n",
        "t_entrega=0                                 #No hay tiempo de entrega\n",
        "cont=-1                                     #Contador para recibir la entrega (inicia en -1 para comenzar a contar desde la sig. iteracion)\n",
        "faltante=0                                  #Demanda faltante\n",
        "data=[]                                     #Lista para imprimir tabla\n",
        "cont_ent=0\n",
        "q=200\n",
        "R=100\n",
        "for m in range(12):                         #Ciclo de 12 meses\n",
        "  mes=m+1\n",
        "  dem,val=demanda()                         #Calcula demanda y número aleatorio generado para el mes correspondiente\n",
        "  dem_ajus=demanda_ajustada(dem,mes)        #Calcula demanda ajustada\n",
        "\n",
        "  inv_final=inv_inicial-dem_ajus            #Calcula demanda final\n",
        "  inv_men_prom=(inv_inicial+dem_ajus)/2     #Calcula demanda promedio mensual\n",
        "\n",
        "\n",
        "\n",
        "  if inv_final<=R and carga_pend==False:    #Condición: Se pasó el punto de reorden y no hay carga pendiente\n",
        "    t_entrega,carga_pend,cont_ent=entrega(carga_pend,cont_ent)  #Calucla tiempo de entrega\n",
        "\n",
        "  if carga_pend==True:                        #Contador para recibir la entrega aumenta en 1\n",
        "    cont+=1\n",
        "\n",
        "  if inv_final<0:                             #Si el inventario final es negativo, se imprime \"-\"\n",
        "    faltante=abs(inv_final)\n",
        "    data.append([f\"{mes}\",f\"{inv_inicial}\", f\"{val}\", f\"{dem}\",f\"{dem_ajus}\", \"-\",f\"{faltante}\",f\"{t_entrega}\",f\"{np.round(inv_inicial**2/(2*dem_ajus))}\"])\n",
        "    inv_falt+=faltante\n",
        "  else:\n",
        "    data.append([f\"{mes}\",f\"{inv_inicial}\", f\"{val}\", f\"{dem}\",f\"{dem_ajus}\", f\"{inv_final}\",f\"{faltante}\",f\"{t_entrega}\",f\"{np.round(inv_men_prom)}\"])\n",
        "\n",
        "  inv_inicial=inv_final                       #Inventario final pasa a ser inventario incial en el siguiente mes\n",
        "\n",
        "  if cont==t_entrega:                         #Condición: Se cumple tiempo de entrega\n",
        "    cont=-1                                   #Reinicia contador\n",
        "    inv_inicial+=q                          #Aumenta el inventario +200\n",
        "    carga_pend=False                          #Indica que ya no hay carga pendiente\n",
        "    t_entrega=0                               #Reinicia tiempo de entrega\n",
        "\n",
        "  faltante=0                                  #Reinicia inv. faltante\n",
        "  inventario_i.append(inv_inicial)            #Guarda inventario inicial en una lista\n",
        "\n",
        "#Imprime tabla\n",
        "headers = ['Mes', 'Inventario inicial' ,'No. aleatorio' ,'Demanda' ,'Demanda ajustada' , 'Inventario final','Faltante', 'Entrega', 'Inventario mensual promedio']\n",
        "print(tabulate(data, headers=headers, tablefmt=\"fancy_grid\",showindex=False))\n"
      ],
      "metadata": {
        "colab": {
          "base_uri": "https://localhost:8080/"
        },
        "id": "mwiKhOqLqsTn",
        "outputId": "f431cb91-7ecb-4f5f-a626-3e3eb8e2046a"
      },
      "execution_count": 5,
      "outputs": [
        {
          "output_type": "stream",
          "name": "stdout",
          "text": [
            "╒═══════╤══════════════════════╤═════════════════╤═══════════╤════════════════════╤════════════════════╤════════════╤═══════════╤═══════════════════════════════╕\n",
            "│   Mes │   Inventario inicial │   No. aleatorio │   Demanda │   Demanda ajustada │ Inventario final   │   Faltante │   Entrega │   Inventario mensual promedio │\n",
            "╞═══════╪══════════════════════╪═════════════════╪═══════════╪════════════════════╪════════════════════╪════════════╪═══════════╪═══════════════════════════════╡\n",
            "│     1 │                  150 │       0.912454  │        56 │                 67 │ 83                 │          0 │         3 │                           108 │\n",
            "├───────┼──────────────────────┼─────────────────┼───────────┼────────────────────┼────────────────────┼────────────┼───────────┼───────────────────────────────┤\n",
            "│     2 │                   83 │       0.900262  │        56 │                 56 │ 27                 │          0 │         3 │                            70 │\n",
            "├───────┼──────────────────────┼─────────────────┼───────────┼────────────────────┼────────────────────┼────────────┼───────────┼───────────────────────────────┤\n",
            "│     3 │                   27 │       0.450179  │        49 │                 44 │ -                  │         17 │         3 │                             8 │\n",
            "├───────┼──────────────────────┼─────────────────┼───────────┼────────────────────┼────────────────────┼────────────┼───────────┼───────────────────────────────┤\n",
            "│     4 │                  -17 │       0.485711  │        49 │                 39 │ -                  │         56 │         3 │                             4 │\n",
            "├───────┼──────────────────────┼─────────────────┼───────────┼────────────────────┼────────────────────┼────────────┼───────────┼───────────────────────────────┤\n",
            "│     5 │                  144 │       0.141564  │        42 │                 34 │ 110                │          0 │         0 │                            89 │\n",
            "├───────┼──────────────────────┼─────────────────┼───────────┼────────────────────┼────────────────────┼────────────┼───────────┼───────────────────────────────┤\n",
            "│     6 │                  110 │       0.0166893 │        36 │                 25 │ 85                 │          0 │         3 │                            68 │\n",
            "├───────┼──────────────────────┼─────────────────┼───────────┼────────────────────┼────────────────────┼────────────┼───────────┼───────────────────────────────┤\n",
            "│     7 │                   85 │       0.10856   │        40 │                 32 │ 53                 │          0 │         3 │                            58 │\n",
            "├───────┼──────────────────────┼─────────────────┼───────────┼────────────────────┼────────────────────┼────────────┼───────────┼───────────────────────────────┤\n",
            "│     8 │                   53 │       0.507237  │        50 │                 45 │ 8                  │          0 │         3 │                            49 │\n",
            "├───────┼──────────────────────┼─────────────────┼───────────┼────────────────────┼────────────────────┼────────────┼───────────┼───────────────────────────────┤\n",
            "│     9 │                    8 │       0.654929  │        52 │                 52 │ -                  │         44 │         3 │                             1 │\n",
            "├───────┼──────────────────────┼─────────────────┼───────────┼────────────────────┼────────────────────┼────────────┼───────────┼───────────────────────────────┤\n",
            "│    10 │                  156 │       0.235594  │        45 │                 54 │ 102                │          0 │         0 │                           105 │\n",
            "├───────┼──────────────────────┼─────────────────┼───────────┼────────────────────┼────────────────────┼────────────┼───────────┼───────────────────────────────┤\n",
            "│    11 │                  102 │       0.343789  │        47 │                 61 │ 41                 │          0 │         1 │                            82 │\n",
            "├───────┼──────────────────────┼─────────────────┼───────────┼────────────────────┼────────────────────┼────────────┼───────────┼───────────────────────────────┤\n",
            "│    12 │                   41 │       0.973826  │        58 │                 58 │ -                  │         17 │         1 │                            14 │\n",
            "╘═══════╧══════════════════════╧═════════════════╧═══════════╧════════════════════╧════════════════════╧════════════╧═══════════╧═══════════════════════════════╛\n"
          ]
        }
      ]
    },
    {
      "cell_type": "code",
      "source": [
        "#Imprime gráfica\n",
        "plt.plot(inventario_i, marker='o', label=\"Inventario inicial\")\n",
        "plt.title('Simulación para 1 año de operación del sist. de inventarios')\n",
        "plt.xlabel('Mes')\n",
        "plt.ylabel('Inventario inicial')\n",
        "plt.axhline(100, color=\"red\",linestyle='--', label='Punto de reorden')\n",
        "plt.axhline(0, color='black')\n",
        "plt.grid(True)\n",
        "plt.legend()\n",
        "plt.show()"
      ],
      "metadata": {
        "colab": {
          "base_uri": "https://localhost:8080/",
          "height": 472
        },
        "id": "dJC0nn7YLJav",
        "outputId": "82ed51a3-4a9d-4ac7-d2ad-f64b48cb2a6d"
      },
      "execution_count": 6,
      "outputs": [
        {
          "output_type": "display_data",
          "data": {
            "text/plain": [
              "<Figure size 640x480 with 1 Axes>"
            ],
            "image/png": "[encoded data removed]"
          },
          "metadata": {}
        }
      ]
    },
    {
      "cell_type": "code",
      "source": [
        "suma_inv_prom = 0\n",
        "for fila in data:\n",
        "    valor_str = fila[-1]\n",
        "    suma_inv_prom += float(valor_str)\n",
        "\n",
        "costo=[cont_ent*R, suma_inv_prom*1.67 ,inv_falt*50,cont_ent*R+suma_inv_prom*1.67+inv_falt*50]\n",
        "print(costo)\n",
        "\n",
        "\n"
      ],
      "metadata": {
        "colab": {
          "base_uri": "https://localhost:8080/"
        },
        "id": "1_LoXbqS1WtQ",
        "outputId": "3db90f11-10ab-47a5-b4db-0b228e07f938"
      },
      "execution_count": 9,
      "outputs": [
        {
          "output_type": "stream",
          "name": "stdout",
          "text": [
            "[300, 1095.52, 6700, 8095.52]\n"
          ]
        }
      ]
    },
    {
      "cell_type": "code",
      "source": [
        "def experimento(q,R):\n",
        "  inv_inicial=150\n",
        "  inventario_i=[150]                          #Guarda inventario inicial en una lista\n",
        "  inv_falt=0\n",
        "  carga_pend=False                            #Indica que no hay carga pendiente\n",
        "  t_entrega=0                                 #No hay tiempo de entrega\n",
        "  cont=-1                                     #Contador para recibir la entrega (inicia en -1 para comenzar a contar desde la sig. iteracion)\n",
        "  faltante=0                                  #Demanda faltante\n",
        "  data=[]                                     #Lista para imprimir tabla\n",
        "  cont_ent=0\n",
        "  for m in range(12):                         #Ciclo de 12 meses\n",
        "    mes=m+1\n",
        "    dem,val=demanda()                         #Calcula demanda y número aleatorio generado para el mes correspondiente\n",
        "    dem_ajus=demanda_ajustada(dem,mes)        #Calcula demanda ajustada\n",
        "\n",
        "    inv_final=inv_inicial-dem_ajus            #Calcula demanda final\n",
        "    inv_men_prom=(inv_inicial+dem_ajus)/2     #Calcula demanda promedio mensual\n",
        "\n",
        "\n",
        "\n",
        "    if inv_final<=R and carga_pend==False:    #Condición: Se pasó el punto de reorden y no hay carga pendiente\n",
        "      t_entrega,carga_pend,cont_ent=entrega(carga_pend,cont_ent)  #Calucla tiempo de entrega\n",
        "\n",
        "    if carga_pend==True:                        #Contador para recibir la entrega aumenta en 1\n",
        "      cont+=1\n",
        "\n",
        "    if inv_final<0:                             #Si el inventario final es negativo, se imprime \"-\"\n",
        "      faltante=abs(inv_final)\n",
        "      data.append([f\"{mes}\",f\"{inv_inicial}\", f\"{val}\", f\"{dem}\",f\"{dem_ajus}\", \"-\",f\"{faltante}\",f\"{t_entrega}\",f\"{np.round(inv_inicial**2/(2*dem_ajus))}\"])\n",
        "      inv_falt+=faltante\n",
        "    else:\n",
        "      data.append([f\"{mes}\",f\"{inv_inicial}\", f\"{val}\", f\"{dem}\",f\"{dem_ajus}\", f\"{inv_final}\",f\"{faltante}\",f\"{t_entrega}\",f\"{np.round(inv_men_prom)}\"])\n",
        "\n",
        "    inv_inicial=inv_final                       #Inventario final pasa a ser inventario incial en el siguiente mes\n",
        "\n",
        "    if cont==t_entrega:                         #Condición: Se cumple tiempo de entrega\n",
        "      cont=-1                                   #Reinicia contador\n",
        "      inv_inicial+=q                          #Aumenta el inventario +200\n",
        "      carga_pend=False                          #Indica que ya no hay carga pendiente\n",
        "      t_entrega=0                               #Reinicia tiempo de entrega\n",
        "\n",
        "    faltante=0                                  #Reinicia inv. faltante\n",
        "    inventario_i.append(inv_inicial)            #Guarda inventario inicial en una lista\n",
        "\n",
        "  #Imprime tabla\n",
        "  headers = ['Mes', 'Inventario inicial' ,'No. aleatorio' ,'Demanda' ,'Demanda ajustada' , 'Inventario final','Faltante', 'Entrega', 'Inventario mensual promedio']\n",
        "  #print(tabulate(data, headers=headers, tablefmt=\"fancy_grid\",showindex=False))\n",
        "\n",
        "  suma_inv_prom = 0\n",
        "  for fila in data:\n",
        "    # Asumiendo que 'Inventario mensual promedio' es la última columna\n",
        "    valor_str = fila[-1]\n",
        "    suma_inv_prom += float(valor_str)\n",
        "\n",
        "  costo=[cont_ent*R, suma_inv_prom*1.67 ,inv_falt*50,cont_ent*R+suma_inv_prom*1.67+inv_falt*50]\n",
        "  #print(costo)\n",
        "  return cont_ent*R+suma_inv_prom*1.67+inv_falt*50"
      ],
      "metadata": {
        "id": "iM-4kdzV8vFy"
      },
      "execution_count": 12,
      "outputs": []
    },
    {
      "cell_type": "code",
      "source": [
        "EXP=experimento(100,200)"
      ],
      "metadata": {
        "id": "T7zcRC1K9Dn7"
      },
      "execution_count": 17,
      "outputs": []
    },
    {
      "cell_type": "code",
      "source": [
        "EXP"
      ],
      "metadata": {
        "id": "g6M2cYOK9Wty",
        "outputId": "3bd6a06e-6d8a-49dc-dfb6-ac58a81073b9",
        "colab": {
          "base_uri": "https://localhost:8080/"
        }
      },
      "execution_count": 18,
      "outputs": [
        {
          "output_type": "execute_result",
          "data": {
            "text/plain": [
              "20594.42"
            ]
          },
          "metadata": {},
          "execution_count": 18
        }
      ]
    },
    {
      "cell_type": "code",
      "source": [
        "from scipy.optimize import minimize\n",
        "\n",
        "def fun_obj(Z):\n",
        "  q,R= Z\n",
        "  return experimento(q,R)\n",
        "\n",
        "def opti():\n",
        "  valores_iniciales = [200, 100]\n",
        "  resultado=minimize(fun_obj,valores_iniciales,method='BFGS')\n",
        "\n",
        "  print('R:',resultado.x[0])\n",
        "  print('q:',resultado.x[1])\n",
        "  return resultado.x[0],resultado.x[1]\n",
        "\n"
      ],
      "metadata": {
        "id": "IJybkstW-F6p"
      },
      "execution_count": 19,
      "outputs": []
    },
    {
      "cell_type": "code",
      "source": [
        "Res=opti()\n",
        "print(Res)"
      ],
      "metadata": {
        "id": "6YssAm6e-17_",
        "outputId": "fd09a6b3-501f-46a6-b514-f2ea7a4b7dd3",
        "colab": {
          "base_uri": "https://localhost:8080/"
        }
      },
      "execution_count": 22,
      "outputs": [
        {
          "output_type": "stream",
          "name": "stdout",
          "text": [
            "R: 200.0000110328152\n",
            "q: 100.000031418456\n",
            "(200.0000110328152, 100.000031418456)\n"
          ]
        }
      ]
    }
  ]
}