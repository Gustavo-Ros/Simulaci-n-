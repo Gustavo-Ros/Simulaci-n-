{
  "nbformat": 4,
  "nbformat_minor": 0,
  "metadata": {
    "colab": {
      "provenance": [],
      "authorship_tag": "ABX9TyMakGVEGIjiFUOVVhhmf2qA",
      "include_colab_link": true
    },
    "kernelspec": {
      "name": "python3",
      "display_name": "Python 3"
    },
    "language_info": {
      "name": "python"
    }
  },
  "cells": [
    {
      "cell_type": "markdown",
      "metadata": {
        "id": "view-in-github",
        "colab_type": "text"
      },
      "source": [
        "<a href=\"https://colab.research.google.com/github/Gustavo-Ros/Simulacion-1/blob/main/Inventario.ipynb\" target=\"_parent\"><img src=\"https://colab.research.google.com/assets/colab-badge.svg\" alt=\"Open In Colab\"/></a>"
      ]
    },
    {
      "cell_type": "code",
      "execution_count": 1,
      "metadata": {
        "id": "c1messPfKCGr"
      },
      "outputs": [],
      "source": [
        "import random as rnd\n",
        "import numpy as np\n",
        "from tabulate import tabulate\n",
        "#import matplotlib.pyplot as plt\n",
        "#import math as mt"
      ]
    },
    {
      "cell_type": "code",
      "source": [
        "def demanda():\n",
        "  prob=[0,0.01,0.025,0.045,0.065, 0.087,0.11,0.135,0.162,0.19,0.219,0.254,0.299,0.359,0.424,0.494,0.574,0.649,0.719,0.784,0.844, 0.894,0.934,0.964,0.980,0.995,1]\n",
        "  u=rnd.random()\n",
        "  for i in range(len(prob)):\n",
        "      if prob[i-1] <= u <= prob[i]:\n",
        "          #print('[',prob[i-1],',',prob[i],']')\n",
        "          x=i+34\n",
        "          #print(x)\n",
        "          break\n",
        "  return x,u"
      ],
      "metadata": {
        "id": "EdZBk3GgMjOh"
      },
      "execution_count": 10,
      "outputs": []
    },
    {
      "cell_type": "code",
      "source": [
        "#x=demanda()"
      ],
      "metadata": {
        "id": "VkDOsn6dMmAY"
      },
      "execution_count": null,
      "outputs": []
    },
    {
      "cell_type": "code",
      "source": [
        "def demanda_ajustada(x,mes):\n",
        "  factor_mes=[1.2, 1, 0.9, 0.8, 0.8 ,0.7, 0.8, 0.9, 1, 1.2, 1.3, 1.4]\n",
        "  j=1\n",
        "  for j in range(len(factor_mes)):\n",
        "    if mes==j:\n",
        "      x=round(x*factor_mes[j-1])\n",
        "  return x"
      ],
      "metadata": {
        "collapsed": true,
        "id": "RcSNILzAMsrq"
      },
      "execution_count": 3,
      "outputs": []
    },
    {
      "cell_type": "code",
      "source": [
        "def entrega(entrega,cont,carga):\n",
        "  v=rnd.random()\n",
        "  if cont==entrega:\n",
        "    cont=-1\n",
        "    carga=False\n",
        "\n",
        "  if carga==False:\n",
        "    carga=True\n",
        "    if 0<= v < 0.3:\n",
        "      entrega=1\n",
        "    elif 0.3 <= v < 0.7:\n",
        "      entrega=2\n",
        "    elif 0.7 <= v < 1:\n",
        "      entrega=3\n",
        "  else:\n",
        "    cont+=1\n",
        "\n",
        "\n",
        "  return entrega,cont,carga\n"
      ],
      "metadata": {
        "id": "A3YYoHUFPwKu"
      },
      "execution_count": 42,
      "outputs": []
    },
    {
      "cell_type": "code",
      "source": [
        "conta=0\n",
        "final=89\n",
        "carga=False\n",
        "if final<=100:\n",
        "  if inv_final<=100:\n",
        "    ent,cont,carga=entrega(cont,carga)\n",
        "print(t,conta,carga)"
      ],
      "metadata": {
        "colab": {
          "base_uri": "https://localhost:8080/"
        },
        "id": "jH2XtIwgYwX7",
        "outputId": "93ac9214-88c2-4050-f778-95d223fd7f92"
      },
      "execution_count": 35,
      "outputs": [
        {
          "output_type": "stream",
          "name": "stdout",
          "text": [
            "3 0 True\n"
          ]
        }
      ]
    },
    {
      "cell_type": "code",
      "source": [
        "inv_inicial=150\n",
        "ent=0\n",
        "cont=-1\n",
        "data=[]\n",
        "carga=False\n",
        "for m in range(12):\n",
        "  mes=m+1\n",
        "  dem,val=demanda()                         #DEMANDA\n",
        "  dem_ajus=demanda_ajustada(dem,mes)        #DEMANDA AJUSTADA\n",
        "  inv_final=inv_inicial-dem_ajus            #DEMANDA FINAL\n",
        "  inv_men_prom=(inv_inicial+dem_ajus)/2\n",
        "\n",
        "  if inv_final<=100:\n",
        "    ent,cont,carga=entrega(ent,cont,carga)\n",
        "\n",
        "  if cont==ent:\n",
        "    inv_inicial+=200\n",
        "  if inv_final<0:\n",
        "    inv_final=0\n",
        "\n",
        "  if carga==False:\n",
        "    data.append([f\"{mes}\",f\"{inv_inicial}\", f\"{val}\" ,f\"{dem}\", f\"{dem_ajus}\", f\"{inv_final}\", f\"{ent}\", f\"{inv_men_prom}\"])\n",
        "  elif carga==True:\n",
        "    data.append([f\"{mes}\",f\"{inv_inicial}\", f\"{val}\" ,f\"{dem}\", f\"{dem_ajus}\", f\"{inv_final}\", \"\", f\"{inv_men_prom}\"])\n",
        "  inv_inicial=inv_final\n",
        "headers = ['Mes', 'Inventario inicial' ,'No. aleatorio','Demanda' , 'Demanda ajustada' , 'Inventario final', 'Entrega', 'Inventario mensual promedio']\n",
        "print(tabulate(data, headers=headers, tablefmt=\"fancy_grid\",showindex=False))\n"
      ],
      "metadata": {
        "colab": {
          "base_uri": "https://localhost:8080/"
        },
        "id": "3Proe1p6UCqe",
        "outputId": "9a48dc9b-ff2a-47a9-caff-785541c3258e"
      },
      "execution_count": 49,
      "outputs": [
        {
          "output_type": "stream",
          "name": "stdout",
          "text": [
            "╒═══════╤══════════════════════╤═════════════════╤═══════════╤════════════════════╤════════════════════╤═══════════╤═══════════════════════════════╕\n",
            "│   Mes │   Inventario inicial │   No. aleatorio │   Demanda │   Demanda ajustada │   Inventario final │ Entrega   │   Inventario mensual promedio │\n",
            "╞═══════╪══════════════════════╪═════════════════╪═══════════╪════════════════════╪════════════════════╪═══════════╪═══════════════════════════════╡\n",
            "│     1 │                  150 │       0.225779  │        45 │                 54 │                 96 │           │                         102   │\n",
            "├───────┼──────────────────────┼─────────────────┼───────────┼────────────────────┼────────────────────┼───────────┼───────────────────────────────┤\n",
            "│     2 │                   96 │       0.101506  │        40 │                 40 │                 56 │           │                          68   │\n",
            "├───────┼──────────────────────┼─────────────────┼───────────┼────────────────────┼────────────────────┼───────────┼───────────────────────────────┤\n",
            "│     3 │                   56 │       0.622812  │        51 │                 46 │                 10 │           │                          51   │\n",
            "├───────┼──────────────────────┼─────────────────┼───────────┼────────────────────┼────────────────────┼───────────┼───────────────────────────────┤\n",
            "│     4 │                   10 │       0.655887  │        52 │                 42 │                  0 │           │                          26   │\n",
            "├───────┼──────────────────────┼─────────────────┼───────────┼────────────────────┼────────────────────┼───────────┼───────────────────────────────┤\n",
            "│     5 │                  200 │       0.199791  │        44 │                 35 │                  0 │           │                          17.5 │\n",
            "├───────┼──────────────────────┼─────────────────┼───────────┼────────────────────┼────────────────────┼───────────┼───────────────────────────────┤\n",
            "│     6 │                    0 │       0.52727   │        50 │                 35 │                  0 │           │                          17.5 │\n",
            "├───────┼──────────────────────┼─────────────────┼───────────┼────────────────────┼────────────────────┼───────────┼───────────────────────────────┤\n",
            "│     7 │                    0 │       0.0961185 │        40 │                 32 │                  0 │           │                          16   │\n",
            "├───────┼──────────────────────┼─────────────────┼───────────┼────────────────────┼────────────────────┼───────────┼───────────────────────────────┤\n",
            "│     8 │                    0 │       0.029378  │        37 │                 33 │                  0 │           │                          16.5 │\n",
            "├───────┼──────────────────────┼─────────────────┼───────────┼────────────────────┼────────────────────┼───────────┼───────────────────────────────┤\n",
            "│     9 │                  200 │       0.855915  │        55 │                 55 │                  0 │           │                          27.5 │\n",
            "├───────┼──────────────────────┼─────────────────┼───────────┼────────────────────┼────────────────────┼───────────┼───────────────────────────────┤\n",
            "│    10 │                    0 │       0.753136  │        53 │                 64 │                  0 │           │                          32   │\n",
            "├───────┼──────────────────────┼─────────────────┼───────────┼────────────────────┼────────────────────┼───────────┼───────────────────────────────┤\n",
            "│    11 │                    0 │       0.925995  │        56 │                 73 │                  0 │           │                          36.5 │\n",
            "├───────┼──────────────────────┼─────────────────┼───────────┼────────────────────┼────────────────────┼───────────┼───────────────────────────────┤\n",
            "│    12 │                    0 │       0.932649  │        56 │                 56 │                  0 │           │                          28   │\n",
            "╘═══════╧══════════════════════╧═════════════════╧═══════════╧════════════════════╧════════════════════╧═══════════╧═══════════════════════════════╛\n"
          ]
        }
      ]
    }
  ]
}