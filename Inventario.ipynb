{
  "nbformat": 4,
  "nbformat_minor": 0,
  "metadata": {
    "colab": {
      "provenance": [],
      "authorship_tag": "ABX9TyOJ7eLAyC5THb6r1HmSOohE",
      "include_colab_link": true
    },
    "kernelspec": {
      "name": "python3",
      "display_name": "Python 3"
    },
    "language_info": {
      "name": "python"
    }
  },
  "cells": [
    {
      "cell_type": "markdown",
      "metadata": {
        "id": "view-in-github",
        "colab_type": "text"
      },
      "source": [
        "<a href=\"https://colab.research.google.com/github/Gustavo-Ros/Simulacion-1/blob/main/Inventario.ipynb\" target=\"_parent\"><img src=\"https://colab.research.google.com/assets/colab-badge.svg\" alt=\"Open In Colab\"/></a>"
      ]
    },
    {
      "cell_type": "code",
      "execution_count": 66,
      "metadata": {
        "id": "RQQxrCT2qSfi"
      },
      "outputs": [],
      "source": [
        "import random as rnd\n",
        "import numpy as np\n",
        "from tabulate import tabulate\n",
        "import matplotlib.pyplot as plt"
      ]
    },
    {
      "cell_type": "code",
      "source": [
        "def demanda():\n",
        "  prob=[0,0.01,0.025,0.045,0.065, 0.087,0.11,0.135,0.162,0.19,0.219,0.254,0.299,0.359,0.424,0.494,0.574,0.649,0.719,0.784,0.844, 0.894,0.934,0.964,0.980,0.995,1]\n",
        "  u=rnd.random()\n",
        "  for i in range(len(prob)):\n",
        "      if prob[i-1] <= u <= prob[i]:\n",
        "          x=i+34\n",
        "          break\n",
        "  return x,u"
      ],
      "metadata": {
        "id": "FfxcaNZ2qWKh"
      },
      "execution_count": null,
      "outputs": []
    },
    {
      "cell_type": "code",
      "source": [
        "def demanda_ajustada(x,mes):\n",
        "  factor_mes=[1.2, 1, 0.9, 0.8, 0.8 ,0.7, 0.8, 0.9, 1, 1.2, 1.3, 1.4]\n",
        "  j=1\n",
        "  for j in range(len(factor_mes)):\n",
        "    if mes==j:\n",
        "      x=round(x*factor_mes[j-1])\n",
        "  return x"
      ],
      "metadata": {
        "id": "JZD3JqRrqeZ_"
      },
      "execution_count": null,
      "outputs": []
    },
    {
      "cell_type": "code",
      "source": [
        "def entrega(carga_pend):\n",
        "  carga_pend=True\n",
        "\n",
        "  v=rnd.random()\n",
        "  if 0<= v < 0.3:\n",
        "    entrega=1\n",
        "  elif 0.3 <= v < 0.7:\n",
        "    entrega=2\n",
        "  elif 0.7 <= v < 1:\n",
        "    entrega=3\n",
        "\n",
        "  return  entrega,carga_pend\n"
      ],
      "metadata": {
        "id": "TOx1SHxhrpwF"
      },
      "execution_count": 50,
      "outputs": []
    },
    {
      "cell_type": "code",
      "source": [
        "def entrega (carga_pend):\n",
        "  carga_pend=True\n",
        "\n",
        "  v=rnd.random()\n",
        "  if 0<= v < 0.3:\n",
        "    entrega=1\n",
        "  elif 0.3 <= v < 0.7:\n",
        "    entrega=2\n",
        "  elif 0.7 <= v < 1:\n",
        "    entrega=3\n",
        "\n",
        "  return  entrega,carga_pend"
      ],
      "metadata": {
        "id": "KTOC9hbzFZOh"
      },
      "execution_count": 51,
      "outputs": []
    },
    {
      "cell_type": "code",
      "source": [
        "data.append([f\"{m}\",f\"{inv_inicial}\", f\"{val}\", f\"{dem_ajus}\", f\"{inv_final}\",f\"{faltante}\",f\"{t_entrega}\",f\"{inv_men_prom}\"])"
      ],
      "metadata": {
        "id": "DlKzXUsISgit"
      },
      "execution_count": null,
      "outputs": []
    },
    {
      "cell_type": "code",
      "source": [
        "inv_inicial=150\n",
        "data=[]\n",
        "inventario_f=[]\n",
        "carga_pend=False\n",
        "t_entrega=0\n",
        "cont=-1\n",
        "faltante=0\n",
        "\n",
        "for m in range(12):\n",
        "  mes=m+1\n",
        "  dem,val=demanda()                         #DEMANDA\n",
        "  dem_ajus=demanda_ajustada(dem,mes)        #DEMANDA AJUSTADA\n",
        "\n",
        "  inv_final=inv_inicial-dem_ajus            #DEMANDA FINAL\n",
        "  inv_men_prom=(inv_inicial+dem_ajus)/2\n",
        "\n",
        "\n",
        "\n",
        "  if inv_final<=100 and carga_pend==False:\n",
        "    t_entrega,carga_pend=entrega(carga_pend)\n",
        "\n",
        "  if carga_pend==True:\n",
        "    cont+=1\n",
        "\n",
        "  if inv_final <0:\n",
        "    faltante=abs(inv_final)\n",
        "    data.append([f\"{mes}\",f\"{inv_inicial}\", f\"{val}\", f\"{dem}\",f\"{dem_ajus}\", \"0\",f\"{faltante}\",f\"{t_entrega}\",f\"{inv_men_prom}\"])\n",
        "  else:\n",
        "    data.append([f\"{mes}\",f\"{inv_inicial}\", f\"{val}\", f\"{dem}\",f\"{dem_ajus}\", f\"{inv_final}\",f\"{faltante}\",f\"{t_entrega}\",f\"{inv_men_prom}\"])\n",
        "\n",
        "  inv_inicial=inv_final\n",
        "\n",
        "  if cont==t_entrega:\n",
        "    cont=-1\n",
        "    inv_inicial+=200\n",
        "    carga_pend=False\n",
        "    t_entrega=0\n",
        "  faltante=0\n",
        "  inventario_f.append(inv_final)\n",
        "\n",
        "headers = ['Mes', 'Inventario inicial' ,'No. aleatorio' ,'Demanda' ,'Demanda ajustada' , 'Inventario final','Faltante', 'Entrega', 'Inventario mensual promedio']\n",
        "print(tabulate(data, headers=headers, tablefmt=\"fancy_grid\",showindex=False))\n"
      ],
      "metadata": {
        "colab": {
          "base_uri": "https://localhost:8080/"
        },
        "id": "mwiKhOqLqsTn",
        "outputId": "e8e8f52e-2ac4-49cf-f9e7-02a03131a474"
      },
      "execution_count": 71,
      "outputs": [
        {
          "output_type": "stream",
          "name": "stdout",
          "text": [
            "╒═══════╤══════════════════════╤═════════════════╤═══════════╤════════════════════╤════════════════════╤════════════╤═══════════╤═══════════════════════════════╕\n",
            "│   Mes │   Inventario inicial │   No. aleatorio │   Demanda │   Demanda ajustada │   Inventario final │   Faltante │   Entrega │   Inventario mensual promedio │\n",
            "╞═══════╪══════════════════════╪═════════════════╪═══════════╪════════════════════╪════════════════════╪════════════╪═══════════╪═══════════════════════════════╡\n",
            "│     1 │                  150 │        0.779682 │        53 │                 64 │                 86 │          0 │         1 │                         107   │\n",
            "├───────┼──────────────────────┼─────────────────┼───────────┼────────────────────┼────────────────────┼────────────┼───────────┼───────────────────────────────┤\n",
            "│     2 │                   86 │        0.395875 │        48 │                 48 │                 38 │          0 │         1 │                          67   │\n",
            "├───────┼──────────────────────┼─────────────────┼───────────┼────────────────────┼────────────────────┼────────────┼───────────┼───────────────────────────────┤\n",
            "│     3 │                  238 │        0.929886 │        56 │                 50 │                188 │          0 │         0 │                         144   │\n",
            "├───────┼──────────────────────┼─────────────────┼───────────┼────────────────────┼────────────────────┼────────────┼───────────┼───────────────────────────────┤\n",
            "│     4 │                  188 │        0.339698 │        47 │                 38 │                150 │          0 │         0 │                         113   │\n",
            "├───────┼──────────────────────┼─────────────────┼───────────┼────────────────────┼────────────────────┼────────────┼───────────┼───────────────────────────────┤\n",
            "│     5 │                  150 │        0.534239 │        50 │                 40 │                110 │          0 │         0 │                          95   │\n",
            "├───────┼──────────────────────┼─────────────────┼───────────┼────────────────────┼────────────────────┼────────────┼───────────┼───────────────────────────────┤\n",
            "│     6 │                  110 │        0.778356 │        53 │                 37 │                 73 │          0 │         2 │                          73.5 │\n",
            "├───────┼──────────────────────┼─────────────────┼───────────┼────────────────────┼────────────────────┼────────────┼───────────┼───────────────────────────────┤\n",
            "│     7 │                   73 │        0.734055 │        53 │                 42 │                 31 │          0 │         2 │                          57.5 │\n",
            "├───────┼──────────────────────┼─────────────────┼───────────┼────────────────────┼────────────────────┼────────────┼───────────┼───────────────────────────────┤\n",
            "│     8 │                   31 │        0.8307   │        54 │                 49 │                  0 │         18 │         2 │                          40   │\n",
            "├───────┼──────────────────────┼─────────────────┼───────────┼────────────────────┼────────────────────┼────────────┼───────────┼───────────────────────────────┤\n",
            "│     9 │                  182 │        0.299064 │        47 │                 47 │                135 │          0 │         0 │                         114.5 │\n",
            "├───────┼──────────────────────┼─────────────────┼───────────┼────────────────────┼────────────────────┼────────────┼───────────┼───────────────────────────────┤\n",
            "│    10 │                  135 │        0.388731 │        48 │                 58 │                 77 │          0 │         1 │                          96.5 │\n",
            "├───────┼──────────────────────┼─────────────────┼───────────┼────────────────────┼────────────────────┼────────────┼───────────┼───────────────────────────────┤\n",
            "│    11 │                   77 │        0.180888 │        43 │                 56 │                 21 │          0 │         1 │                          66.5 │\n",
            "├───────┼──────────────────────┼─────────────────┼───────────┼────────────────────┼────────────────────┼────────────┼───────────┼───────────────────────────────┤\n",
            "│    12 │                  221 │        0.908133 │        56 │                 56 │                165 │          0 │         0 │                         138.5 │\n",
            "╘═══════╧══════════════════════╧═════════════════╧═══════════╧════════════════════╧════════════════════╧════════════╧═══════════╧═══════════════════════════════╛\n"
          ]
        }
      ]
    }
  ]
}