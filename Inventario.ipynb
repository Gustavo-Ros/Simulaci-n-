{
  "nbformat": 4,
  "nbformat_minor": 0,
  "metadata": {
    "colab": {
      "provenance": [],
      "authorship_tag": "ABX9TyMmCzKdlKycARjqBNmGCTF/",
      "include_colab_link": true
    },
    "kernelspec": {
      "name": "python3",
      "display_name": "Python 3"
    },
    "language_info": {
      "name": "python"
    }
  },
  "cells": [
    {
      "cell_type": "markdown",
      "metadata": {
        "id": "view-in-github",
        "colab_type": "text"
      },
      "source": [
        "<a href=\"https://colab.research.google.com/github/Gustavo-Ros/Simulacion-1/blob/main/Inventario.ipynb\" target=\"_parent\"><img src=\"https://colab.research.google.com/assets/colab-badge.svg\" alt=\"Open In Colab\"/></a>"
      ]
    },
    {
      "cell_type": "markdown",
      "source": [
        "# PROBLEMA DE INVENTARIO\n"
      ],
      "metadata": {
        "id": "9l9NZzEsWKZ6"
      }
    },
    {
      "cell_type": "code",
      "execution_count": 1,
      "metadata": {
        "id": "RQQxrCT2qSfi"
      },
      "outputs": [],
      "source": [
        "import random as rnd\n",
        "import numpy as np\n",
        "from tabulate import tabulate\n",
        "import matplotlib.pyplot as plt\n",
        "import pandas as pd"
      ]
    },
    {
      "cell_type": "markdown",
      "source": [
        "Los posibles valores de la demanda tienen diferentes probabilidades de ser seleccionadas, siguiendo una distribución empirica:"
      ],
      "metadata": {
        "id": "vYb206w8WSK9"
      }
    },
    {
      "cell_type": "code",
      "source": [
        "def demanda():                            #Esta función calcula y devuelve la demanda\n",
        "  prob=[0,0.01,0.025,0.045,0.065, 0.087,0.11,0.135,0.162,0.19,0.219,0.254,0.299,0.359,0.424,0.494,0.574,0.649,0.719,0.784,0.844, 0.894,0.934,0.964,0.980,0.995,1]\n",
        "  u=rnd.random()\n",
        "  for i in range(len(prob)):\n",
        "      if prob[i-1] <= u <= prob[i]:       #Ubica el valor de u en inervalos\n",
        "          x=i+34                          #Asigna valor de demanda\n",
        "          break\n",
        "  return x,u"
      ],
      "metadata": {
        "id": "FfxcaNZ2qWKh"
      },
      "execution_count": 2,
      "outputs": []
    },
    {
      "cell_type": "markdown",
      "source": [
        "La demanda varía segun un factor estacional, es decir, en cada mes, la demanda varía:"
      ],
      "metadata": {
        "id": "07FXDgrZWwAu"
      }
    },
    {
      "cell_type": "code",
      "source": [
        "def demanda_ajustada(x,mes):              #Esta fución calcula y devuelve la demanda ajustada\n",
        "  factor_mes=[1.2, 1, 0.9, 0.8, 0.8 ,0.7, 0.8, 0.9, 1, 1.2, 1.3, 1.4]\n",
        "  for j in range(len(factor_mes)):\n",
        "    if mes==j:                            #Ubica el mes\n",
        "      x=round(x*factor_mes[j-1])          #multiplica por el factor\n",
        "  return x"
      ],
      "metadata": {
        "id": "JZD3JqRrqeZ_"
      },
      "execution_count": 3,
      "outputs": []
    },
    {
      "cell_type": "markdown",
      "source": [
        "Si el inventario final es menor a un valor $q$ , se programa una entrega, la cual tardará de 1 a 3 meses, los cuales son selecionados aleatoriamente:"
      ],
      "metadata": {
        "id": "m-khm6mFW4QX"
      }
    },
    {
      "cell_type": "code",
      "source": [
        "def entrega(carga_pend,cont_ent):                  #Esta función calcula y devuelve el tiempo de entrega (y estatus de entrega pendiente)\n",
        "  carga_pend=True                         #Indica que hay entrega pendiente\n",
        "\n",
        "  v=rnd.random()\n",
        "  if 0<= v < 0.3:                         #Asigna valor a el tiempo de entrega\n",
        "    entrega=1\n",
        "  elif 0.3 <= v < 0.7:\n",
        "    entrega=2\n",
        "  elif 0.7 <= v < 1:\n",
        "    entrega=3\n",
        "  cont_ent+=1\n",
        "  return  entrega,carga_pend,cont_ent\n"
      ],
      "metadata": {
        "id": "TOx1SHxhrpwF"
      },
      "execution_count": 4,
      "outputs": []
    },
    {
      "cell_type": "markdown",
      "source": [
        "Se calcula al final el costo total, tomando en cuenta la siguiente información:\n",
        "\n",
        "\n",
        "*   Costo de ordenar = $100 /orden\n",
        "*   Costo de inventario = $20/unidad/año\n",
        "*   Costo de faltante\n",
        "\n",
        "\n",
        "\n",
        "\n"
      ],
      "metadata": {
        "id": "qvMYpb_JXL6k"
      }
    },
    {
      "cell_type": "code",
      "source": [
        "def costo_final(cont_ent, inv_falt,data,R): #Esta funcion imprime la tabla con los costos finales\n",
        "  suma_inv_prom = 0\n",
        "  for fila in data:\n",
        "      valor_str = fila[-1]\n",
        "      suma_inv_prom += float(valor_str)\n",
        "\n",
        "  costo=[]\n",
        "  costo.append([f\"{cont_ent*R}\", f\"{suma_inv_prom*1.67}\" ,f\"{inv_falt*50}\",f\"{cont_ent*R+suma_inv_prom*1.67+inv_falt*50}\"])\n",
        "  headers=['Costo de ordenar','Costo de llevar inventario','Costo de faltante','Costo total']\n",
        "  print(tabulate(costo, headers=headers, tablefmt=\"fancy_grid\",showindex=False))\n",
        "  return"
      ],
      "metadata": {
        "id": "1_LoXbqS1WtQ"
      },
      "execution_count": 13,
      "outputs": []
    },
    {
      "cell_type": "markdown",
      "source": [
        "La gráfica muestra cómo se comporta la demanda durante un año"
      ],
      "metadata": {
        "id": "veh5f2I9XjrO"
      }
    },
    {
      "cell_type": "code",
      "source": [
        " def grafica(inventario_i):\n",
        "  #Imprime gráfica\n",
        "  plt.plot(inventario_i, marker='o', label=\"Inventario inicial\")\n",
        "  plt.title('Simulación para 1 año de operación del sist. de inventarios')\n",
        "  plt.xlabel('Mes')\n",
        "  plt.ylabel('Inventario inicial')\n",
        "  plt.axhline(100, color=\"red\",linestyle='--', label='Punto de reorden')\n",
        "  plt.axhline(0, color='black')\n",
        "  plt.grid(True)\n",
        "  plt.legend()\n",
        "  plt.show()\n",
        "  return"
      ],
      "metadata": {
        "id": "dJC0nn7YLJav"
      },
      "execution_count": 6,
      "outputs": []
    },
    {
      "cell_type": "code",
      "source": [
        "def experimento(q,R):\n",
        "  inv_inicial=150\n",
        "  inventario_i=[150]                          #Guarda inventario inicial en una lista\n",
        "  inv_falt=0\n",
        "  carga_pend=False                            #Indica que no hay carga pendiente\n",
        "  t_entrega=0                                 #No hay tiempo de entrega\n",
        "  cont=-1                                     #Contador para recibir la entrega (inicia en -1 para comenzar a contar desde la sig. iteracion)\n",
        "  faltante=0                                  #Demanda faltante\n",
        "  data=[]                                     #Lista para imprimir tabla\n",
        "  cont_ent=0\n",
        "  for m in range(12):                         #Ciclo de 12 meses\n",
        "    mes=m+1\n",
        "    dem,val=demanda()                         #Calcula demanda y número aleatorio generado para el mes correspondiente\n",
        "    dem_ajus=demanda_ajustada(dem,mes)        #Calcula demanda ajustada\n",
        "\n",
        "    inv_final=inv_inicial-dem_ajus            #Calcula demanda final\n",
        "    inv_men_prom=(inv_inicial+dem_ajus)/2     #Calcula demanda promedio mensual\n",
        "\n",
        "\n",
        "\n",
        "    if inv_final<=R and carga_pend==False:    #Condición: Se pasó el punto de reorden y no hay carga pendiente\n",
        "      t_entrega,carga_pend,cont_ent=entrega(carga_pend,cont_ent)  #Calucla tiempo de entrega\n",
        "\n",
        "    if carga_pend==True:                        #Contador para recibir la entrega aumenta en 1\n",
        "      cont+=1\n",
        "\n",
        "    if inv_final<0:                             #Si el inventario final es negativo, se imprime \"-\"\n",
        "      faltante=abs(inv_final)\n",
        "      data.append([f\"{mes}\",f\"{inv_inicial}\", f\"{val}\", f\"{dem}\",f\"{dem_ajus}\", \"-\",f\"{faltante}\",f\"{t_entrega}\",f\"{np.round(inv_inicial**2/(2*dem_ajus))}\"])\n",
        "      inv_falt+=faltante\n",
        "    else:\n",
        "      data.append([f\"{mes}\",f\"{inv_inicial}\", f\"{val}\", f\"{dem}\",f\"{dem_ajus}\", f\"{inv_final}\",f\"{faltante}\",f\"{t_entrega}\",f\"{np.round(inv_men_prom)}\"])\n",
        "\n",
        "    inv_inicial=inv_final                       #Inventario final pasa a ser inventario incial en el siguiente mes\n",
        "\n",
        "    if cont==t_entrega:                         #Condición: Se cumple tiempo de entrega\n",
        "      cont=-1                                   #Reinicia contador\n",
        "      inv_inicial+=q                          #Aumenta el inventario +200\n",
        "      carga_pend=False                          #Indica que ya no hay carga pendiente\n",
        "      t_entrega=0                               #Reinicia tiempo de entrega\n",
        "\n",
        "    faltante=0                                  #Reinicia inv. faltante\n",
        "    inventario_i.append(inv_inicial)            #Guarda inventario inicial en una lista\n",
        "\n",
        "  #Imprime tabla\n",
        "  headers = ['Mes', 'Inventario inicial' ,'No. aleatorio' ,'Demanda' ,'Demanda ajustada' , 'Inventario final','Faltante', 'Entrega', 'Inventario mensual promedio']\n",
        "  print(tabulate(data, headers=headers, tablefmt=\"fancy_grid\",showindex=False))\n",
        "\n",
        "  grafica(inventario_i)\n",
        "\n",
        "  suma_inv_prom = 0\n",
        "  for fila in data:\n",
        "    # Asumiendo que 'Inventario mensual promedio' es la última columna\n",
        "    valor_str = fila[-1]\n",
        "    suma_inv_prom += float(valor_str)\n",
        "\n",
        "  costo=[cont_ent*R, suma_inv_prom*1.67 ,inv_falt*50,cont_ent*R+suma_inv_prom*1.67+inv_falt*50]\n",
        "  costo_final(cont_ent, inv_falt,data,R)\n",
        "  return cont_ent*R+suma_inv_prom*1.67+inv_falt*50"
      ],
      "metadata": {
        "id": "iM-4kdzV8vFy"
      },
      "execution_count": 14,
      "outputs": []
    },
    {
      "cell_type": "code",
      "source": [
        "EXP=experimento(100,200)"
      ],
      "metadata": {
        "id": "T7zcRC1K9Dn7",
        "colab": {
          "base_uri": "https://localhost:8080/",
          "height": 1000
        },
        "outputId": "6a978a5b-5f10-4d78-e91c-27c3d6f3f0ad"
      },
      "execution_count": 15,
      "outputs": [
        {
          "output_type": "stream",
          "name": "stdout",
          "text": [
            "╒═══════╤══════════════════════╤═════════════════╤═══════════╤════════════════════╤════════════════════╤════════════╤═══════════╤═══════════════════════════════╕\n",
            "│   Mes │   Inventario inicial │   No. aleatorio │   Demanda │   Demanda ajustada │ Inventario final   │   Faltante │   Entrega │   Inventario mensual promedio │\n",
            "╞═══════╪══════════════════════╪═════════════════╪═══════════╪════════════════════╪════════════════════╪════════════╪═══════════╪═══════════════════════════════╡\n",
            "│     1 │                  150 │      0.800241   │        54 │                 65 │ 85                 │          0 │         2 │                           108 │\n",
            "├───────┼──────────────────────┼─────────────────┼───────────┼────────────────────┼────────────────────┼────────────┼───────────┼───────────────────────────────┤\n",
            "│     2 │                   85 │      0.0982561  │        40 │                 40 │ 45                 │          0 │         2 │                            62 │\n",
            "├───────┼──────────────────────┼─────────────────┼───────────┼────────────────────┼────────────────────┼────────────┼───────────┼───────────────────────────────┤\n",
            "│     3 │                   45 │      0.00920798 │        35 │                 32 │ 13                 │          0 │         2 │                            38 │\n",
            "├───────┼──────────────────────┼─────────────────┼───────────┼────────────────────┼────────────────────┼────────────┼───────────┼───────────────────────────────┤\n",
            "│     4 │                  113 │      0.292271   │        46 │                 37 │ 76                 │          0 │         3 │                            75 │\n",
            "├───────┼──────────────────────┼─────────────────┼───────────┼────────────────────┼────────────────────┼────────────┼───────────┼───────────────────────────────┤\n",
            "│     5 │                   76 │      0.465106   │        49 │                 39 │ 37                 │          0 │         3 │                            58 │\n",
            "├───────┼──────────────────────┼─────────────────┼───────────┼────────────────────┼────────────────────┼────────────┼───────────┼───────────────────────────────┤\n",
            "│     6 │                   37 │      0.883464   │        55 │                 38 │ -                  │          1 │         3 │                            18 │\n",
            "├───────┼──────────────────────┼─────────────────┼───────────┼────────────────────┼────────────────────┼────────────┼───────────┼───────────────────────────────┤\n",
            "│     7 │                   -1 │      0.547917   │        50 │                 40 │ -                  │         41 │         3 │                             0 │\n",
            "├───────┼──────────────────────┼─────────────────┼───────────┼────────────────────┼────────────────────┼────────────┼───────────┼───────────────────────────────┤\n",
            "│     8 │                   59 │      0.914966   │        56 │                 50 │ 9                  │          0 │         2 │                            54 │\n",
            "├───────┼──────────────────────┼─────────────────┼───────────┼────────────────────┼────────────────────┼────────────┼───────────┼───────────────────────────────┤\n",
            "│     9 │                    9 │      0.153344   │        42 │                 42 │ -                  │         33 │         2 │                             1 │\n",
            "├───────┼──────────────────────┼─────────────────┼───────────┼────────────────────┼────────────────────┼────────────┼───────────┼───────────────────────────────┤\n",
            "│    10 │                  -33 │      0.456882   │        49 │                 59 │ -                  │         92 │         2 │                             9 │\n",
            "├───────┼──────────────────────┼─────────────────┼───────────┼────────────────────┼────────────────────┼────────────┼───────────┼───────────────────────────────┤\n",
            "│    11 │                    8 │      0.0562654  │        38 │                 49 │ -                  │         41 │         1 │                             1 │\n",
            "├───────┼──────────────────────┼─────────────────┼───────────┼────────────────────┼────────────────────┼────────────┼───────────┼───────────────────────────────┤\n",
            "│    12 │                  -41 │      0.984947   │        59 │                 59 │ -                  │        100 │         1 │                            14 │\n",
            "╘═══════╧══════════════════════╧═════════════════╧═══════════╧════════════════════╧════════════════════╧════════════╧═══════════╧═══════════════════════════════╛\n"
          ]
        },
        {
          "output_type": "display_data",
          "data": {
            "text/plain": [
              "<Figure size 640x480 with 1 Axes>"
            ],
            "image/png": "[encoded data removed]"
          },
          "metadata": {}
        },
        {
          "output_type": "stream",
          "name": "stdout",
          "text": [
            "╒════════════════════╤══════════════════════════════╤═════════════════════╤═══════════════╕\n",
            "│   Costo de ordenar │   Costo de llevar inventario │   Costo de faltante │   Costo total │\n",
            "╞════════════════════╪══════════════════════════════╪═════════════════════╪═══════════════╡\n",
            "│                800 │                       731.46 │               15400 │       16931.5 │\n",
            "╘════════════════════╧══════════════════════════════╧═════════════════════╧═══════════════╛\n"
          ]
        }
      ]
    },
    {
      "cell_type": "code",
      "source": [
        "from scipy.optimize import minimize"
      ],
      "metadata": {
        "id": "ZyyPET-BPtPv"
      },
      "execution_count": 16,
      "outputs": []
    },
    {
      "cell_type": "code",
      "source": [
        "def experimento_opti(q,R):\n",
        "  inv_inicial=150\n",
        "  inventario_i=[150]                          #Guarda inventario inicial en una lista\n",
        "  inv_falt=0\n",
        "  carga_pend=False                            #Indica que no hay carga pendiente\n",
        "  t_entrega=0                                 #No hay tiempo de entrega\n",
        "  cont=-1                                     #Contador para recibir la entrega (inicia en -1 para comenzar a contar desde la sig. iteracion)\n",
        "  faltante=0                                  #Demanda faltante\n",
        "  data=[]                                     #Lista para imprimir tabla\n",
        "  cont_ent=0\n",
        "  for m in range(12):                         #Ciclo de 12 meses\n",
        "    mes=m+1\n",
        "    dem,val=demanda()                         #Calcula demanda y número aleatorio generado para el mes correspondiente\n",
        "    dem_ajus=demanda_ajustada(dem,mes)        #Calcula demanda ajustada\n",
        "\n",
        "    inv_final=inv_inicial-dem_ajus            #Calcula demanda final\n",
        "    inv_men_prom=(inv_inicial+dem_ajus)/2     #Calcula demanda promedio mensual\n",
        "\n",
        "\n",
        "\n",
        "    if inv_final<=R and carga_pend==False:    #Condición: Se pasó el punto de reorden y no hay carga pendiente\n",
        "      t_entrega,carga_pend,cont_ent=entrega(carga_pend,cont_ent)  #Calucla tiempo de entrega\n",
        "\n",
        "    if carga_pend==True:                        #Contador para recibir la entrega aumenta en 1\n",
        "      cont+=1\n",
        "\n",
        "    if inv_final<0:                             #Si el inventario final es negativo, se imprime \"-\"\n",
        "      faltante=abs(inv_final)\n",
        "      data.append([f\"{mes}\",f\"{inv_inicial}\", f\"{val}\", f\"{dem}\",f\"{dem_ajus}\", \"-\",f\"{faltante}\",f\"{t_entrega}\",f\"{np.round(inv_inicial**2/(2*dem_ajus))}\"])\n",
        "      inv_falt+=faltante\n",
        "    else:\n",
        "      data.append([f\"{mes}\",f\"{inv_inicial}\", f\"{val}\", f\"{dem}\",f\"{dem_ajus}\", f\"{inv_final}\",f\"{faltante}\",f\"{t_entrega}\",f\"{np.round(inv_men_prom)}\"])\n",
        "\n",
        "    inv_inicial=inv_final                       #Inventario final pasa a ser inventario incial en el siguiente mes\n",
        "\n",
        "    if cont==t_entrega:                         #Condición: Se cumple tiempo de entrega\n",
        "      cont=-1                                   #Reinicia contador\n",
        "      inv_inicial+=q                          #Aumenta el inventario +200\n",
        "      carga_pend=False                          #Indica que ya no hay carga pendiente\n",
        "      t_entrega=0                               #Reinicia tiempo de entrega\n",
        "\n",
        "    faltante=0                                  #Reinicia inv. faltante\n",
        "    inventario_i.append(inv_inicial)            #Guarda inventario inicial en una lista\n",
        "\n",
        "  #Imprime tabla\n",
        "  #headers = ['Mes', 'Inventario inicial' ,'No. aleatorio' ,'Demanda' ,'Demanda ajustada' , 'Inventario final','Faltante', 'Entrega', 'Inventario mensual promedio']\n",
        "  #print(tabulate(data, headers=headers, tablefmt=\"fancy_grid\",showindex=False))\n",
        "\n",
        "  #grafica(inventario_i)\n",
        "\n",
        "  suma_inv_prom = 0\n",
        "  for fila in data:\n",
        "    # Asumiendo que 'Inventario mensual promedio' es la última columna\n",
        "    valor_str = fila[-1]\n",
        "    suma_inv_prom += float(valor_str)\n",
        "\n",
        "  costo=[cont_ent*R, suma_inv_prom*1.67 ,inv_falt*50,cont_ent*R+suma_inv_prom*1.67+inv_falt*50]\n",
        "  costo_final(cont_ent, inv_falt,data,R)\n",
        "  return cont_ent*R+suma_inv_prom*1.67+inv_falt*50"
      ],
      "metadata": {
        "id": "lUkJBEbsYXJk"
      },
      "execution_count": 22,
      "outputs": []
    },
    {
      "cell_type": "markdown",
      "source": [
        "#OPTIMIZACIÓN"
      ],
      "metadata": {
        "id": "MTC3pyM7akhh"
      }
    },
    {
      "cell_type": "code",
      "source": [
        "def funcion_objetivo(q, R):\n",
        "    Z=experimento_opti(q,R)\n",
        "    return Z"
      ],
      "metadata": {
        "id": "jGRwa1N3YPVb"
      },
      "execution_count": 18,
      "outputs": []
    },
    {
      "cell_type": "code",
      "source": [
        "def explore(q, R, delta):\n",
        "    # Función auxiliar para explorar en una dirección\n",
        "    # delta es un vector que indica la dirección de exploración\n",
        "    q_nueva = q + delta[0]\n",
        "    R_nueva = R + delta[1]\n",
        "    Z_nueva = funcion_objetivo(q_nueva, R_nueva)\n",
        "    return q_nueva, R_nueva, Z_nueva"
      ],
      "metadata": {
        "id": "Ft_iZN-hZJas"
      },
      "execution_count": 19,
      "outputs": []
    },
    {
      "cell_type": "code",
      "source": [
        "def hooke_jeeves(q_inicial, R_inicial, delta_inicial, tolerancia=1e-6):\n",
        "    q = q_inicial\n",
        "    R = R_inicial\n",
        "    delta = delta_inicial\n",
        "\n",
        "    while True:\n",
        "        Z_actual = funcion_objetivo(q, R)\n",
        "        q_best = q\n",
        "        R_best = R\n",
        "        Z_best = Z_actual\n",
        "\n",
        "        # Exploración en una dirección\n",
        "        q_nueva, R_nueva, Z_nueva = explore(q, R, delta)\n",
        "\n",
        "        if Z_nueva < Z_best:\n",
        "            q_best = q_nueva\n",
        "            R_best = R_nueva\n",
        "            Z_best = Z_nueva\n",
        "        else:\n",
        "            # Reducción del paso de exploración\n",
        "            delta = (delta[0] / 2, delta[1] / 2)\n",
        "\n",
        "        # Si la mejora es menor que la tolerancia, terminar\n",
        "        if abs(Z_best - Z_actual) < tolerancia:\n",
        "            break\n",
        "\n",
        "        q = q_best\n",
        "        R = R_best\n",
        "\n",
        "    return q_best, R_best, Z_best"
      ],
      "metadata": {
        "id": "SggGEA0bZHMt"
      },
      "execution_count": 20,
      "outputs": []
    },
    {
      "cell_type": "code",
      "source": [
        "# Valores iniciales y tamaño de paso\n",
        "q_inicial = 200.0\n",
        "R_inicial = 100.0\n",
        "delta_inicial = (0.1, 0.1)  # Tamaño de paso inicial\n",
        "\n",
        "# Ejecutar el algoritmo de optimización\n",
        "q_optimo, R_optimo, Z_optimo = hooke_jeeves(q_inicial, R_inicial, delta_inicial)\n",
        "\n",
        "# Mostrar resultados\n",
        "print(f\"q óptimo: {q_optimo}\")\n",
        "print(f\"R óptimo: {R_optimo}\")\n",
        "print(f\"Z óptimo: {Z_optimo}\")"
      ],
      "metadata": {
        "colab": {
          "base_uri": "https://localhost:8080/"
        },
        "id": "Yw711gGLZP_d",
        "outputId": "22882410-1de2-454c-d422-75c5e7f04388"
      },
      "execution_count": 23,
      "outputs": [
        {
          "output_type": "stream",
          "name": "stdout",
          "text": [
            "╒════════════════════╤══════════════════════════════╤═════════════════════╤═══════════════╕\n",
            "│   Costo de ordenar │   Costo de llevar inventario │   Costo de faltante │   Costo total │\n",
            "╞════════════════════╪══════════════════════════════╪═════════════════════╪═══════════════╡\n",
            "│                300 │                      1401.13 │                5250 │       6951.13 │\n",
            "╘════════════════════╧══════════════════════════════╧═════════════════════╧═══════════════╛\n",
            "╒════════════════════╤══════════════════════════════╤═════════════════════╤═══════════════╕\n",
            "│   Costo de ordenar │   Costo de llevar inventario │   Costo de faltante │   Costo total │\n",
            "╞════════════════════╪══════════════════════════════╪═════════════════════╪═══════════════╡\n",
            "│              300.3 │                      1651.63 │                1495 │       3446.93 │\n",
            "╘════════════════════╧══════════════════════════════╧═════════════════════╧═══════════════╛\n",
            "╒════════════════════╤══════════════════════════════╤═════════════════════╤═══════════════╕\n",
            "│   Costo de ordenar │   Costo de llevar inventario │   Costo de faltante │   Costo total │\n",
            "╞════════════════════╪══════════════════════════════╪═════════════════════╪═══════════════╡\n",
            "│              300.3 │                      1541.41 │                2595 │       4436.71 │\n",
            "╘════════════════════╧══════════════════════════════╧═════════════════════╧═══════════════╛\n",
            "╒════════════════════╤══════════════════════════════╤═════════════════════╤═══════════════╕\n",
            "│   Costo de ordenar │   Costo de llevar inventario │   Costo de faltante │   Costo total │\n",
            "╞════════════════════╪══════════════════════════════╪═════════════════════╪═══════════════╡\n",
            "│              300.6 │                      1429.52 │                3470 │       5200.12 │\n",
            "╘════════════════════╧══════════════════════════════╧═════════════════════╧═══════════════╛\n",
            "q óptimo: 200.1\n",
            "R óptimo: 100.1\n",
            "Z óptimo: 4436.71\n"
          ]
        }
      ]
    }
  ]
}