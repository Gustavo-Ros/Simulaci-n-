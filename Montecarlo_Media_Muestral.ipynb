{
  "nbformat": 4,
  "nbformat_minor": 0,
  "metadata": {
    "colab": {
      "provenance": [],
      "authorship_tag": "ABX9TyNmSzbLqvSf/U8dHT1dL+n3",
      "include_colab_link": true
    },
    "kernelspec": {
      "name": "python3",
      "display_name": "Python 3"
    },
    "language_info": {
      "name": "python"
    }
  },
  "cells": [
    {
      "cell_type": "markdown",
      "metadata": {
        "id": "view-in-github",
        "colab_type": "text"
      },
      "source": [
        "<a href=\"https://colab.research.google.com/github/Gustavo-Ros/Simulacion-1/blob/main/Montecarlo_Media_Muestral.ipynb\" target=\"_parent\"><img src=\"https://colab.research.google.com/assets/colab-badge.svg\" alt=\"Open In Colab\"/></a>"
      ]
    },
    {
      "cell_type": "markdown",
      "source": [
        "#EXPLICACIÓN ANALÍTICA\n",
        "\n",
        "Se desea calcular la integral $\\int_a^b g(x)dx$ para una función $g(x)$, la cual puede NO tener solución analítica, por lo tanto, se recurre a métodos numéricos para aproximar el resultado de la integral.  \n",
        "Consideremos lo siguiente:\n",
        "$$I=\\int_a^bg(x)dx=\\int_a^bw(x)f(x)dx$$\n",
        "donde\n",
        "$$w(x)=g(x)(b-a) \\hspace{5mm}y \\hspace{5mm} f(x)=\\frac{1}{b-a}$$\n",
        "\n",
        "De modo que $E(g(x))=\\frac{I}{b-a}$ con $x \\sim U(1,b)$"
      ],
      "metadata": {
        "id": "FA-obgmTAUjc"
      }
    },
    {
      "cell_type": "markdown",
      "source": [
        "Se generan $n$ puntos aleatorios $x_1,x_2,...,x_n$ con $x_i \\sim U(a,b)$  \n",
        "  Posteriormente  se evalua $g(x)$, es decir, se tiene\n",
        "  $$g(x_1),g(x_2),...,g(x_n)$$\n",
        "\n",
        "Para un $n$ suficientemente grande y por la Ley de los Grandes Números\n",
        "$$\\frac{1}{n} \\sum_{i=1}^n g(x_i) \\rightarrow E(g(x))=\\frac{I}{b-a}$$"
      ],
      "metadata": {
        "id": "B_8mWTIBGA8l"
      }
    },
    {
      "cell_type": "markdown",
      "source": [
        "Se tiene luego $\\;\\;E(g(x))=\\frac{I}{b-a} \\hspace{5mm} ⇒ \\hspace{5mm} I=(b-a)E(g(x))$  \n",
        "\n",
        "Por lo tanto, se tiene el estimador insesgado $$\\theta_1=(b-a)\\frac{1}{n}\\sum_{i=1}^ng(x)\\approx(b-a)E(g(x))= I$$"
      ],
      "metadata": {
        "id": "w19RIs1gH02S"
      }
    },
    {
      "cell_type": "code",
      "execution_count": 1,
      "metadata": {
        "id": "lRdM43rt0WTV"
      },
      "outputs": [],
      "source": [
        "import random as rnd\n",
        "import numpy as np\n",
        "import matplotlib.pyplot as plt"
      ]
    },
    {
      "cell_type": "code",
      "source": [
        "def g(x):       #Esta función calcula las funciones gi(x) y las guarad en una lista\n",
        "  g_i=np.sqrt(np.arctan(x))\n",
        "  return g_i"
      ],
      "metadata": {
        "id": "VqiCQUtT-tzS"
      },
      "execution_count": 2,
      "outputs": []
    },
    {
      "cell_type": "code",
      "source": [
        "def exp(n,a,b):\n",
        "  Ui=np.random.uniform(0, 1, n)       #Genera n variables ~ U(0,1)\n",
        "  Xi=a+Ui*(b-a)                       #Calcula lista de Xi\n",
        "  g_i=g(Xi)                           #Calcula lista de g(Xi)\n",
        "  I=(b-a)/n*np.sum(g_i)               #Calcula aproximación\n",
        "\n",
        "  return I"
      ],
      "metadata": {
        "id": "z4Ff3yPC6VJn"
      },
      "execution_count": 3,
      "outputs": []
    },
    {
      "cell_type": "code",
      "source": [
        "def histograma(aprox):                                  #Esta función imprime la estimación y el histograma\n",
        "  plt.hist(aprox, bins=25, color='green', alpha=0.7)\n",
        "  plt.title('1000 experimentos de 50 iteraciones')\n",
        "  plt.axvline(np.mean(aprox),label='Media')\n",
        "  plt.axvline(np.mean(aprox)-np.std(aprox),label='Intervalo de confianza', color='red')\n",
        "  plt.axvline(np.mean(aprox)+np.std(aprox), color='red')\n",
        "  plt.xlabel('Valor de la integral')\n",
        "  plt.ylabel('Frecuencia')\n",
        "  plt.legend()\n",
        "  print('Estimación (Media): ', np.mean(aprox))\n",
        "  print('Intervalo de confianza: [', np.mean(aprox)-np.std(aprox),np.mean(aprox)+np.std(aprox),']' )\n",
        "  return"
      ],
      "metadata": {
        "id": "_am_u_pikv8R"
      },
      "execution_count": 14,
      "outputs": []
    },
    {
      "cell_type": "code",
      "source": [
        "#Simulacion\n",
        "\n",
        "#Parametros\n",
        "m=1000        #Número de iteraciones\n",
        "n=50           #Tamaño de la experimentos\n",
        "a=0             #Límite inferior de la integral\n",
        "b=1             #Límite superior de la integral\n",
        "\n",
        "aprox=[]\n",
        "for i in range(m):\n",
        "  aprox.append(exp(n,a,b))\n",
        "\n",
        "histograma(aprox)"
      ],
      "metadata": {
        "colab": {
          "base_uri": "https://localhost:8080/",
          "height": 507
        },
        "id": "lZSQDY8R67Mc",
        "outputId": "a716e5b2-8d79-412d-86b4-4593dee7c5c9"
      },
      "execution_count": 16,
      "outputs": [
        {
          "output_type": "stream",
          "name": "stdout",
          "text": [
            "Estimación (Media):  0.6289845910092915\n",
            "Intervalo de confianza: [ 0.5992689271333035 0.6587002548852795 ]\n"
          ]
        },
        {
          "output_type": "display_data",
          "data": {
            "text/plain": [
              "<Figure size 640x480 with 1 Axes>"
            ],
            "image/png": "[encoded data removed]"
          },
          "metadata": {}
        }
      ]
    }
  ]
}