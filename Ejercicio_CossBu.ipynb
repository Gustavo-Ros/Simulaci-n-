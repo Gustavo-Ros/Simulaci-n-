{
  "nbformat": 4,
  "nbformat_minor": 0,
  "metadata": {
    "colab": {
      "provenance": [],
      "authorship_tag": "ABX9TyNlf8ZZxBHwjIlCfitrU+q/",
      "include_colab_link": true
    },
    "kernelspec": {
      "name": "python3",
      "display_name": "Python 3"
    },
    "language_info": {
      "name": "python"
    }
  },
  "cells": [
    {
      "cell_type": "markdown",
      "metadata": {
        "id": "view-in-github",
        "colab_type": "text"
      },
      "source": [
        "<a href=\"https://colab.research.google.com/github/Gustavo-Ros/Simulacion-1/blob/main/Ejercicio_CossBu.ipynb\" target=\"_parent\"><img src=\"https://colab.research.google.com/assets/colab-badge.svg\" alt=\"Open In Colab\"/></a>"
      ]
    },
    {
      "cell_type": "code",
      "source": [
        "import random as rnd\n",
        "import numpy as np\n",
        "from tabulate import tabulate\n",
        "import matplotlib.pyplot as plt\n",
        "import pandas as pd\n",
        "from scipy.optimize import minimize_scalar"
      ],
      "metadata": {
        "id": "Fe5hGfmLJcE6"
      },
      "execution_count": 82,
      "outputs": []
    },
    {
      "cell_type": "code",
      "source": [
        "def demanda_1():                            #Esta función calcula y devuelve la demanda\n",
        "  prob=[0,0.05,0.1,0.2,0.35,0.6,0.85,1]\n",
        "  u=rnd.random()\n",
        "  for i in range(len(prob)):\n",
        "      if prob[i-1] <= u <= prob[i]:       #Ubica el valor de u en inervalos\n",
        "          x=i+4                           #Asigna valor de demanda\n",
        "          break\n",
        "  return x"
      ],
      "metadata": {
        "id": "_khSgEr3Jde2"
      },
      "execution_count": 83,
      "outputs": []
    },
    {
      "cell_type": "code",
      "source": [
        "def demanda_2():                            #Esta función calcula y devuelve la demanda\n",
        "  prob=[0,0.15,0.35,0.65,0.85,1]\n",
        "  u=rnd.random()\n",
        "  for i in range(len(prob)):\n",
        "      if prob[i-1] <= u <= prob[i]:       #Ubica el valor de u en inervalos\n",
        "          x=i+3                           #Asigna valor de demanda\n",
        "          break\n",
        "  return x"
      ],
      "metadata": {
        "id": "bFnPadaRJfcF"
      },
      "execution_count": 84,
      "outputs": []
    },
    {
      "cell_type": "code",
      "source": [
        "def ganancias(ganancia,demanda,revistas,gastos,precio_venta):    #  Calcula las ganancias del periodo en curso\n",
        "\n",
        "  if demanda > revistas:\n",
        "    ventas=revistas*precio_venta\n",
        "  else:\n",
        "    ventas=demanda*precio_venta\n",
        "\n",
        "  ganancia+=ventas-gastos\n",
        "  return ganancia,ventas"
      ],
      "metadata": {
        "id": "lYs_-S0fJhYm"
      },
      "execution_count": 85,
      "outputs": []
    },
    {
      "cell_type": "code",
      "source": [
        "costo_revistas1=1.5\n",
        "sobrantes_final=0.6\n",
        "costo_revistas2=1.2\n",
        "precio_sobrantes=0.9\n",
        "precio_venta=2\n",
        "sobrantes=0"
      ],
      "metadata": {
        "id": "BQlga2PYJjQM"
      },
      "execution_count": 106,
      "outputs": []
    },
    {
      "cell_type": "code",
      "source": [
        "def PERIODO_1(compra1,costo_revistas1,precio_venta):\n",
        "  tabla=[]\n",
        "  gastos=compra1*costo_revistas1        # Calcula los gastos\n",
        "  ganancia_total=0\n",
        "  demanda1=demanda_1()        # Calcula la demanda en el primer periodo\n",
        "\n",
        "  if compra1-demanda1 <= 0:\n",
        "    inventario=0\n",
        "  else:\n",
        "    inventario=compra1-demanda1\n",
        "\n",
        "  # Calcula las ventas y ganancias de las ventas en el primer periodo\n",
        "  ganancia_total,venta=ganancias(ganancia_total,demanda1,compra1,gastos,precio_venta)\n",
        "  tabla.append([\"Periodo 1\",f\"{compra1}\",f\"{compra1}\",f\"{demanda1}\",f\"{gastos}\",f\"{venta}\",f\"{inventario}\",f\"{ganancia_total}\"])\n",
        "  return inventario,ganancia_total,tabla"
      ],
      "metadata": {
        "id": "oT5LAhL3JlQD"
      },
      "execution_count": 138,
      "outputs": []
    },
    {
      "cell_type": "code",
      "source": [
        " def PERIODO_2(inventario,ganancia_total,compra2,costo_revistas2,precio_venta,tabla,sobrantes):\n",
        "\n",
        "  demanda2=demanda_2()        # Calcula la demanda en el segundo periodo\n",
        "\n",
        "  if inventario < 4:\n",
        "    sobrantes=0\n",
        "  elif inventario >= 8:\n",
        "    sobrantes=inventario-8\n",
        "    compra2=0\n",
        "\n",
        "  gastos2=compra2*costo_revistas2        # Calcula los gastos\n",
        "\n",
        "  if inventario+compra2-demanda2-sobrantes <= 0:\n",
        "    inventario=0\n",
        "\n",
        "  inv_final=inventario+compra2-sobrantes-demanda2\n",
        "\n",
        "  ganancia_total,venta=ganancias(ganancia_total,demanda2,inventario+compra2-sobrantes,gastos2,precio_venta)\n",
        "  tabla.append([\"Periodo 2\",f\"{compra2}\",f\"{inventario+compra2-sobrantes}\",f\"{demanda2}\",f\"{gastos2}\",f\"{venta}\",f\"{inv_final}\",f\"{ganancia_total}\"])\n",
        "\n",
        "  return inventario,ganancia_total,tabla,inv_final"
      ],
      "metadata": {
        "id": "mJxs-joUf7WT"
      },
      "execution_count": 151,
      "outputs": []
    },
    {
      "cell_type": "code",
      "source": [
        " def ejercicio_revistas(compra1,compra2):\n",
        "  costo_revistas1=1.5\n",
        "  sobrantes_final=0.6\n",
        "  costo_revistas2=1.2\n",
        "  precio_sobrantes=0.9\n",
        "  precio_venta=2\n",
        "  sobrantes=0\n",
        "\n",
        "  #-------------------------------  PERIODO 1 : Primeros 10 días------------------\n",
        "  #compra1=rnd.randint(1,19)\n",
        "  inventario,ganancia_total,tabla=PERIODO_1(compra1,costo_revistas1,precio_venta)\n",
        "\n",
        "  #-------------------------------  PERIODO 2 : Siguientes 20 días----------------\n",
        "  #compra2=rnd.randint(0,8)\n",
        "\n",
        "  inventario,ganancia_total,tabla,inv_final=PERIODO_2(inventario, ganancia_total,compra2,costo_revistas2,precio_venta,tabla,sobrantes)\n",
        "\n",
        "  headers=[\"\",\"Revistas compradas\",\"Revistas totales\",\"Demanda\",\"Costo revistas\",\"Venta de revistas\",\"Inventario final\",\"Ganancia\"]\n",
        "  print(tabulate(tabla, headers=headers, tablefmt=\"fancy_grid\",showindex=False))\n",
        "\n",
        "  ganancia_total+=inv_final*sobrantes_final\n",
        "\n",
        "  #-------------------------------  RESULTADOS FIN DE MES ------------------------\n",
        "\n",
        "  print(\"Al final del periodo 1 se vendieron \", sobrantes, \"revistas\")\n",
        "\n",
        "  if ganancia_total<0:\n",
        "    print('La pérdida al final del mes es: ', ganancia_total)\n",
        "  else:\n",
        "    print('La ganancial total al final del mes es: $', ganancia_total)\n",
        "  return"
      ],
      "metadata": {
        "id": "_tMko20cKTXj"
      },
      "execution_count": 159,
      "outputs": []
    },
    {
      "cell_type": "code",
      "source": [
        "compra1=rnd.randint(1,19)\n",
        "compra2=rnd.randint(4,8)\n",
        "ejercicio_revistas(compra1,compra2)"
      ],
      "metadata": {
        "id": "8pr432MXr6yg",
        "outputId": "cf595258-13fe-4009-b6d9-33285d9b7ea6",
        "colab": {
          "base_uri": "https://localhost:8080/"
        }
      },
      "execution_count": 161,
      "outputs": [
        {
          "output_type": "stream",
          "name": "stdout",
          "text": [
            "╒═══════════╤══════════════════════╤════════════════════╤═══════════╤══════════════════╤═════════════════════╤════════════════════╤════════════╕\n",
            "│           │   Revistas compradas │   Revistas totales │   Demanda │   Costo revistas │   Venta de revistas │   Inventario final │   Ganancia │\n",
            "╞═══════════╪══════════════════════╪════════════════════╪═══════════╪══════════════════╪═════════════════════╪════════════════════╪════════════╡\n",
            "│ Periodo 1 │                   18 │                 18 │        10 │               27 │                  20 │                  8 │         -7 │\n",
            "├───────────┼──────────────────────┼────────────────────┼───────────┼──────────────────┼─────────────────────┼────────────────────┼────────────┤\n",
            "│ Periodo 2 │                    0 │                  8 │         7 │                0 │                  14 │                  1 │          7 │\n",
            "╘═══════════╧══════════════════════╧════════════════════╧═══════════╧══════════════════╧═════════════════════╧════════════════════╧════════════╛\n",
            "Al final del periodo 1 se vendieron  0 revistas\n",
            "La ganancial total al final del mes es: $ 7.6\n"
          ]
        }
      ]
    }
  ]
}