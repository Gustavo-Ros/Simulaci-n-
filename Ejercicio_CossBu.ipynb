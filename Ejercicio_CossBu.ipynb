{
  "nbformat": 4,
  "nbformat_minor": 0,
  "metadata": {
    "colab": {
      "provenance": [],
      "authorship_tag": "ABX9TyO+tZKUPPnYgMWL/JiSTWha",
      "include_colab_link": true
    },
    "kernelspec": {
      "name": "python3",
      "display_name": "Python 3"
    },
    "language_info": {
      "name": "python"
    }
  },
  "cells": [
    {
      "cell_type": "markdown",
      "metadata": {
        "id": "view-in-github",
        "colab_type": "text"
      },
      "source": [
        "<a href=\"https://colab.research.google.com/github/Gustavo-Ros/Simulacion-1/blob/main/Ejercicio_CossBu.ipynb\" target=\"_parent\"><img src=\"https://colab.research.google.com/assets/colab-badge.svg\" alt=\"Open In Colab\"/></a>"
      ]
    },
    {
      "cell_type": "code",
      "source": [
        "import random as rnd\n",
        "import numpy as np\n",
        "from tabulate import tabulate\n",
        "import matplotlib.pyplot as plt\n",
        "import pandas as pd\n",
        "import scipy.optimize as optimize"
      ],
      "metadata": {
        "id": "Fe5hGfmLJcE6"
      },
      "execution_count": 101,
      "outputs": []
    },
    {
      "cell_type": "code",
      "source": [
        "def demanda_1():                            #Esta función calcula y devuelve la demanda\n",
        "  prob=[0,0.05,0.1,0.2,0.35,0.6,0.85,1]\n",
        "  u=rnd.random()\n",
        "  for i in range(len(prob)):\n",
        "      if prob[i-1] <= u <= prob[i]:       #Ubica el valor de u en inervalos\n",
        "          x=i+4                           #Asigna valor de demanda\n",
        "          break\n",
        "  return x"
      ],
      "metadata": {
        "id": "_khSgEr3Jde2"
      },
      "execution_count": 82,
      "outputs": []
    },
    {
      "cell_type": "code",
      "source": [
        "def demanda_2():                            #Esta función calcula y devuelve la demanda\n",
        "  prob=[0,0.15,0.35,0.65,0.85,1]\n",
        "  u=rnd.random()\n",
        "  for i in range(len(prob)):\n",
        "      if prob[i-1] <= u <= prob[i]:       #Ubica el valor de u en inervalos\n",
        "          x=i+3                           #Asigna valor de demanda\n",
        "          break\n",
        "  return x"
      ],
      "metadata": {
        "id": "bFnPadaRJfcF"
      },
      "execution_count": 83,
      "outputs": []
    },
    {
      "cell_type": "code",
      "source": [
        "def ganancias(ganancia,demanda,revistas,gastos,precio_venta):    #  Calcula las ganancias del periodo en curso\n",
        "\n",
        "  if demanda > revistas:\n",
        "    ventas=revistas*precio_venta\n",
        "  else:\n",
        "    ventas=demanda*precio_venta\n",
        "\n",
        "  ganancia+=ventas-gastos\n",
        "  return ganancia,ventas"
      ],
      "metadata": {
        "id": "lYs_-S0fJhYm"
      },
      "execution_count": 102,
      "outputs": []
    },
    {
      "cell_type": "code",
      "source": [
        "costo_revistas1=1.5\n",
        "sobrantes_final=0.6\n",
        "costo2=1.2\n",
        "precio_sobrantes=0.9\n",
        "precio_venta=2\n",
        "\n",
        "sobrantes=rnd.randint(1,10)"
      ],
      "metadata": {
        "id": "BQlga2PYJjQM"
      },
      "execution_count": 89,
      "outputs": []
    },
    {
      "cell_type": "code",
      "source": [
        "compra1=rnd.randint(1,19)"
      ],
      "metadata": {
        "id": "kQa4aTPpJtSA"
      },
      "execution_count": null,
      "outputs": []
    },
    {
      "cell_type": "code",
      "source": [
        "def PERIODO_1(compra1,costo_revistas1,precio_venta):\n",
        "  tabla=[]\n",
        "  gastos=compra1*costo        # Calcula los gastos\n",
        "  ganancia_total=0\n",
        "  demanda1=demanda_1()        # Calcula la demanda en el primer periodo\n",
        "\n",
        "  if compra1-demanda1 <= 0:\n",
        "    inventario=0\n",
        "  else:\n",
        "    inventario=compra1-demanda1\n",
        "\n",
        "  # Calcula las ventas y ganancias de las ventas en el primer periodo\n",
        "  ganancia_total,venta1=ganancias(ganancia_total,demanda1,compra1,gastos,precio_venta)\n",
        "  tabla.append([\"Periodo 1\",f\"{compra1}\",f\"{demanda1}\",f\"{gastos}\",f\"{venta1}\",f\"{ganancia_total}\",f\"{inventario}\"])\n",
        "  return inventario,ganancia_total,tabla"
      ],
      "metadata": {
        "id": "oT5LAhL3JlQD"
      },
      "execution_count": 103,
      "outputs": []
    },
    {
      "cell_type": "code",
      "source": [
        "#-------------------------------  PERIODO 1 : Primeros 10 días------------------\n",
        "compra1=rnd.randint(1,19)\n",
        "inventario,ganancia_total,tabla=PERIODO_1(compra1,costo_revistas1,precio_venta)\n",
        "\n",
        "headers=[\"\",\"Revistas compradas\",\"demanda\",\"Gastos\",\"Ventas\",\"Ganancia\",\"Inventario\"]\n",
        "print(tabulate(tabla, headers=headers, tablefmt=\"fancy_grid\",showindex=False))"
      ],
      "metadata": {
        "id": "_tMko20cKTXj",
        "outputId": "677d569d-52b6-4c9d-d16c-a9bb7c6d0ccc",
        "colab": {
          "base_uri": "https://localhost:8080/"
        }
      },
      "execution_count": 157,
      "outputs": [
        {
          "output_type": "stream",
          "name": "stdout",
          "text": [
            "╒═══════════╤══════════════════════╤═══════════╤══════════╤══════════╤════════════╤══════════════╕\n",
            "│           │   Revistas compradas │   demanda │   Gastos │   Ventas │   Ganancia │   Inventario │\n",
            "╞═══════════╪══════════════════════╪═══════════╪══════════╪══════════╪════════════╪══════════════╡\n",
            "│ Periodo 1 │                   11 │         9 │     16.5 │       18 │        1.5 │            2 │\n",
            "╘═══════════╧══════════════════════╧═══════════╧══════════╧══════════╧════════════╧══════════════╛\n"
          ]
        }
      ]
    },
    {
      "cell_type": "code",
      "source": [
        "compra2=rnd.randint(0,8)\n",
        "#sobrantes=rnd.randint(1,10)\n",
        "demanda2=demanda_2()        # Calcula la demanda en el segundo periodo\n",
        "if inventario <= 4:\n",
        "  sobrantes=0\n",
        "else:\n"
      ],
      "metadata": {
        "id": "dQPX_CNELmBP"
      },
      "execution_count": 158,
      "outputs": []
    },
    {
      "cell_type": "code",
      "source": [
        "compra2"
      ],
      "metadata": {
        "id": "pcMEAankW-nC",
        "outputId": "7f089d1c-c753-4bf9-eca4-0ad8ba1254b0",
        "colab": {
          "base_uri": "https://localhost:8080/"
        }
      },
      "execution_count": 159,
      "outputs": [
        {
          "output_type": "execute_result",
          "data": {
            "text/plain": [
              "4"
            ]
          },
          "metadata": {},
          "execution_count": 159
        }
      ]
    },
    {
      "cell_type": "code",
      "source": [
        "demanda2"
      ],
      "metadata": {
        "id": "9bZsAnBBXZPa",
        "outputId": "a88879a7-3a7d-4b51-d0a7-52e5b2960c9b",
        "colab": {
          "base_uri": "https://localhost:8080/"
        }
      },
      "execution_count": 160,
      "outputs": [
        {
          "output_type": "execute_result",
          "data": {
            "text/plain": [
              "4"
            ]
          },
          "metadata": {},
          "execution_count": 160
        }
      ]
    },
    {
      "cell_type": "code",
      "source": [
        "import numpy as np\n",
        "from scipy.optimize import minimize\n",
        "\n",
        "# Función objetivo para maximizar la ganancia\n",
        "def objective_function(sobrantes):\n",
        "    ganancia, venta_s = ganancias(ganancia_total, demanda2, inventario - sobrantes, costo2, precio_sobrantes)\n",
        "    return ganancia  # Devolvemos -ganancia para maximizar\n",
        "\n",
        "# Restricciones\n",
        "constraints = [{'type': 'ineq', 'fun': lambda sobrantes: sobrantes},  # sobrantes >= 0\n",
        "               {'type': 'ineq', 'fun': lambda sobrantes: inventario - sobrantes}]  # sobrantes <= inventario\n",
        "\n",
        "# Valor inicial para sobrantes (opcional)\n",
        "s0 = 0  # Puedes elegir otro valor inicial según el problema\n",
        "\n",
        "# Optimización\n",
        "resultado = minimize(objective_function, s0, constraints=constraints)\n",
        "\n",
        "# Obtenemos el valor óptimo de sobrantes\n",
        "optimo_sobrantes = np.round(resultado.x[0])\n",
        "\n",
        "# Imprimimos el resultado\n",
        "print(f\"El valor óptimo de sobrantes dentro del rango [0, {inventario}] es: {optimo_sobrantes}\")\n",
        "ganancia, venta_s = ganancias(ganancia_total, demanda2, inventario - optimo_sobrantes, costo2, precio_sobrantes)\n",
        "print(ganancia)\n"
      ],
      "metadata": {
        "id": "ghFVCD8lWaUM",
        "outputId": "81528f70-3da3-4f0d-839a-daab5686e5b3",
        "colab": {
          "base_uri": "https://localhost:8080/"
        }
      },
      "execution_count": 163,
      "outputs": [
        {
          "output_type": "stream",
          "name": "stdout",
          "text": [
            "El valor óptimo de sobrantes dentro del rango [0, 2] es: 2.0\n",
            "0.30000000000000004\n"
          ]
        }
      ]
    }
  ]
}