{
  "nbformat": 4,
  "nbformat_minor": 0,
  "metadata": {
    "colab": {
      "provenance": [],
      "authorship_tag": "ABX9TyMS6YmrjOWBBYAU4A5WAKLh",
      "include_colab_link": true
    },
    "kernelspec": {
      "name": "python3",
      "display_name": "Python 3"
    },
    "language_info": {
      "name": "python"
    }
  },
  "cells": [
    {
      "cell_type": "markdown",
      "metadata": {
        "id": "view-in-github",
        "colab_type": "text"
      },
      "source": [
        "<a href=\"https://colab.research.google.com/github/Gustavo-Ros/Simulacion-1/blob/main/Ejercicio_CossBu.ipynb\" target=\"_parent\"><img src=\"https://colab.research.google.com/assets/colab-badge.svg\" alt=\"Open In Colab\"/></a>"
      ]
    },
    {
      "cell_type": "code",
      "source": [
        "import random as rnd\n",
        "import numpy as np\n",
        "from tabulate import tabulate\n",
        "import matplotlib.pyplot as plt\n",
        "import pandas as pd\n",
        "from scipy.optimize import minimize_scalar"
      ],
      "metadata": {
        "id": "Fe5hGfmLJcE6"
      },
      "execution_count": 171,
      "outputs": []
    },
    {
      "cell_type": "code",
      "source": [
        "def demanda_1():                            #Esta función calcula y devuelve la demanda\n",
        "  prob=[0,0.05,0.1,0.2,0.35,0.6,0.85,1]\n",
        "  u=rnd.random()\n",
        "  for i in range(len(prob)):\n",
        "      if prob[i-1] <= u <= prob[i]:       #Ubica el valor de u en inervalos\n",
        "          x=i+4                           #Asigna valor de demanda\n",
        "          break\n",
        "  return x"
      ],
      "metadata": {
        "id": "_khSgEr3Jde2"
      },
      "execution_count": 82,
      "outputs": []
    },
    {
      "cell_type": "code",
      "source": [
        "def demanda_2():                            #Esta función calcula y devuelve la demanda\n",
        "  prob=[0,0.15,0.35,0.65,0.85,1]\n",
        "  u=rnd.random()\n",
        "  for i in range(len(prob)):\n",
        "      if prob[i-1] <= u <= prob[i]:       #Ubica el valor de u en inervalos\n",
        "          x=i+3                           #Asigna valor de demanda\n",
        "          break\n",
        "  return x"
      ],
      "metadata": {
        "id": "bFnPadaRJfcF"
      },
      "execution_count": 83,
      "outputs": []
    },
    {
      "cell_type": "code",
      "source": [
        "def ganancias(ganancia,demanda,revistas,gastos,precio_venta):    #  Calcula las ganancias del periodo en curso\n",
        "\n",
        "  if demanda > revistas:\n",
        "    ventas=revistas*precio_venta\n",
        "  else:\n",
        "    ventas=demanda*precio_venta\n",
        "\n",
        "  ganancia+=ventas-gastos\n",
        "  return ganancia"
      ],
      "metadata": {
        "id": "lYs_-S0fJhYm"
      },
      "execution_count": 164,
      "outputs": []
    },
    {
      "cell_type": "code",
      "source": [
        "costo_revistas1=1.5\n",
        "sobrantes_final=0.6\n",
        "costo2=1.2\n",
        "precio_sobrantes=0.9\n",
        "precio_venta=2\n",
        "\n",
        "sobrantes=rnd.randint(1,10)"
      ],
      "metadata": {
        "id": "BQlga2PYJjQM"
      },
      "execution_count": 89,
      "outputs": []
    },
    {
      "cell_type": "code",
      "source": [
        "compra1=rnd.randint(1,19)"
      ],
      "metadata": {
        "id": "kQa4aTPpJtSA"
      },
      "execution_count": null,
      "outputs": []
    },
    {
      "cell_type": "code",
      "source": [
        "def PERIODO_1(compra1,costo_revistas1,precio_venta):\n",
        "  tabla=[]\n",
        "  gastos=compra1*costo        # Calcula los gastos\n",
        "  ganancia_total=0\n",
        "  demanda1=demanda_1()        # Calcula la demanda en el primer periodo\n",
        "\n",
        "  if compra1-demanda1 <= 0:\n",
        "    inventario=0\n",
        "  else:\n",
        "    inventario=compra1-demanda1\n",
        "\n",
        "  # Calcula las ventas y ganancias de las ventas en el primer periodo\n",
        "  ganancia_total=ganancias(ganancia_total,demanda1,compra1,gastos,precio_venta)\n",
        "  tabla.append([\"Periodo 1\",f\"{compra1}\",f\"{demanda1}\",f\"{gastos}\",f\"{ganancia_total}\",f\"{inventario}\"])\n",
        "  return inventario,ganancia_total,tabla"
      ],
      "metadata": {
        "id": "oT5LAhL3JlQD"
      },
      "execution_count": 166,
      "outputs": []
    },
    {
      "cell_type": "code",
      "source": [
        "#-------------------------------  PERIODO 1 : Primeros 10 días------------------\n",
        "compra1=rnd.randint(1,19)\n",
        "inventario,ganancia_total,tabla=PERIODO_1(compra1,costo_revistas1,precio_venta)\n",
        "\n",
        "headers=[\"\",\"Revistas compradas\",\"demanda\",\"Gastos\",\"Ganancia\",\"Inventario\"]\n",
        "print(tabulate(tabla, headers=headers, tablefmt=\"fancy_grid\",showindex=False))"
      ],
      "metadata": {
        "colab": {
          "base_uri": "https://localhost:8080/"
        },
        "id": "_tMko20cKTXj",
        "outputId": "db8d438d-792b-43dc-a6d0-900b3310b723"
      },
      "execution_count": 193,
      "outputs": [
        {
          "output_type": "stream",
          "name": "stdout",
          "text": [
            "╒═══════════╤══════════════════════╤═══════════╤══════════╤════════════╤══════════════╕\n",
            "│           │   Revistas compradas │   demanda │   Gastos │   Ganancia │   Inventario │\n",
            "╞═══════════╪══════════════════════╪═══════════╪══════════╪════════════╪══════════════╡\n",
            "│ Periodo 1 │                   19 │        10 │     28.5 │       -8.5 │            9 │\n",
            "╘═══════════╧══════════════════════╧═══════════╧══════════╧════════════╧══════════════╛\n"
          ]
        }
      ]
    },
    {
      "cell_type": "code",
      "source": [
        "compra2=rnd.randint(0,8)\n",
        "#sobrantes=rnd.randint(1,10)\n",
        "demanda2=demanda_2()        # Calcula la demanda en el segundo periodo\n",
        "if inventario <= 4:\n",
        "  sobrantes=0\n"
      ],
      "metadata": {
        "id": "dQPX_CNELmBP"
      },
      "execution_count": 199,
      "outputs": []
    },
    {
      "cell_type": "code",
      "source": [
        "demanda2"
      ],
      "metadata": {
        "id": "UXT-wHX1c0XI",
        "outputId": "6b3b87b8-739f-4cc7-9c4c-250497e99434",
        "colab": {
          "base_uri": "https://localhost:8080/"
        }
      },
      "execution_count": 198,
      "outputs": [
        {
          "output_type": "execute_result",
          "data": {
            "text/plain": [
              "7"
            ]
          },
          "metadata": {},
          "execution_count": 198
        }
      ]
    },
    {
      "cell_type": "code",
      "source": [
        "def restriccion(sobrantes):\n",
        "    return inventario - sobrantes  # sobrantes debe ser <= inventari\n",
        "\n",
        "resultado = minimize_scalar(lambda x: ganancias(ganancia_total,demanda2,inventario-sobrantes,0,precio_sobrantes), bounds=(0, inventario), method='bounded')\n",
        "sobrantes_optimizado = np.round(resultado.x)\n",
        "# Mostrar resultados\n",
        "print(f\"Sobrantes óptimo para maximizar ganancias: {sobrantes_optimizado}\")\n",
        "print(f\"Ganancias máximas obtenidas: {ganancias(ganancia_total,demanda2,inventario-sobrantes_optimizado,0,precio_sobrantes)}\")"
      ],
      "metadata": {
        "id": "P4KUZpdib3oa",
        "outputId": "b6e2591a-582b-4ede-a90f-f3a890841b5f",
        "colab": {
          "base_uri": "https://localhost:8080/"
        }
      },
      "execution_count": 197,
      "outputs": [
        {
          "output_type": "stream",
          "name": "stdout",
          "text": [
            "Sobrantes óptimo para maximizar ganancias: 9.0\n",
            "Ganancias máximas obtenidas: -8.5\n"
          ]
        }
      ]
    }
  ]
}