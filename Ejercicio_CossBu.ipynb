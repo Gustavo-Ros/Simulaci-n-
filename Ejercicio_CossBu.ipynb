{
  "nbformat": 4,
  "nbformat_minor": 0,
  "metadata": {
    "colab": {
      "provenance": [],
      "authorship_tag": "ABX9TyM0u5zO918E+LaI/HsIZHC7",
      "include_colab_link": true
    },
    "kernelspec": {
      "name": "python3",
      "display_name": "Python 3"
    },
    "language_info": {
      "name": "python"
    }
  },
  "cells": [
    {
      "cell_type": "markdown",
      "metadata": {
        "id": "view-in-github",
        "colab_type": "text"
      },
      "source": [
        "<a href=\"https://colab.research.google.com/github/Gustavo-Ros/Simulacion-1/blob/main/Ejercicio_CossBu.ipynb\" target=\"_parent\"><img src=\"https://colab.research.google.com/assets/colab-badge.svg\" alt=\"Open In Colab\"/></a>"
      ]
    },
    {
      "cell_type": "markdown",
      "source": [
        "# EJERCICIO 5.7\n",
        "\n",
        "Un vendedor de revistas compra mensualmente una revista el día primero de cada mes. El costo de cada ejemplar es de $1.50. La demanda de esta revista en los primeros 10 días del mes sigue la siguiente distribución de probabilidad:\n",
        "\n",
        "\\begin{matrix}\n",
        "Demanda & 5 & 6 & 7 & 8 & 9 & 10 & 11 \\\\\n",
        "Probabilidad & 0.05 & 0.05 & 0.10 & 0.15 & 0.25 & 0.25 & 0.15\n",
        "\\end{matrix}\n"
      ],
      "metadata": {
        "id": "3FGezF9V0TY4"
      }
    },
    {
      "cell_type": "markdown",
      "source": [
        "Al final del décimo día, el vendedor puede regresar cualquier cantidad al proveedor, quien se las pagará a \\$0.60  el ejemplar, o comprar más a \\\\$1.20 el ejemlar. La demadna en los siguientes 20 días está dada por las siguiente distribución de probabilidad:\n",
        "\n",
        "\\begin{matrix}\n",
        "Demanda & 4 & 5 & 6 & 7 & 8  \\\\\n",
        "Probabilidad & 0.15 & 0.20 & 0.30 & 0.20 & 0.15\n",
        "\\end{matrix}"
      ],
      "metadata": {
        "id": "Ek8LjfIC05E3"
      }
    },
    {
      "cell_type": "markdown",
      "source": [
        "Al final del mes, el vendedor puede regresar al proveedor las revistas que le sobren, las cuales se le pagarán a \\\\$0.60 el ejemplar. Finalmente, se asume que después de un mes ya no existe demanda por parte delpúblico, puesto que para ese entonces ya habría aparecido el nuevo número de la revista. Si el precio al público es de \\$2 por ejemplar, determine la política óptima de compra."
      ],
      "metadata": {
        "id": "dZTpgW_11iav"
      }
    },
    {
      "cell_type": "markdown",
      "source": [
        "#CÓDIGO"
      ],
      "metadata": {
        "id": "X_UsM7KT2Hr-"
      }
    },
    {
      "cell_type": "code",
      "source": [
        "#Se cargan las líbrerias\n",
        "import random as rnd\n",
        "import numpy as np\n",
        "from tabulate import tabulate\n",
        "import matplotlib.pyplot as plt\n",
        "import pandas as pd\n",
        "from scipy.optimize import minimize_scalar"
      ],
      "metadata": {
        "id": "Fe5hGfmLJcE6"
      },
      "execution_count": 238,
      "outputs": []
    },
    {
      "cell_type": "code",
      "source": [
        "def demanda_1():                          #Esta función calcula y devuelve la demanda del 1er periodo\n",
        "  prob=[0,0.05,0.1,0.2,0.35,0.6,0.85,1]\n",
        "  u=rnd.random()\n",
        "  for i in range(len(prob)):\n",
        "      if prob[i-1] <= u <= prob[i]:       #Ubica el valor de u en inervalos\n",
        "          x=i+4                           #Asigna valor de demanda\n",
        "          break\n",
        "  return x"
      ],
      "metadata": {
        "id": "_khSgEr3Jde2"
      },
      "execution_count": 239,
      "outputs": []
    },
    {
      "cell_type": "code",
      "source": [
        "def demanda_2():                          #Esta función calcula y devuelve la demanda del 2do periodo\n",
        "  prob=[0,0.15,0.35,0.65,0.85,1]\n",
        "  u=rnd.random()\n",
        "  for i in range(len(prob)):\n",
        "      if prob[i-1] <= u <= prob[i]:       #Ubica el valor de u en inervalos\n",
        "          x=i+3                           #Asigna valor de demanda\n",
        "          break\n",
        "  return x"
      ],
      "metadata": {
        "id": "bFnPadaRJfcF"
      },
      "execution_count": 240,
      "outputs": []
    },
    {
      "cell_type": "code",
      "source": [
        "def ganancias(ganancia,demanda,revistas,gastos,precio_venta):    #  Calcula las ganancias del periodo en curso\n",
        "\n",
        "  if demanda > revistas:            #Este condicional permite vender solo las revistas disponibles\n",
        "    ventas=revistas*precio_venta\n",
        "  else:\n",
        "    ventas=demanda*precio_venta\n",
        "\n",
        "  ganancia+=ventas-gastos           #Calcula las ganancias de vender las revistas\n",
        "  return ganancia,ventas"
      ],
      "metadata": {
        "id": "lYs_-S0fJhYm"
      },
      "execution_count": 241,
      "outputs": []
    },
    {
      "cell_type": "code",
      "source": [
        "def PERIODO_1(compra1,costo_revistas1,precio_venta):  #Calcula los resultados del primer periodo\n",
        "  tabla=[]\n",
        "  gastos=compra1*costo_revistas1        # Calcula los gastos\n",
        "  ganancia_total=0\n",
        "  demanda1=demanda_1()                  # Calcula la demanda en el primer periodo\n",
        "\n",
        "  if compra1-demanda1 <= 0:             # Decide si hay inventario disponible o no\n",
        "    inventario=0\n",
        "  else:\n",
        "    inventario=compra1-demanda1\n",
        "\n",
        "  # Calcula las ventas y ganancias de las ventas en el primer periodo\n",
        "  ganancia_total,venta=ganancias(ganancia_total,demanda1,compra1,gastos,precio_venta)\n",
        "  # Guarda resultados en una tabla\n",
        "  tabla.append([\"Periodo 1\",f\"{compra1}\",f\"{compra1}\",f\"{demanda1}\",f\"{gastos}\",f\"{venta}\",f\"{inventario}\",f\"{ganancia_total}\"])\n",
        "  return inventario,ganancia_total,tabla"
      ],
      "metadata": {
        "id": "oT5LAhL3JlQD"
      },
      "execution_count": 242,
      "outputs": []
    },
    {
      "cell_type": "code",
      "source": [
        " # Calcula los resultados del segundo periodo\n",
        " def PERIODO_2(inventario,ganancia_total,compra2,costo_revistas2,precio_venta,tabla,sobrantes):\n",
        "\n",
        "  demanda2=demanda_2()        # Calcula la demanda en el segundo periodo\n",
        "\n",
        "  if inventario < 4:          # Decide si hay revistas sobrantes para vender\n",
        "    sobrantes=0\n",
        "  elif inventario >= 8:\n",
        "    sobrantes=inventario-8\n",
        "    compra2=0\n",
        "\n",
        "  gastos2=compra2*costo_revistas2     # Calcula los gastos de la segunda compra de revistas\n",
        "\n",
        "  if inventario+compra2-demanda2-sobrantes <= 0:\n",
        "    inventario=0\n",
        "\n",
        "  if inventario+compra2-sobrantes-demanda2<=0:    # Decide si hay inventario disponible o no\n",
        "    inv_final=0\n",
        "  else:\n",
        "    inv_final=inventario+compra2-sobrantes-demanda2\n",
        "\n",
        "  # Calcula las ventas y ganancias de las ventas en el primer periodo\n",
        "  ganancia_total,venta=ganancias(ganancia_total,demanda2,inventario+compra2-sobrantes,gastos2,precio_venta)\n",
        "  # Guarda resultados en una tabla\n",
        "  tabla.append([\"Periodo 2\",f\"{compra2}\",f\"{inventario+compra2-sobrantes}\",f\"{demanda2}\",f\"{gastos2}\",f\"{venta}\",f\"{inv_final}\",f\"{ganancia_total}\"])\n",
        "\n",
        "  return inventario,ganancia_total,tabla,inv_final"
      ],
      "metadata": {
        "id": "mJxs-joUf7WT"
      },
      "execution_count": 244,
      "outputs": []
    },
    {
      "cell_type": "markdown",
      "source": [
        "## RESULTADOS DE 1 ITERACIÓN"
      ],
      "metadata": {
        "id": "8QTWTMyA33EA"
      }
    },
    {
      "cell_type": "code",
      "source": [
        " def ejercicio_revistas(compra1,compra2):\n",
        "\n",
        "  #------------------------------ PARÁMETROS INICIALES ---------------------------\n",
        "  costo_revistas1=1.5\n",
        "  sobrantes_final=0.6\n",
        "  costo_revistas2=1.2\n",
        "  precio_sobrantes=0.9\n",
        "  precio_venta=2\n",
        "  sobrantes=0\n",
        "\n",
        "  #-------------------------------  PERIODO 1 : Primeros 10 días------------------\n",
        "  inventario,ganancia_total,tabla=PERIODO_1(compra1,costo_revistas1,precio_venta)\n",
        "\n",
        "  #-------------------------------  PERIODO 2 : Siguientes 20 días----------------\n",
        "  inventario,ganancia_total,tabla,inv_final=PERIODO_2(inventario, ganancia_total,compra2,costo_revistas2,precio_venta,tabla,sobrantes)\n",
        "\n",
        "  headers=[\"\",\"Revistas compradas\",\"Revistas totales\",\"Demanda\",\"Costo revistas\",\"Venta de revistas\",\"Inventario final\",\"Ganancia\"]\n",
        "  print(tabulate(tabla, headers=headers, tablefmt=\"fancy_grid\",showindex=False))\n",
        "\n",
        "  ganancia_total+=inv_final*sobrantes_final\n",
        "\n",
        "  #-------------------------------  RESULTADOS FIN DE MES ------------------------\n",
        "\n",
        "  print(\"Al final del periodo 1 se vendieron \", sobrantes, \"revistas\")\n",
        "\n",
        "  if ganancia_total<0:\n",
        "    print('La pérdida al final del mes es: ', ganancia_total)\n",
        "  else:\n",
        "    print('La ganancial total al final del mes es: $', ganancia_total)\n",
        "  return ganancia_total"
      ],
      "metadata": {
        "id": "_tMko20cKTXj"
      },
      "execution_count": 234,
      "outputs": []
    },
    {
      "cell_type": "code",
      "source": [
        "compra1=rnd.randint(1,19)\n",
        "compra2=rnd.randint(4,8)\n",
        "ganancias_mes=ejercicio_revistas(compra1,compra2)"
      ],
      "metadata": {
        "colab": {
          "base_uri": "https://localhost:8080/"
        },
        "id": "8pr432MXr6yg",
        "outputId": "6e9e9e61-0c85-4d67-e7f5-8b3b8c29eaa2"
      },
      "execution_count": 232,
      "outputs": [
        {
          "output_type": "stream",
          "name": "stdout",
          "text": [
            "╒═══════════╤══════════════════════╤════════════════════╤═══════════╤══════════════════╤═════════════════════╤════════════════════╤════════════╕\n",
            "│           │   Revistas compradas │   Revistas totales │   Demanda │   Costo revistas │   Venta de revistas │   Inventario final │   Ganancia │\n",
            "╞═══════════╪══════════════════════╪════════════════════╪═══════════╪══════════════════╪═════════════════════╪════════════════════╪════════════╡\n",
            "│ Periodo 1 │                   17 │                 17 │        11 │             25.5 │                  22 │                  6 │       -3.5 │\n",
            "├───────────┼──────────────────────┼────────────────────┼───────────┼──────────────────┼─────────────────────┼────────────────────┼────────────┤\n",
            "│ Periodo 2 │                    8 │                 14 │         6 │              9.6 │                  12 │                  8 │       -1.1 │\n",
            "╘═══════════╧══════════════════════╧════════════════════╧═══════════╧══════════════════╧═════════════════════╧════════════════════╧════════════╛\n",
            "Al final del periodo 1 se vendieron  0 revistas\n",
            "La ganancial total al final del mes es: $ 3.7\n"
          ]
        }
      ]
    },
    {
      "cell_type": "markdown",
      "source": [
        "## OPTIMIZACIÓN DE RESULTADOS"
      ],
      "metadata": {
        "id": "niv7gCLK37Qb"
      }
    },
    {
      "cell_type": "code",
      "source": [
        " def opti_ejercicio_revistas(compra1,compra2):\n",
        "\n",
        "  #------------------------------ PARÁMETROS INICIALES ---------------------------\n",
        "  costo_revistas1=1.5\n",
        "  sobrantes_final=0.6\n",
        "  costo_revistas2=1.2\n",
        "  precio_sobrantes=0.9\n",
        "  precio_venta=2\n",
        "  sobrantes=0\n",
        "\n",
        "  #-------------------------------  PERIODO 1 : Primeros 10 días------------------\n",
        "  inventario,ganancia_total,tabla=PERIODO_1(compra1,costo_revistas1,precio_venta)\n",
        "\n",
        "  #-------------------------------  PERIODO 2 : Siguientes 20 días----------------\n",
        "  inventario,ganancia_total,tabla,inv_final=PERIODO_2(inventario, ganancia_total,compra2,costo_revistas2,precio_venta,tabla,sobrantes)\n",
        "\n",
        "  ganancia_total+=inv_final*sobrantes_final\n",
        "\n",
        "  return ganancia_total"
      ],
      "metadata": {
        "id": "hBEHoeYNyzEs"
      },
      "execution_count": 245,
      "outputs": []
    },
    {
      "cell_type": "code",
      "source": [
        "# Este bloque de código encuentra las compras óptimas de revistas  en los periodos 1 y 2\n",
        "mejor_ganancia = float('-inf')\n",
        "mejor_compra1 = None\n",
        "mejor_compra2 = None\n",
        "iteraciones = 1000  # Número de iteraciones a realizar\n",
        "\n",
        "for _ in range(iteraciones):        # Realiza 1000 iteraciones para explorar resultados\n",
        "    compra1 = rnd.randint(1, 19)\n",
        "    compra2 = rnd.randint(4, 8)\n",
        "    ganancias_mes = opti_ejercicio_revistas(compra1, compra2)\n",
        "\n",
        "    if ganancias_mes > mejor_ganancia:  # Actualiza la mejor ganancia y las compras óptimas\n",
        "        mejor_ganancia = ganancias_mes\n",
        "        mejor_compra1 = compra1\n",
        "        mejor_compra2 = compra2\n",
        "\n",
        "# Imprime resultados\n",
        "\n",
        "print(f\"Máxima ganancia: ${mejor_ganancia}\")\n",
        "print(f\"Compra 1 óptima: {mejor_compra1}\")\n",
        "print(f\"Compra 2 óptima: {mejor_compra2}\")\n"
      ],
      "metadata": {
        "collapsed": true,
        "colab": {
          "base_uri": "https://localhost:8080/"
        },
        "id": "YMfTUSIPxfU9",
        "outputId": "413d1a21-8fe1-4c0b-eaa7-36bb388caad4"
      },
      "execution_count": 246,
      "outputs": [
        {
          "output_type": "stream",
          "name": "stdout",
          "text": [
            "Máxima ganancia: $11.9\n",
            "Compra 1 óptima: 11\n",
            "Compra 2 óptima: 8\n"
          ]
        }
      ]
    }
  ]
}