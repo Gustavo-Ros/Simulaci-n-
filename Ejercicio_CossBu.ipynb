{
  "nbformat": 4,
  "nbformat_minor": 0,
  "metadata": {
    "colab": {
      "provenance": [],
      "authorship_tag": "ABX9TyMM/W4g3xNecP4+NTJbAx81",
      "include_colab_link": true
    },
    "kernelspec": {
      "name": "python3",
      "display_name": "Python 3"
    },
    "language_info": {
      "name": "python"
    }
  },
  "cells": [
    {
      "cell_type": "markdown",
      "metadata": {
        "id": "view-in-github",
        "colab_type": "text"
      },
      "source": [
        "<a href=\"https://colab.research.google.com/github/Gustavo-Ros/Simulacion-1/blob/main/Ejercicio_CossBu.ipynb\" target=\"_parent\"><img src=\"https://colab.research.google.com/assets/colab-badge.svg\" alt=\"Open In Colab\"/></a>"
      ]
    },
    {
      "cell_type": "code",
      "execution_count": 1,
      "metadata": {
        "id": "CtUFgTZS3vU0"
      },
      "outputs": [],
      "source": [
        "import random as rnd\n",
        "import numpy as np\n",
        "from tabulate import tabulate\n",
        "import matplotlib.pyplot as plt\n",
        "import pandas as pd"
      ]
    },
    {
      "cell_type": "code",
      "source": [
        "def demanda_1():                            #Esta función calcula y devuelve la demanda\n",
        "  prob=[0,0.05,0.1,0.2,0.35,0.6,0.85,1]\n",
        "  u=rnd.random()\n",
        "  for i in range(len(prob)):\n",
        "      if prob[i-1] <= u <= prob[i]:       #Ubica el valor de u en inervalos\n",
        "          x=i+4                           #Asigna valor de demanda\n",
        "          break\n",
        "  return x"
      ],
      "metadata": {
        "id": "Z5GalP0C3zK-"
      },
      "execution_count": 2,
      "outputs": []
    },
    {
      "cell_type": "code",
      "source": [
        "def demanda_2():                            #Esta función calcula y devuelve la demanda\n",
        "  prob=[0,0.15,0.35,0.65,0.85,1]\n",
        "  u=rnd.random()\n",
        "  for i in range(len(prob)):\n",
        "      if prob[i-1] <= u <= prob[i]:       #Ubica el valor de u en inervalos\n",
        "          x=i+3                           #Asigna valor de demanda\n",
        "          break\n",
        "  return x"
      ],
      "metadata": {
        "id": "bCQ4atoa31Sd"
      },
      "execution_count": 3,
      "outputs": []
    },
    {
      "cell_type": "code",
      "source": [
        "def ganancias(ganancia,demanda,revistas,gastos,precio_venta):    #  Calcula las ganancias del periodo en curso\n",
        "\n",
        "  if demanda > revistas:\n",
        "    ventas=revistas*precio_venta\n",
        "  else:\n",
        "    ventas=demanda*precio_venta\n",
        "\n",
        "  ganancia=ventas-gastos\n",
        "  return ganancia,ventas"
      ],
      "metadata": {
        "id": "EtGwlqcK33FS"
      },
      "execution_count": 4,
      "outputs": []
    },
    {
      "cell_type": "code",
      "source": [
        "costo=1.5\n",
        "pago=0.9\n",
        "costo2=1.2\n",
        "precio_sobrantes=0.6\n",
        "precio_venta=2\n",
        "revistas=10\n",
        "compra2=rnd.randint(0,8)\n",
        "sobrantes=rnd.randint(1,10)"
      ],
      "metadata": {
        "id": "n9XaMuFE35ij"
      },
      "execution_count": 29,
      "outputs": []
    },
    {
      "cell_type": "code",
      "source": [
        "def decision(inventario, precio_sobrantes, sobrantes, compra2, costo2):\n",
        "  #optimizar sobrantes\n",
        "  if inventario!=0:\n",
        "    if inventario < 4:\n",
        "      sobrantes=0\n",
        "\n",
        "  return sobrantes"
      ],
      "metadata": {
        "id": "jIDv-IrX4H4x"
      },
      "execution_count": 30,
      "outputs": []
    },
    {
      "cell_type": "code",
      "source": [
        "tabla=[]\n",
        "\n",
        "#-------------------------------  PERIODO 1 : Primeros 10 días------------------\n",
        "\n",
        "compra1=rnd.randint(1,19)   # Compra en el primer periodo de 10 días\n",
        "\n",
        "gastos=compra1*costo        # Calcula los gastos\n",
        "ganancia_total=0\n",
        "\n",
        "\n",
        "demanda1=demanda_1()        # Calcula la demanda en el primer periodo\n",
        "\n",
        "# Calcula las ventas y ganancias de las ventas en el primer periodo\n",
        "ganancia_total,venta1=ganancias(ganancia_total,demanda1,compra1,gastos,precio_venta)\n",
        "\n",
        "if compra1-demanda1 <= 0:\n",
        "  inventario=0\n",
        "else:\n",
        "  inventario=compra1-demanda1\n",
        "\n",
        "tabla.append([f\"{compra1}\",f\"{demanda1}\",f\"{gastos}\",f\"{venta1}\",f\"{ganancia_total}\",f\"{inventario}\"])\n",
        "\n",
        "\n",
        "#-------------------------------  PERIODO 1 : Siguientes 20 días------------------\n",
        "\n",
        "if inventario!=0:\n",
        "  if inventario < 4:\n",
        "    sobrantes=0\n",
        "  elif inventario > 8:\n",
        "    compra2=0\n",
        "\n",
        "ganancia_total+=sobrantes*precio_sobrantes\n",
        "gastos=compra2*costo2        # Calcula los gastos\n",
        "demanda2=demanda_2()\n",
        "\n",
        "ganancia_2,venta2=ganancias(ganancia_total,demanda2,compra2,gastos,precio_venta)\n",
        "ganancia_total+=ganancia_2\n",
        "if inventario+compra1-demanda1 <= 0:\n",
        "  inventario=0\n",
        "else:\n",
        "  inventario+=compra1-demanda1\n",
        "\n",
        "tabla.append([f\"{compra2}\",f\"{demanda2}\",f\"{gastos}\",f\"{venta2}\",f\"{ganancia_total}\",f\"{inventario}\"])\n",
        "headers=[\"Revistas compradas\",\"demanda\",\"Gastos\",\"Ventas\",\"Ganancia\",\"Inventario\"]\n",
        "print(sobrantes)\n",
        "print(tabulate(tabla, headers=headers, tablefmt=\"fancy_grid\",showindex=False))\n"
      ],
      "metadata": {
        "colab": {
          "base_uri": "https://localhost:8080/"
        },
        "id": "irvH4jUx-dvC",
        "outputId": "0a235838-b755-4c0e-9969-64a09ba92a46"
      },
      "execution_count": 35,
      "outputs": [
        {
          "output_type": "stream",
          "name": "stdout",
          "text": [
            "0\n",
            "╒══════════════════════╤═══════════╤══════════╤══════════╤════════════╤══════════════╕\n",
            "│   Revistas compradas │   demanda │   Gastos │   Ventas │   Ganancia │   Inventario │\n",
            "╞══════════════════════╪═══════════╪══════════╪══════════╪════════════╪══════════════╡\n",
            "│                    5 │         9 │      7.5 │       10 │        2.5 │            0 │\n",
            "├──────────────────────┼───────────┼──────────┼──────────┼────────────┼──────────────┤\n",
            "│                    7 │         8 │      8.4 │       14 │        8.1 │            0 │\n",
            "╘══════════════════════╧═══════════╧══════════╧══════════╧════════════╧══════════════╛\n"
          ]
        }
      ]
    },
    {
      "cell_type": "code",
      "source": [
        "tabla=[]\n",
        "\n",
        "#-------------------------------  PERIODO 1 : Primeros 10 días------------------\n",
        "\n",
        "compra1=rnd.randint(1,19)   # Compra en el primer periodo de 10 días\n",
        "\n",
        "gastos=compra1*costo        # Calcula los gastos\n",
        "ganancia_total=0\n",
        "\n",
        "\n",
        "demanda1=demanda_1()        # Calcula la demanda en el primer periodo\n",
        "\n",
        "# Calcula las ventas y ganancias de las ventas en el primer periodo\n",
        "ganancia_total,venta1=ganancias(ganancia_total,demanda1,compra1,gastos,precio_venta)\n",
        "\n",
        "if compra1-demanda1 <= 0:\n",
        "  inventario=0\n",
        "else:\n",
        "  inventario=compra1-demanda1\n",
        "\n",
        "#-------------------------------------------------------------------------------\n",
        "\n",
        "\n",
        "\n",
        "\n",
        "\n",
        "\n",
        "\n",
        "\n",
        "tabla.append([f\"{compra1}\",f\"{demanda1}\",f\"{gastos}\",f\"{venta1}\",f\"{ganancia_total}\",f\"{inventario}\"])\n",
        "headers=[\"Revistas compradas\",\"demanda\",\"Gastos\",\"Ventas\",\"Ganancia\",\"Inventario\"]\n",
        "\n",
        "print(tabulate(tabla, headers=headers, tablefmt=\"fancy_grid\",showindex=False))\n"
      ],
      "metadata": {
        "colab": {
          "base_uri": "https://localhost:8080/"
        },
        "id": "eP--YLJo37Tu",
        "outputId": "dc6cbf79-7f12-49fc-b578-8898ea3de91b"
      },
      "execution_count": 31,
      "outputs": [
        {
          "output_type": "stream",
          "name": "stdout",
          "text": [
            "╒══════════════════════╤═══════════╤══════════╤══════════╤════════════╤══════════════╕\n",
            "│   Revistas compradas │   demanda │   Gastos │   Ventas │   Ganancia │   Inventario │\n",
            "╞══════════════════════╪═══════════╪══════════╪══════════╪════════════╪══════════════╡\n",
            "│                   14 │         5 │       21 │       10 │        -11 │            9 │\n",
            "╘══════════════════════╧═══════════╧══════════╧══════════╧════════════╧══════════════╛\n"
          ]
        }
      ]
    }
  ]
}