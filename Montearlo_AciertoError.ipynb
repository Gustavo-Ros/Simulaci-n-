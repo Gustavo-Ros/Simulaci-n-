{
  "nbformat": 4,
  "nbformat_minor": 0,
  "metadata": {
    "colab": {
      "provenance": [],
      "authorship_tag": "ABX9TyNsXOA2B/XoF6A0vFcSKjN8",
      "include_colab_link": true
    },
    "kernelspec": {
      "name": "python3",
      "display_name": "Python 3"
    },
    "language_info": {
      "name": "python"
    }
  },
  "cells": [
    {
      "cell_type": "markdown",
      "metadata": {
        "id": "view-in-github",
        "colab_type": "text"
      },
      "source": [
        "<a href=\"https://colab.research.google.com/github/Gustavo-Ros/Simulacion-1/blob/main/Montearlo_AciertoError.ipynb\" target=\"_parent\"><img src=\"https://colab.research.google.com/assets/colab-badge.svg\" alt=\"Open In Colab\"/></a>"
      ]
    },
    {
      "cell_type": "code",
      "execution_count": 36,
      "metadata": {
        "id": "6EYb_sgSjbGa"
      },
      "outputs": [],
      "source": [
        "import random as rnd\n",
        "import numpy as np\n",
        "import matplotlib.pyplot as plt"
      ]
    },
    {
      "cell_type": "code",
      "source": [
        "def g(x):       #Esta función calcula los valores gi(x_i) y las guarda en una lista\n",
        "  g_i=np.sqrt(np.arctan(x))\n",
        "  return g_i"
      ],
      "metadata": {
        "id": "pnE8KPCXj6CU"
      },
      "execution_count": 37,
      "outputs": []
    },
    {
      "cell_type": "code",
      "source": [
        "def aceptacion_rechazo(n,Ui,g_i,a,b,c):     #Esta función aplica la condición de Aceptación y rechazo\n",
        "  aciertos=0\n",
        "  for i in range(n):\n",
        "    if c*Ui[i-1] < g_i[i-1]:                #Condición de aceptación\n",
        "      aciertos+=1                           #Aumenta el no. de acierto en +1\n",
        "  I=c*(b-a)*aciertos/n                      #Calcula la estimación mediante la media muestral\n",
        "  return I"
      ],
      "metadata": {
        "id": "siYG4BFOemRd"
      },
      "execution_count": 38,
      "outputs": []
    },
    {
      "cell_type": "code",
      "source": [
        "def exp(n,a,b,c):                           #Esta función realiza los experimentos\n",
        "  Ui1=np.random.uniform(0, 1, n)            #Genera primer número aleatorio\n",
        "  Ui2=np.random.uniform(0, 1, n)            #Genera segundo número aleatorio\n",
        "\n",
        "  Xi=a+Ui1*(b-a)                            #Calcula la lista Xi\n",
        "  g_i=g(Xi)                                 #Calcula la lista gi\n",
        "\n",
        "  I=aceptacion_rechazo(n,Ui2,g_i,a,b,c)\n",
        "\n",
        "  return I"
      ],
      "metadata": {
        "id": "ibYkY_rWjoKU"
      },
      "execution_count": 39,
      "outputs": []
    },
    {
      "cell_type": "code",
      "source": [
        "def histograma(aprox):\n",
        "  plt.hist(aprox, bins=25, color='green', alpha=0.7)\n",
        "  plt.title('1000 experimentos de 50 iteraciones')\n",
        "  plt.axvline(np.mean(aprox),label='Media')\n",
        "  plt.xlabel('Valor de la integral')\n",
        "  plt.ylabel('Frecuencia')\n",
        "  plt.legend()\n",
        "  print('Estimación: ', np.mean(aprox))\n",
        "  return"
      ],
      "metadata": {
        "id": "7zqSMIYokPx5"
      },
      "execution_count": 40,
      "outputs": []
    },
    {
      "cell_type": "code",
      "source": [
        "#Simulacion\n",
        "\n",
        "#Parametros\n",
        "m=1000                          #Número de iteraciones\n",
        "n=50                            #Tamaño de la experimentos\n",
        "a=0                             #Límite inferior de la integral\n",
        "b=1                             #Límite superior de la integral\n",
        "c=np.sqrt(np.arctan(1))         #Cota superior g(x)<c\n",
        "aprox=[]\n",
        "\n",
        "for i in range(m):              #Simulación de m experimentos\n",
        "  aprox.append(exp(n,a,b,c))\n",
        "\n",
        "histograma(aprox)"
      ],
      "metadata": {
        "colab": {
          "base_uri": "https://localhost:8080/",
          "height": 489
        },
        "id": "8PrArS5bmFhT",
        "outputId": "66812916-1d7e-42b3-ba25-f3b74f231819"
      },
      "execution_count": 50,
      "outputs": [
        {
          "output_type": "stream",
          "name": "stdout",
          "text": [
            "Estimación:  0.625321718599466\n"
          ]
        },
        {
          "output_type": "display_data",
          "data": {
            "text/plain": [
              "<Figure size 640x480 with 1 Axes>"
            ],
            "image/png": "[encoded data removed]"
          },
          "metadata": {}
        }
      ]
    },
    {
      "cell_type": "code",
      "source": [],
      "metadata": {
        "id": "Y-KD1Ku4kM_X"
      },
      "execution_count": null,
      "outputs": []
    }
  ]
}