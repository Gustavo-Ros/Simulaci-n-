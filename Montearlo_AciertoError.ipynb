{
  "nbformat": 4,
  "nbformat_minor": 0,
  "metadata": {
    "colab": {
      "provenance": [],
      "authorship_tag": "ABX9TyNfdbJ7w9aIanvKR+ClM6zr",
      "include_colab_link": true
    },
    "kernelspec": {
      "name": "python3",
      "display_name": "Python 3"
    },
    "language_info": {
      "name": "python"
    }
  },
  "cells": [
    {
      "cell_type": "markdown",
      "metadata": {
        "id": "view-in-github",
        "colab_type": "text"
      },
      "source": [
        "<a href=\"https://colab.research.google.com/github/Gustavo-Ros/Simulacion-1/blob/main/Montearlo_AciertoError.ipynb\" target=\"_parent\"><img src=\"https://colab.research.google.com/assets/colab-badge.svg\" alt=\"Open In Colab\"/></a>"
      ]
    },
    {
      "cell_type": "code",
      "execution_count": 1,
      "metadata": {
        "id": "6EYb_sgSjbGa"
      },
      "outputs": [],
      "source": [
        "import random as rnd\n",
        "import numpy as np\n",
        "import matplotlib.pyplot as plt"
      ]
    },
    {
      "cell_type": "code",
      "source": [
        "def g(x):       #Esta función calcula las funciones gi(x) y las guarad en una lista\n",
        "  g_i=np.sqrt(np.arctan(x))\n",
        "  return g_i"
      ],
      "metadata": {
        "id": "pnE8KPCXj6CU"
      },
      "execution_count": 3,
      "outputs": []
    },
    {
      "cell_type": "code",
      "source": [
        "a=0\n",
        "b=1\n",
        "c=np.sqrt(np.arctan(1))\n",
        "n=1000\n",
        "c"
      ],
      "metadata": {
        "colab": {
          "base_uri": "https://localhost:8080/"
        },
        "id": "iDJCZd3LjyAD",
        "outputId": "c04a6b6b-44e8-4841-8fad-28a6fc1bb12c"
      },
      "execution_count": 10,
      "outputs": [
        {
          "output_type": "execute_result",
          "data": {
            "text/plain": [
              "0.8862269254527579"
            ]
          },
          "metadata": {},
          "execution_count": 10
        }
      ]
    },
    {
      "cell_type": "code",
      "source": [
        " def exp(n,a,b,c):\n",
        "  Ui1=np.random.uniform(0, 1, n)\n",
        "  Ui2=np.random.uniform(0, 1, n)\n",
        "\n",
        "  Xi=a+Ui1*(b-a)\n",
        "  g_i=g(Xi)\n",
        "\n",
        "  aciertos=0\n",
        "\n",
        "  for i in range(n):\n",
        "    if c*Ui2[i-1] < g_i[i-1]:\n",
        "      aciertos+=1\n",
        "  I=c*(b-a)*aciertos/n\n",
        "  return I"
      ],
      "metadata": {
        "id": "ibYkY_rWjoKU"
      },
      "execution_count": 14,
      "outputs": []
    },
    {
      "cell_type": "code",
      "source": [
        "#Simulacion\n",
        "\n",
        "#Parametros\n",
        "m=1000        #Número de iteraciones\n",
        "n=50           #Tamaño de la experimentos\n",
        "a=0             #Límite inferior de la integral\n",
        "b=1             #Límite superior de la integral\n",
        "c=np.sqrt(np.arctan(1))\n",
        "aprox=[]\n",
        "for i in range(m):\n",
        "  aprox.append(exp(n,a,b,c))\n",
        "\n",
        "print(np.mean(aprox))"
      ],
      "metadata": {
        "colab": {
          "base_uri": "https://localhost:8080/"
        },
        "id": "8PrArS5bmFhT",
        "outputId": "c88a96cb-807b-48b3-e6e3-6952dcfca5d0"
      },
      "execution_count": 18,
      "outputs": [
        {
          "output_type": "stream",
          "name": "stdout",
          "text": [
            "0.6309935709223636\n"
          ]
        }
      ]
    }
  ]
}